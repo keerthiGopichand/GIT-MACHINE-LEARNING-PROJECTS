{
 "cells": [
  {
   "cell_type": "markdown",
   "id": "1d49e4c8",
   "metadata": {},
   "source": [
    "# MODULE 2"
   ]
  },
  {
   "cell_type": "markdown",
   "id": "669dd8a5",
   "metadata": {},
   "source": [
    "# 1. Shows how you can create a session in Tensor Flow"
   ]
  },
  {
   "cell_type": "markdown",
   "id": "0729c4cf",
   "metadata": {},
   "source": [
    "ans:\n",
    "In TensorFlow, sessions have been an essential part of the API for managing computations. However, starting from TensorFlow version 2.0, eager execution is enabled by default, and sessions are no longer required for most operations. Nevertheless, for users working with older TensorFlow versions or needing to interact with specific parts of the API that require sessions, it's helpful to know how to create one."
   ]
  },
  {
   "cell_type": "code",
   "execution_count": 1,
   "id": "015d68a5",
   "metadata": {},
   "outputs": [],
   "source": [
    "import tensorflow as tf"
   ]
  },
  {
   "cell_type": "code",
   "execution_count": 2,
   "id": "580e05b2",
   "metadata": {},
   "outputs": [],
   "source": [
    "a = tf.constant(5)\n",
    "b = tf.constant(10)"
   ]
  },
  {
   "cell_type": "code",
   "execution_count": 3,
   "id": "1300d902",
   "metadata": {},
   "outputs": [],
   "source": [
    "result = tf.add(a, b)"
   ]
  },
  {
   "cell_type": "code",
   "execution_count": 9,
   "id": "fbd8d2af",
   "metadata": {},
   "outputs": [],
   "source": [
    " output = (result)\n",
    "    "
   ]
  },
  {
   "cell_type": "code",
   "execution_count": 10,
   "id": "310944fa",
   "metadata": {},
   "outputs": [
    {
     "data": {
      "text/plain": [
       "<tf.Tensor: shape=(), dtype=int32, numpy=5>"
      ]
     },
     "execution_count": 10,
     "metadata": {},
     "output_type": "execute_result"
    }
   ],
   "source": [
    "a"
   ]
  },
  {
   "cell_type": "code",
   "execution_count": 11,
   "id": "3f3cb1ff",
   "metadata": {},
   "outputs": [
    {
     "data": {
      "text/plain": [
       "<tf.Tensor: shape=(), dtype=int32, numpy=10>"
      ]
     },
     "execution_count": 11,
     "metadata": {},
     "output_type": "execute_result"
    }
   ],
   "source": [
    "b"
   ]
  },
  {
   "cell_type": "markdown",
   "id": "d8742fdd",
   "metadata": {},
   "source": [
    "# 2. Define constants and perform computation such as addition and subtraction with those\n",
    "constants using the session"
   ]
  },
  {
   "cell_type": "code",
   "execution_count": 16,
   "id": "6fde5d70",
   "metadata": {},
   "outputs": [],
   "source": [
    "a = tf.constant(5)\n",
    "b = tf.constant(10)"
   ]
  },
  {
   "cell_type": "code",
   "execution_count": 18,
   "id": "c20a3fcf",
   "metadata": {},
   "outputs": [],
   "source": [
    "# Define computation operations (addition and subtraction)"
   ]
  },
  {
   "cell_type": "code",
   "execution_count": 17,
   "id": "e2b30cd1",
   "metadata": {},
   "outputs": [],
   "source": [
    "addition_op = tf.add(a, b)\n",
    "subtraction_op = tf.subtract(a, b)"
   ]
  },
  {
   "cell_type": "code",
   "execution_count": 28,
   "id": "fb77e8dc",
   "metadata": {},
   "outputs": [
    {
     "name": "stdout",
     "output_type": "stream",
     "text": [
      "tf.Tensor(15, shape=(), dtype=int32)\n"
     ]
    }
   ],
   "source": [
    "print(addim = tf.Variable(2.0, dtype=tf.float32)\n",
    "c = tf.Variable(1.0, dtype=tf.float32)tion_op)\n",
    "\n",
    "    "
   ]
  },
  {
   "cell_type": "code",
   "execution_count": 30,
   "id": "eb284cf4",
   "metadata": {},
   "outputs": [
    {
     "name": "stdout",
     "output_type": "stream",
     "text": [
      "tf.Tensor(-5, shape=(), dtype=int32)\n"
     ]
    }
   ],
   "source": [
    "print(subtraction_op)"
   ]
  },
  {
   "cell_type": "markdown",
   "id": "ba27123e",
   "metadata": {},
   "source": [
    "3.Print Hello World using the same "
   ]
  },
  {
   "cell_type": "code",
   "execution_count": 31,
   "id": "4dcc0cf9",
   "metadata": {},
   "outputs": [],
   "source": [
    "hello = tf.constant(\"Hello, World!\")"
   ]
  },
  {
   "cell_type": "code",
   "execution_count": 32,
   "id": "e0cc8cf6",
   "metadata": {},
   "outputs": [
    {
     "name": "stdout",
     "output_type": "stream",
     "text": [
      "tf.Tensor(b'Hello, World!', shape=(), dtype=string)\n"
     ]
    }
   ],
   "source": [
    "print(hello)"
   ]
  },
  {
   "cell_type": "markdown",
   "id": "7aa62b43",
   "metadata": {},
   "source": [
    "# Create a simple Linear Equation y = mx+c in tensor flow, where m and c are variables\n",
    "and x is a placeholder\n",
    "a. Feed in a scalar value to x\n",
    "b. Feed in a vector of 5 values to x\n",
    "c. Choose arbitrary values for m and c "
   ]
  },
  {
   "cell_type": "code",
   "execution_count": 34,
   "id": "1d377d6d",
   "metadata": {},
   "outputs": [],
   "source": [
    "m = tf.Variable(2.0, dtype=tf.float32)\n",
    "c = tf.Variable(1.0, dtype=tf.float32)"
   ]
  },
  {
   "cell_type": "code",
   "execution_count": 38,
   "id": "6384128f",
   "metadata": {},
   "outputs": [
    {
     "name": "stdout",
     "output_type": "stream",
     "text": [
      "<tf.Variable 'Variable:0' shape=() dtype=float32, numpy=2.0>\n"
     ]
    }
   ],
   "source": [
    "print(m)"
   ]
  },
  {
   "cell_type": "code",
   "execution_count": 39,
   "id": "78ffabc3",
   "metadata": {},
   "outputs": [
    {
     "name": "stdout",
     "output_type": "stream",
     "text": [
      "<tf.Variable 'Variable:0' shape=() dtype=float32, numpy=1.0>\n"
     ]
    }
   ],
   "source": [
    "print(c)"
   ]
  },
  {
   "cell_type": "code",
   "execution_count": 56,
   "id": "ef840005",
   "metadata": {},
   "outputs": [],
   "source": [
    " x_scalar_value = 3.0"
   ]
  },
  {
   "cell_type": "code",
   "execution_count": 65,
   "id": "b3ce178f",
   "metadata": {},
   "outputs": [
    {
     "name": "stdout",
     "output_type": "stream",
     "text": [
      "3.0\n"
     ]
    }
   ],
   "source": [
    " print(x_scalar_value)"
   ]
  },
  {
   "cell_type": "code",
   "execution_count": 69,
   "id": "77719d13",
   "metadata": {},
   "outputs": [
    {
     "name": "stdout",
     "output_type": "stream",
     "text": [
      "<class 'type'>\n"
     ]
    }
   ],
   "source": [
    "print(type)"
   ]
  },
  {
   "cell_type": "code",
   "execution_count": 66,
   "id": "deebf140",
   "metadata": {},
   "outputs": [],
   "source": [
    "x_vector_values = [1.0, 2.0, 3.0, 4.0, 5.0]"
   ]
  },
  {
   "cell_type": "code",
   "execution_count": 67,
   "id": "1e56ac61",
   "metadata": {},
   "outputs": [
    {
     "name": "stdout",
     "output_type": "stream",
     "text": [
      "[1.0, 2.0, 3.0, 4.0, 5.0]\n"
     ]
    }
   ],
   "source": [
    "print(x_vector_values)"
   ]
  },
  {
   "cell_type": "code",
   "execution_count": 68,
   "id": "09028eb8",
   "metadata": {},
   "outputs": [
    {
     "name": "stdout",
     "output_type": "stream",
     "text": [
      "<class 'type'>\n"
     ]
    }
   ],
   "source": [
    "print(type)"
   ]
  },
  {
   "cell_type": "code",
   "execution_count": 70,
   "id": "891e456b",
   "metadata": {},
   "outputs": [],
   "source": [
    "m = tf.Variable(3.0, dtype=tf.float32)\n",
    "c = tf.Variable(5.0, dtype=tf.float32)"
   ]
  },
  {
   "cell_type": "code",
   "execution_count": 73,
   "id": "3ad44a4c",
   "metadata": {},
   "outputs": [
    {
     "name": "stdout",
     "output_type": "stream",
     "text": [
      "<tf.Variable 'Variable:0' shape=() dtype=float32, numpy=3.0>\n"
     ]
    }
   ],
   "source": [
    "print(m)"
   ]
  },
  {
   "cell_type": "code",
   "execution_count": 74,
   "id": "c9f16cdd",
   "metadata": {},
   "outputs": [
    {
     "name": "stdout",
     "output_type": "stream",
     "text": [
      "5\n"
     ]
    }
   ],
   "source": [
    "print(shape)"
   ]
  },
  {
   "cell_type": "code",
   "execution_count": 75,
   "id": "23cb2dca",
   "metadata": {},
   "outputs": [
    {
     "name": "stdout",
     "output_type": "stream",
     "text": [
      "<tf.Variable 'Variable:0' shape=() dtype=float32, numpy=5.0>\n"
     ]
    }
   ],
   "source": [
    "print(c)"
   ]
  },
  {
   "cell_type": "code",
   "execution_count": 76,
   "id": "ad03774d",
   "metadata": {},
   "outputs": [
    {
     "name": "stdout",
     "output_type": "stream",
     "text": [
      "5\n"
     ]
    }
   ],
   "source": [
    "print(shape)"
   ]
  },
  {
   "cell_type": "code",
   "execution_count": 77,
   "id": "c4a3ed36",
   "metadata": {},
   "outputs": [],
   "source": [
    "m_value = 3.0"
   ]
  },
  {
   "cell_type": "code",
   "execution_count": 78,
   "id": "301fb055",
   "metadata": {},
   "outputs": [],
   "source": [
    "c_value = 2.0"
   ]
  },
  {
   "cell_type": "code",
   "execution_count": 83,
   "id": "c19569ac",
   "metadata": {},
   "outputs": [],
   "source": [
    "x_scale_value = 5.0"
   ]
  },
  {
   "cell_type": "markdown",
   "id": "a882e5da",
   "metadata": {},
   "source": [
    "# y = mx+c"
   ]
  },
  {
   "cell_type": "code",
   "execution_count": 81,
   "id": "c831be75",
   "metadata": {},
   "outputs": [],
   "source": [
    "y = 3.0 * 5.0 + 2.0"
   ]
  },
  {
   "cell_type": "code",
   "execution_count": 82,
   "id": "ebb11715",
   "metadata": {},
   "outputs": [
    {
     "name": "stdout",
     "output_type": "stream",
     "text": [
      "17.0\n"
     ]
    }
   ],
   "source": [
    "print(y)"
   ]
  },
  {
   "cell_type": "markdown",
   "id": "843ee20d",
   "metadata": {},
   "source": [
    "# conclusion"
   ]
  },
  {
   "cell_type": "markdown",
   "id": "a378f913",
   "metadata": {},
   "source": [
    "\n",
    "In this code, we chose arbitrary values for m_value = 3.0 and c_value = 2.0. We then define m and c as variables with these chosen values. We proceed with the same procedure as before, using a scalar value x_scalar_value = 5.0 for x, and the output will be the result of y = 3.0 * 5.0 + 2.0, which is 17.0"
   ]
  },
  {
   "cell_type": "code",
   "execution_count": null,
   "id": "bca103e4",
   "metadata": {},
   "outputs": [],
   "source": []
  }
 ],
 "metadata": {
  "kernelspec": {
   "display_name": "Python 3 (ipykernel)",
   "language": "python",
   "name": "python3"
  },
  "language_info": {
   "codemirror_mode": {
    "name": "ipython",
    "version": 3
   },
   "file_extension": ".py",
   "mimetype": "text/x-python",
   "name": "python",
   "nbconvert_exporter": "python",
   "pygments_lexer": "ipython3",
   "version": "3.10.9"
  }
 },
 "nbformat": 4,
 "nbformat_minor": 5
}
