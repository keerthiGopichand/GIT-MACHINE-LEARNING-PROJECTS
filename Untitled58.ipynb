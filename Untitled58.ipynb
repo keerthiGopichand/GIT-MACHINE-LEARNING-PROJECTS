{
 "cells": [
  {
   "cell_type": "markdown",
   "id": "6a774928",
   "metadata": {},
   "source": [
    "# Python Basics Assignment\n"
   ]
  },
  {
   "cell_type": "markdown",
   "id": "0ac7e8ad",
   "metadata": {},
   "source": [
    " Using Python script as a calculator\n",
    "Create the variables n, r, p and assign them values 10, 5, and 100 respectively. Then\n",
    "evaluate the following expression in the Python console.\n",
    "𝐴 = 𝑝 (1 + 𝑟/ 100)n"
   ]
  },
  {
   "cell_type": "code",
   "execution_count": 5,
   "id": "5f6d4aaf",
   "metadata": {},
   "outputs": [],
   "source": [
    "n = 10\n",
    "r = 5\n",
    "p = 100"
   ]
  },
  {
   "cell_type": "code",
   "execution_count": 6,
   "id": "72b4fdd0",
   "metadata": {},
   "outputs": [],
   "source": [
    "A = p * (1 + r / 100)**n"
   ]
  },
  {
   "cell_type": "code",
   "execution_count": 8,
   "id": "aa1b8a5d",
   "metadata": {},
   "outputs": [
    {
     "data": {
      "text/plain": [
       "162.8894626777442"
      ]
     },
     "execution_count": 8,
     "metadata": {},
     "output_type": "execute_result"
    }
   ],
   "source": [
    "A"
   ]
  },
  {
   "cell_type": "markdown",
   "id": "aa47972a",
   "metadata": {},
   "source": [
    " In a given string format operation, how will you print the given string.\n",
    "A = 10\n",
    "B = 20\n",
    "Str = \"There are {} students in the class, with {} who play at least one sport.\""
   ]
  },
  {
   "cell_type": "code",
   "execution_count": 9,
   "id": "66fdf2c1",
   "metadata": {},
   "outputs": [],
   "source": [
    "A = 10\n",
    "B = 20"
   ]
  },
  {
   "cell_type": "code",
   "execution_count": 11,
   "id": "7088bee0",
   "metadata": {},
   "outputs": [],
   "source": [
    "Str = \"There are {} students in the class, with {} who play at least one sport.\""
   ]
  },
  {
   "cell_type": "code",
   "execution_count": 12,
   "id": "e2eb09ac",
   "metadata": {},
   "outputs": [],
   "source": [
    "formatted_string = Str.format(A, B)"
   ]
  },
  {
   "cell_type": "code",
   "execution_count": 14,
   "id": "41e64b7e",
   "metadata": {},
   "outputs": [
    {
     "name": "stdout",
     "output_type": "stream",
     "text": [
      "There are 10 students in the class, with 20 who play at least one sport.\n"
     ]
    }
   ],
   "source": [
    "print(formatted_string)"
   ]
  },
  {
   "cell_type": "markdown",
   "id": "07904671",
   "metadata": {},
   "source": [
    " In a given sample string, How do you print a double quoted string in between a\n",
    "regular\n",
    "string using the escape character?"
   ]
  },
  {
   "cell_type": "code",
   "execution_count": 15,
   "id": "68857118",
   "metadata": {},
   "outputs": [
    {
     "name": "stdout",
     "output_type": "stream",
     "text": [
      "It goes without saying, \"Time is Money\", and none can deny it.\n"
     ]
    }
   ],
   "source": [
    "print(\"It goes without saying, \\\"Time is Money\\\", and none can deny it.\")"
   ]
  },
  {
   "cell_type": "markdown",
   "id": "c97556c8",
   "metadata": {},
   "source": [
    " 4. What will be the output of the following code?\n",
    "x = lambda a,b: a//b\n",
    "x(10,3)"
   ]
  },
  {
   "cell_type": "code",
   "execution_count": 16,
   "id": "43c62b0c",
   "metadata": {},
   "outputs": [
    {
     "data": {
      "text/plain": [
       "3"
      ]
     },
     "execution_count": 16,
     "metadata": {},
     "output_type": "execute_result"
    }
   ],
   "source": [
    "10//3"
   ]
  },
  {
   "cell_type": "markdown",
   "id": "57d786ce",
   "metadata": {},
   "source": [
    "5. What will be the output of the following code?\n",
    "A = 10\n",
    "B = 12\n"
   ]
  },
  {
   "cell_type": "code",
   "execution_count": 36,
   "id": "f716a770",
   "metadata": {},
   "outputs": [],
   "source": [
    "A=10\n",
    "B=12"
   ]
  },
  {
   "cell_type": "code",
   "execution_count": 38,
   "id": "0eacf7ae",
   "metadata": {},
   "outputs": [
    {
     "name": "stdout",
     "output_type": "stream",
     "text": [
      "Greater\n"
     ]
    }
   ],
   "source": [
    "print(\"Smaller\")if A == B else print(\"Greater\")  if A < B else print(\"True\")\n"
   ]
  },
  {
   "cell_type": "markdown",
   "id": "205cb46c",
   "metadata": {},
   "source": [
    "6. What will be the output of the following code?"
   ]
  },
  {
   "cell_type": "code",
   "execution_count": 39,
   "id": "d54b9a53",
   "metadata": {},
   "outputs": [],
   "source": [
    "import numpy as np"
   ]
  },
  {
   "cell_type": "code",
   "execution_count": 41,
   "id": "d4d1cd18",
   "metadata": {},
   "outputs": [
    {
     "name": "stdout",
     "output_type": "stream",
     "text": [
      "[2, 7, 3, 5, 4, 6]\n"
     ]
    }
   ],
   "source": [
    "my_list = [2,7,3,5,4,6]\n",
    "print(my_list)\n"
   ]
  },
  {
   "cell_type": "code",
   "execution_count": 42,
   "id": "9d4bf46c",
   "metadata": {},
   "outputs": [
    {
     "ename": "NameError",
     "evalue": "name 'numpy' is not defined",
     "output_type": "error",
     "traceback": [
      "\u001b[1;31m---------------------------------------------------------------------------\u001b[0m",
      "\u001b[1;31mNameError\u001b[0m                                 Traceback (most recent call last)",
      "Cell \u001b[1;32mIn[42], line 1\u001b[0m\n\u001b[1;32m----> 1\u001b[0m arr_1 \u001b[38;5;241m=\u001b[39m \u001b[43mnumpy\u001b[49m\u001b[38;5;241m.\u001b[39marry(my_list1, dtype \u001b[38;5;241m=\u001b[39m \u001b[38;5;28mint\u001b[39m)\n\u001b[0;32m      2\u001b[0m \u001b[38;5;28mprint\u001b[39m(arr_1)\n",
      "\u001b[1;31mNameError\u001b[0m: name 'numpy' is not defined"
     ]
    }
   ],
   "source": [
    "arr_1 = numpy.arry(my_list1, dtype = int)\n",
    "print(arr_1)"
   ]
  },
  {
   "cell_type": "markdown",
   "id": "f2cc8981",
   "metadata": {},
   "source": [
    " Create a string called ‘string’ with the value as “Machine Learning”. Which code(s)\n",
    "is/are appropriate to slice the substring “Learn”?"
   ]
  },
  {
   "cell_type": "code",
   "execution_count": 43,
   "id": "b1290d8b",
   "metadata": {},
   "outputs": [],
   "source": [
    "string = \"Machine Learning\""
   ]
  },
  {
   "cell_type": "code",
   "execution_count": 44,
   "id": "0acb4f86",
   "metadata": {},
   "outputs": [],
   "source": [
    "substring = string[slice(8, 13, 1)]"
   ]
  },
  {
   "cell_type": "code",
   "execution_count": 46,
   "id": "21e30d96",
   "metadata": {},
   "outputs": [
    {
     "name": "stdout",
     "output_type": "stream",
     "text": [
      "Learn\n"
     ]
    }
   ],
   "source": [
    "print(substring)"
   ]
  },
  {
   "cell_type": "markdown",
   "id": "7d5311f2",
   "metadata": {},
   "source": [
    " To create a sequence of numbers from 10 to 25 with an increment of 4, you can use the range() function. Then, you can find the index of the value 18 in the sequence."
   ]
  },
  {
   "cell_type": "code",
   "execution_count": 55,
   "id": "5ba6ddb7",
   "metadata": {},
   "outputs": [],
   "source": [
    "numbers_sequence = list(range(10, 25, 4))"
   ]
  },
  {
   "cell_type": "code",
   "execution_count": 56,
   "id": "18bad0d0",
   "metadata": {},
   "outputs": [],
   "source": [
    "index_of_18 = numbers_sequence.index(18)"
   ]
  },
  {
   "cell_type": "code",
   "execution_count": 57,
   "id": "cd3f619d",
   "metadata": {},
   "outputs": [
    {
     "name": "stdout",
     "output_type": "stream",
     "text": [
      "The index of the value 18 is: 2\n"
     ]
    }
   ],
   "source": [
    "print(\"The index of the value 18 is:\", index_of_18)"
   ]
  },
  {
   "cell_type": "markdown",
   "id": "a9538529",
   "metadata": {},
   "source": [
    " Which of the following is true with respect to the below codes?"
   ]
  },
  {
   "cell_type": "code",
   "execution_count": 58,
   "id": "6d8741e4",
   "metadata": {},
   "outputs": [],
   "source": [
    "num1 = 4**5\n",
    "num2 = pow(4,5)"
   ]
  },
  {
   "cell_type": "code",
   "execution_count": 60,
   "id": "ffd3d24f",
   "metadata": {},
   "outputs": [
    {
     "name": "stdout",
     "output_type": "stream",
     "text": [
      "1024 1024\n"
     ]
    }
   ],
   "source": [
    "print(num1,num2)"
   ]
  },
  {
   "cell_type": "markdown",
   "id": "2f0ca189",
   "metadata": {},
   "source": [
    " ans: num1 = num2\n",
    "    "
   ]
  },
  {
   "cell_type": "markdown",
   "id": "327435fb",
   "metadata": {},
   "source": [
    " Python NameError exception is raised when: -\n"
   ]
  },
  {
   "cell_type": "markdown",
   "id": "b118311a",
   "metadata": {},
   "source": [
    " ans: Trying to access a variable which has not been defined"
   ]
  },
  {
   "cell_type": "markdown",
   "id": "e2f011b1",
   "metadata": {},
   "source": [
    " What type of exception will be raised for the code given below?"
   ]
  },
  {
   "cell_type": "code",
   "execution_count": 62,
   "id": "75f91ecc",
   "metadata": {},
   "outputs": [],
   "source": [
    "x = \"string\""
   ]
  },
  {
   "cell_type": "code",
   "execution_count": 64,
   "id": "c205bce3",
   "metadata": {},
   "outputs": [
    {
     "ename": "ValueError",
     "evalue": "invalid literal for int() with base 10: 'string'",
     "output_type": "error",
     "traceback": [
      "\u001b[1;31m---------------------------------------------------------------------------\u001b[0m",
      "\u001b[1;31mValueError\u001b[0m                                Traceback (most recent call last)",
      "Cell \u001b[1;32mIn[64], line 1\u001b[0m\n\u001b[1;32m----> 1\u001b[0m \u001b[38;5;28;43mint\u001b[39;49m\u001b[43m(\u001b[49m\u001b[43mx\u001b[49m\u001b[43m)\u001b[49m\n",
      "\u001b[1;31mValueError\u001b[0m: invalid literal for int() with base 10: 'string'"
     ]
    }
   ],
   "source": [
    "int(x)"
   ]
  },
  {
   "cell_type": "markdown",
   "id": "abd55e9c",
   "metadata": {},
   "source": [
    " ans: value error"
   ]
  },
  {
   "cell_type": "markdown",
   "id": "76a1912e",
   "metadata": {},
   "source": [
    "#A FileNotFoundError exception is raised by operating system errors when:\n",
    "    ans:\n",
    "b. A file or directory is requested but does not exist in the working directory"
   ]
  },
  {
   "cell_type": "markdown",
   "id": "913e9ee6",
   "metadata": {},
   "source": [
    " .Consider a variable Z. The value of Z is \"ID-5632\". Data type of Z is: -\n",
    "ans:\n",
    "b. Character\n",
    "\n"
   ]
  },
  {
   "cell_type": "markdown",
   "id": "0a75f5bc",
   "metadata": {},
   "source": [
    " Which of the following variable(s) are character data type?\n",
    "a. K= “4”\n",
    "b. J= “Welcome”\n",
    "c. L= “?”\n",
    "d. All of the above"
   ]
  },
  {
   "cell_type": "markdown",
   "id": "ecd837a2",
   "metadata": {},
   "source": [
    " ans:all of the above"
   ]
  },
  {
   "cell_type": "markdown",
   "id": "981fffdf",
   "metadata": {},
   "source": [
    " .Choose the symbol/s that does not have the ability to convert any values to string?\n",
    "a. ( )\n",
    "b. “ ”\n",
    "c. {}\n",
    "d. #\n"
   ]
  },
  {
   "cell_type": "markdown",
   "id": "022f0126",
   "metadata": {},
   "source": [
    " ans: #"
   ]
  },
  {
   "cell_type": "markdown",
   "id": "ffb4d1a7",
   "metadata": {},
   "source": [
    " Create the tuples given below\n",
    "tuple_1 = (1,5,6,7,8)\n",
    "tuple_2 = (8,9,4)\n",
    "Identify which of the following code does not work on a tuple."
   ]
  },
  {
   "cell_type": "code",
   "execution_count": 67,
   "id": "34ac5f56",
   "metadata": {},
   "outputs": [],
   "source": [
    "tuple_1 = (1, 5, 6, 7, 8)\n",
    "tuple_2 = (8, 9, 4)"
   ]
  },
  {
   "cell_type": "code",
   "execution_count": 72,
   "id": "07534b56",
   "metadata": {},
   "outputs": [
    {
     "name": "stdout",
     "output_type": "stream",
     "text": [
      "(1, 5, 6, 7, 8) (8, 9, 4)\n"
     ]
    }
   ],
   "source": [
    "print(tuple_1,tuple_2)"
   ]
  },
  {
   "cell_type": "markdown",
   "id": "663c7cfb",
   "metadata": {},
   "source": [
    " How many elements in the following data structure?"
   ]
  },
  {
   "cell_type": "code",
   "execution_count": 70,
   "id": "0b51c792",
   "metadata": {},
   "outputs": [],
   "source": [
    "s = (1, 2, 3, 4, 4, 4, 5, 6)\n",
    "num_elements = len(s)"
   ]
  },
  {
   "cell_type": "code",
   "execution_count": 71,
   "id": "416ff079",
   "metadata": {},
   "outputs": [
    {
     "name": "stdout",
     "output_type": "stream",
     "text": [
      "8\n"
     ]
    }
   ],
   "source": [
    "print(num_elements)"
   ]
  },
  {
   "cell_type": "markdown",
   "id": "2989e980",
   "metadata": {},
   "source": [
    " Write a function which finds all pythagorean triplets of triangles whose sides are no\n",
    "greater than a natural number N."
   ]
  },
  {
   "cell_type": "code",
   "execution_count": 73,
   "id": "4e5270c4",
   "metadata": {},
   "outputs": [],
   "source": [
    "def find_pythagorean_triplets(N):\n",
    "    triplets = []\n",
    "    for a in range(1, N + 1):\n",
    "        for b in range(a, N + 1):\n",
    "            c_squared = a**2 + b**2\n",
    "            c = int(c_squared**0.5)  # Taking the integer square root\n",
    "            if c <= N and c_squared == c**2:\n",
    "                triplets.append((a, b, c))\n",
    "    return triplets\n",
    "\n",
    "# Example usage:\n",
    "N = 20\n",
    "result = find_pythagorean_triplets(N)"
   ]
  },
  {
   "cell_type": "code",
   "execution_count": 74,
   "id": "6ffda329",
   "metadata": {},
   "outputs": [
    {
     "name": "stdout",
     "output_type": "stream",
     "text": [
      "[(3, 4, 5), (5, 12, 13), (6, 8, 10), (8, 15, 17), (9, 12, 15), (12, 16, 20)]\n"
     ]
    }
   ],
   "source": [
    "print(result)"
   ]
  },
  {
   "cell_type": "code",
   "execution_count": null,
   "id": "ac4cd834",
   "metadata": {},
   "outputs": [],
   "source": []
  }
 ],
 "metadata": {
  "kernelspec": {
   "display_name": "Python 3 (ipykernel)",
   "language": "python",
   "name": "python3"
  },
  "language_info": {
   "codemirror_mode": {
    "name": "ipython",
    "version": 3
   },
   "file_extension": ".py",
   "mimetype": "text/x-python",
   "name": "python",
   "nbconvert_exporter": "python",
   "pygments_lexer": "ipython3",
   "version": "3.10.9"
  }
 },
 "nbformat": 4,
 "nbformat_minor": 5
}
