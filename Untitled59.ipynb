{
 "cells": [
  {
   "cell_type": "markdown",
   "id": "0c5b388b",
   "metadata": {},
   "source": [
    "# Module 6: RNN Assignment "
   ]
  },
  {
   "cell_type": "markdown",
   "id": "7561353f",
   "metadata": {},
   "source": [
    " Using airline-passenger Dataset try to predict the number of passengers for next month,given the\n",
    "number of passengers (in units of thousands) for this month "
   ]
  },
  {
   "cell_type": "code",
   "execution_count": 3,
   "id": "8006e4fe",
   "metadata": {},
   "outputs": [],
   "source": [
    "import pandas as pd\n",
    "import numpy as np\n",
    "import matplotlib.pyplot as plt\n",
    "import seaborn as sns\n",
    "%matplotlib inline"
   ]
  },
  {
   "cell_type": "code",
   "execution_count": 5,
   "id": "5cab072e",
   "metadata": {},
   "outputs": [],
   "source": [
    "\n",
    "df = pd.read_csv(r\"C:\\Users\\GOPI CHAND\\Downloads\\folder1\\AirPassengers.csv\")"
   ]
  },
  {
   "cell_type": "code",
   "execution_count": 6,
   "id": "2285467a",
   "metadata": {},
   "outputs": [
    {
     "data": {
      "text/html": [
       "<div>\n",
       "<style scoped>\n",
       "    .dataframe tbody tr th:only-of-type {\n",
       "        vertical-align: middle;\n",
       "    }\n",
       "\n",
       "    .dataframe tbody tr th {\n",
       "        vertical-align: top;\n",
       "    }\n",
       "\n",
       "    .dataframe thead th {\n",
       "        text-align: right;\n",
       "    }\n",
       "</style>\n",
       "<table border=\"1\" class=\"dataframe\">\n",
       "  <thead>\n",
       "    <tr style=\"text-align: right;\">\n",
       "      <th></th>\n",
       "      <th>Month</th>\n",
       "      <th>#Passengers</th>\n",
       "    </tr>\n",
       "  </thead>\n",
       "  <tbody>\n",
       "    <tr>\n",
       "      <th>0</th>\n",
       "      <td>1949-01</td>\n",
       "      <td>112</td>\n",
       "    </tr>\n",
       "    <tr>\n",
       "      <th>1</th>\n",
       "      <td>1949-02</td>\n",
       "      <td>118</td>\n",
       "    </tr>\n",
       "    <tr>\n",
       "      <th>2</th>\n",
       "      <td>1949-03</td>\n",
       "      <td>132</td>\n",
       "    </tr>\n",
       "    <tr>\n",
       "      <th>3</th>\n",
       "      <td>1949-04</td>\n",
       "      <td>129</td>\n",
       "    </tr>\n",
       "    <tr>\n",
       "      <th>4</th>\n",
       "      <td>1949-05</td>\n",
       "      <td>121</td>\n",
       "    </tr>\n",
       "    <tr>\n",
       "      <th>...</th>\n",
       "      <td>...</td>\n",
       "      <td>...</td>\n",
       "    </tr>\n",
       "    <tr>\n",
       "      <th>139</th>\n",
       "      <td>1960-08</td>\n",
       "      <td>606</td>\n",
       "    </tr>\n",
       "    <tr>\n",
       "      <th>140</th>\n",
       "      <td>1960-09</td>\n",
       "      <td>508</td>\n",
       "    </tr>\n",
       "    <tr>\n",
       "      <th>141</th>\n",
       "      <td>1960-10</td>\n",
       "      <td>461</td>\n",
       "    </tr>\n",
       "    <tr>\n",
       "      <th>142</th>\n",
       "      <td>1960-11</td>\n",
       "      <td>390</td>\n",
       "    </tr>\n",
       "    <tr>\n",
       "      <th>143</th>\n",
       "      <td>1960-12</td>\n",
       "      <td>432</td>\n",
       "    </tr>\n",
       "  </tbody>\n",
       "</table>\n",
       "<p>144 rows × 2 columns</p>\n",
       "</div>"
      ],
      "text/plain": [
       "       Month  #Passengers\n",
       "0    1949-01          112\n",
       "1    1949-02          118\n",
       "2    1949-03          132\n",
       "3    1949-04          129\n",
       "4    1949-05          121\n",
       "..       ...          ...\n",
       "139  1960-08          606\n",
       "140  1960-09          508\n",
       "141  1960-10          461\n",
       "142  1960-11          390\n",
       "143  1960-12          432\n",
       "\n",
       "[144 rows x 2 columns]"
      ]
     },
     "execution_count": 6,
     "metadata": {},
     "output_type": "execute_result"
    }
   ],
   "source": [
    "df"
   ]
  },
  {
   "cell_type": "code",
   "execution_count": 7,
   "id": "d309674d",
   "metadata": {},
   "outputs": [
    {
     "data": {
      "text/plain": [
       "<bound method NDFrame.head of        Month  #Passengers\n",
       "0    1949-01          112\n",
       "1    1949-02          118\n",
       "2    1949-03          132\n",
       "3    1949-04          129\n",
       "4    1949-05          121\n",
       "..       ...          ...\n",
       "139  1960-08          606\n",
       "140  1960-09          508\n",
       "141  1960-10          461\n",
       "142  1960-11          390\n",
       "143  1960-12          432\n",
       "\n",
       "[144 rows x 2 columns]>"
      ]
     },
     "execution_count": 7,
     "metadata": {},
     "output_type": "execute_result"
    }
   ],
   "source": [
    "df.head"
   ]
  },
  {
   "cell_type": "code",
   "execution_count": 8,
   "id": "5aac3db9",
   "metadata": {},
   "outputs": [
    {
     "data": {
      "text/plain": [
       "<bound method NDFrame.tail of        Month  #Passengers\n",
       "0    1949-01          112\n",
       "1    1949-02          118\n",
       "2    1949-03          132\n",
       "3    1949-04          129\n",
       "4    1949-05          121\n",
       "..       ...          ...\n",
       "139  1960-08          606\n",
       "140  1960-09          508\n",
       "141  1960-10          461\n",
       "142  1960-11          390\n",
       "143  1960-12          432\n",
       "\n",
       "[144 rows x 2 columns]>"
      ]
     },
     "execution_count": 8,
     "metadata": {},
     "output_type": "execute_result"
    }
   ],
   "source": [
    "df.tail\n"
   ]
  },
  {
   "cell_type": "code",
   "execution_count": 9,
   "id": "e8166ad1",
   "metadata": {},
   "outputs": [
    {
     "data": {
      "text/plain": [
       "<bound method NDFrame.describe of        Month  #Passengers\n",
       "0    1949-01          112\n",
       "1    1949-02          118\n",
       "2    1949-03          132\n",
       "3    1949-04          129\n",
       "4    1949-05          121\n",
       "..       ...          ...\n",
       "139  1960-08          606\n",
       "140  1960-09          508\n",
       "141  1960-10          461\n",
       "142  1960-11          390\n",
       "143  1960-12          432\n",
       "\n",
       "[144 rows x 2 columns]>"
      ]
     },
     "execution_count": 9,
     "metadata": {},
     "output_type": "execute_result"
    }
   ],
   "source": [
    "df.describe"
   ]
  },
  {
   "cell_type": "code",
   "execution_count": 11,
   "id": "ce327e8a",
   "metadata": {},
   "outputs": [
    {
     "data": {
      "text/plain": [
       "<bound method DataFrame.isnull of        Month  #Passengers\n",
       "0    1949-01          112\n",
       "1    1949-02          118\n",
       "2    1949-03          132\n",
       "3    1949-04          129\n",
       "4    1949-05          121\n",
       "..       ...          ...\n",
       "139  1960-08          606\n",
       "140  1960-09          508\n",
       "141  1960-10          461\n",
       "142  1960-11          390\n",
       "143  1960-12          432\n",
       "\n",
       "[144 rows x 2 columns]>"
      ]
     },
     "execution_count": 11,
     "metadata": {},
     "output_type": "execute_result"
    }
   ],
   "source": [
    "df.isnull"
   ]
  },
  {
   "cell_type": "code",
   "execution_count": 12,
   "id": "f3850dca",
   "metadata": {},
   "outputs": [
    {
     "data": {
      "text/plain": [
       "<bound method DataFrame.isna of        Month  #Passengers\n",
       "0    1949-01          112\n",
       "1    1949-02          118\n",
       "2    1949-03          132\n",
       "3    1949-04          129\n",
       "4    1949-05          121\n",
       "..       ...          ...\n",
       "139  1960-08          606\n",
       "140  1960-09          508\n",
       "141  1960-10          461\n",
       "142  1960-11          390\n",
       "143  1960-12          432\n",
       "\n",
       "[144 rows x 2 columns]>"
      ]
     },
     "execution_count": 12,
     "metadata": {},
     "output_type": "execute_result"
    }
   ],
   "source": [
    "df.isna"
   ]
  },
  {
   "cell_type": "code",
   "execution_count": 13,
   "id": "b9615d8d",
   "metadata": {},
   "outputs": [
    {
     "data": {
      "text/plain": [
       "Month          0\n",
       "#Passengers    0\n",
       "dtype: int64"
      ]
     },
     "execution_count": 13,
     "metadata": {},
     "output_type": "execute_result"
    }
   ],
   "source": [
    "df.isna().sum()"
   ]
  },
  {
   "cell_type": "code",
   "execution_count": 14,
   "id": "3438b6e2",
   "metadata": {},
   "outputs": [
    {
     "data": {
      "text/plain": [
       "(144, 2)"
      ]
     },
     "execution_count": 14,
     "metadata": {},
     "output_type": "execute_result"
    }
   ],
   "source": [
    "df.shape"
   ]
  },
  {
   "cell_type": "markdown",
   "id": "8b96bbaf",
   "metadata": {},
   "source": [
    " The first column containing this month’s (t) passenger count and the second\n",
    "column containing next month’s (t+1) passenger count, to be predicted."
   ]
  },
  {
   "cell_type": "code",
   "execution_count": 17,
   "id": "fc62831f",
   "metadata": {},
   "outputs": [],
   "source": [
    "import numpy as np\n",
    "from sklearn.linear_model import LinearRegression"
   ]
  },
  {
   "cell_type": "code",
   "execution_count": 19,
   "id": "155a7d2a",
   "metadata": {},
   "outputs": [],
   "source": [
    "\n",
    "df = np.array([\n",
    "    [100, 105],\n",
    "    [120, 115],\n",
    "    [95, 100],\n",
    "    [110, 115],\n",
    "    [130, 135],\n",
    "    [105, 110],\n",
    "    [90, 95],\n",
    "    [115, 120],\n",
    "    [125, 130],\n",
    "    [140, 145],\n",
    "    [130, 135],\n",
    "    [120, 125],\n",
    "    [105, 110],\n",
    "    [100, 105],\n",
    "    [115, 120],\n",
    "    [125, 130],\n",
    "    [130, 135],\n",
    "    [115, 120],\n",
    "    [105, 110],\n",
    "    [95, 100]\n",
    "])"
   ]
  },
  {
   "cell_type": "code",
   "execution_count": 20,
   "id": "ec912a5d",
   "metadata": {},
   "outputs": [],
   "source": [
    "X = df[:, 0].reshape(-1, 1)\n",
    "y = df[:, 1]"
   ]
  },
  {
   "cell_type": "code",
   "execution_count": 21,
   "id": "edc5f811",
   "metadata": {},
   "outputs": [
    {
     "data": {
      "text/html": [
       "<style>#sk-container-id-1 {color: black;background-color: white;}#sk-container-id-1 pre{padding: 0;}#sk-container-id-1 div.sk-toggleable {background-color: white;}#sk-container-id-1 label.sk-toggleable__label {cursor: pointer;display: block;width: 100%;margin-bottom: 0;padding: 0.3em;box-sizing: border-box;text-align: center;}#sk-container-id-1 label.sk-toggleable__label-arrow:before {content: \"▸\";float: left;margin-right: 0.25em;color: #696969;}#sk-container-id-1 label.sk-toggleable__label-arrow:hover:before {color: black;}#sk-container-id-1 div.sk-estimator:hover label.sk-toggleable__label-arrow:before {color: black;}#sk-container-id-1 div.sk-toggleable__content {max-height: 0;max-width: 0;overflow: hidden;text-align: left;background-color: #f0f8ff;}#sk-container-id-1 div.sk-toggleable__content pre {margin: 0.2em;color: black;border-radius: 0.25em;background-color: #f0f8ff;}#sk-container-id-1 input.sk-toggleable__control:checked~div.sk-toggleable__content {max-height: 200px;max-width: 100%;overflow: auto;}#sk-container-id-1 input.sk-toggleable__control:checked~label.sk-toggleable__label-arrow:before {content: \"▾\";}#sk-container-id-1 div.sk-estimator input.sk-toggleable__control:checked~label.sk-toggleable__label {background-color: #d4ebff;}#sk-container-id-1 div.sk-label input.sk-toggleable__control:checked~label.sk-toggleable__label {background-color: #d4ebff;}#sk-container-id-1 input.sk-hidden--visually {border: 0;clip: rect(1px 1px 1px 1px);clip: rect(1px, 1px, 1px, 1px);height: 1px;margin: -1px;overflow: hidden;padding: 0;position: absolute;width: 1px;}#sk-container-id-1 div.sk-estimator {font-family: monospace;background-color: #f0f8ff;border: 1px dotted black;border-radius: 0.25em;box-sizing: border-box;margin-bottom: 0.5em;}#sk-container-id-1 div.sk-estimator:hover {background-color: #d4ebff;}#sk-container-id-1 div.sk-parallel-item::after {content: \"\";width: 100%;border-bottom: 1px solid gray;flex-grow: 1;}#sk-container-id-1 div.sk-label:hover label.sk-toggleable__label {background-color: #d4ebff;}#sk-container-id-1 div.sk-serial::before {content: \"\";position: absolute;border-left: 1px solid gray;box-sizing: border-box;top: 0;bottom: 0;left: 50%;z-index: 0;}#sk-container-id-1 div.sk-serial {display: flex;flex-direction: column;align-items: center;background-color: white;padding-right: 0.2em;padding-left: 0.2em;position: relative;}#sk-container-id-1 div.sk-item {position: relative;z-index: 1;}#sk-container-id-1 div.sk-parallel {display: flex;align-items: stretch;justify-content: center;background-color: white;position: relative;}#sk-container-id-1 div.sk-item::before, #sk-container-id-1 div.sk-parallel-item::before {content: \"\";position: absolute;border-left: 1px solid gray;box-sizing: border-box;top: 0;bottom: 0;left: 50%;z-index: -1;}#sk-container-id-1 div.sk-parallel-item {display: flex;flex-direction: column;z-index: 1;position: relative;background-color: white;}#sk-container-id-1 div.sk-parallel-item:first-child::after {align-self: flex-end;width: 50%;}#sk-container-id-1 div.sk-parallel-item:last-child::after {align-self: flex-start;width: 50%;}#sk-container-id-1 div.sk-parallel-item:only-child::after {width: 0;}#sk-container-id-1 div.sk-dashed-wrapped {border: 1px dashed gray;margin: 0 0.4em 0.5em 0.4em;box-sizing: border-box;padding-bottom: 0.4em;background-color: white;}#sk-container-id-1 div.sk-label label {font-family: monospace;font-weight: bold;display: inline-block;line-height: 1.2em;}#sk-container-id-1 div.sk-label-container {text-align: center;}#sk-container-id-1 div.sk-container {/* jupyter's `normalize.less` sets `[hidden] { display: none; }` but bootstrap.min.css set `[hidden] { display: none !important; }` so we also need the `!important` here to be able to override the default hidden behavior on the sphinx rendered scikit-learn.org. See: https://github.com/scikit-learn/scikit-learn/issues/21755 */display: inline-block !important;position: relative;}#sk-container-id-1 div.sk-text-repr-fallback {display: none;}</style><div id=\"sk-container-id-1\" class=\"sk-top-container\"><div class=\"sk-text-repr-fallback\"><pre>LinearRegression()</pre><b>In a Jupyter environment, please rerun this cell to show the HTML representation or trust the notebook. <br />On GitHub, the HTML representation is unable to render, please try loading this page with nbviewer.org.</b></div><div class=\"sk-container\" hidden><div class=\"sk-item\"><div class=\"sk-estimator sk-toggleable\"><input class=\"sk-toggleable__control sk-hidden--visually\" id=\"sk-estimator-id-1\" type=\"checkbox\" checked><label for=\"sk-estimator-id-1\" class=\"sk-toggleable__label sk-toggleable__label-arrow\">LinearRegression</label><div class=\"sk-toggleable__content\"><pre>LinearRegression()</pre></div></div></div></div></div>"
      ],
      "text/plain": [
       "LinearRegression()"
      ]
     },
     "execution_count": 21,
     "metadata": {},
     "output_type": "execute_result"
    }
   ],
   "source": [
    "model = LinearRegression()\n",
    "model.fit(X, y)"
   ]
  },
  {
   "cell_type": "code",
   "execution_count": 22,
   "id": "dfaf0a54",
   "metadata": {},
   "outputs": [],
   "source": [
    "new_df = np.array([[120], [110], [100]])\n",
    "predicted_counts = model.predict(new_df)"
   ]
  },
  {
   "cell_type": "code",
   "execution_count": 25,
   "id": "241011f6",
   "metadata": {},
   "outputs": [
    {
     "name": "stdout",
     "output_type": "stream",
     "text": [
      "Prediction for current month's passenger count 120: 124.38596491228071\n",
      "Prediction for current month's passenger count 110: 114.56140350877193\n",
      "Prediction for current month's passenger count 100: 104.73684210526316\n"
     ]
    }
   ],
   "source": [
    "for i in range(len(new_df)):\n",
    "    print(f\"Prediction for current month's passenger count {new_df[i][0]}: {predicted_counts[i]}\")"
   ]
  },
  {
   "cell_type": "markdown",
   "id": "6b382d4b",
   "metadata": {},
   "source": [
    " Divide the data into train and test set "
   ]
  },
  {
   "cell_type": "code",
   "execution_count": 26,
   "id": "ac2d420c",
   "metadata": {},
   "outputs": [],
   "source": [
    "from sklearn.metrics import mean_squared_error, r2_score"
   ]
  },
  {
   "cell_type": "code",
   "execution_count": 32,
   "id": "1aeda849",
   "metadata": {},
   "outputs": [],
   "source": [
    "import numpy as np\n",
    "from sklearn.model_selection import train_test_split\n",
    "from sklearn.linear_model import LinearRegression"
   ]
  },
  {
   "cell_type": "code",
   "execution_count": 33,
   "id": "c0e33484",
   "metadata": {},
   "outputs": [],
   "source": [
    "X = df[:, 0].reshape(-1, 1)\n",
    "y = df[:, 1]"
   ]
  },
  {
   "cell_type": "code",
   "execution_count": 34,
   "id": "786296ad",
   "metadata": {},
   "outputs": [],
   "source": [
    "X_train, X_test, y_train, y_test = train_test_split(X, y, test_size=0.2, random_state=42)"
   ]
  },
  {
   "cell_type": "code",
   "execution_count": 35,
   "id": "5f9dad28",
   "metadata": {},
   "outputs": [
    {
     "data": {
      "text/html": [
       "<style>#sk-container-id-2 {color: black;background-color: white;}#sk-container-id-2 pre{padding: 0;}#sk-container-id-2 div.sk-toggleable {background-color: white;}#sk-container-id-2 label.sk-toggleable__label {cursor: pointer;display: block;width: 100%;margin-bottom: 0;padding: 0.3em;box-sizing: border-box;text-align: center;}#sk-container-id-2 label.sk-toggleable__label-arrow:before {content: \"▸\";float: left;margin-right: 0.25em;color: #696969;}#sk-container-id-2 label.sk-toggleable__label-arrow:hover:before {color: black;}#sk-container-id-2 div.sk-estimator:hover label.sk-toggleable__label-arrow:before {color: black;}#sk-container-id-2 div.sk-toggleable__content {max-height: 0;max-width: 0;overflow: hidden;text-align: left;background-color: #f0f8ff;}#sk-container-id-2 div.sk-toggleable__content pre {margin: 0.2em;color: black;border-radius: 0.25em;background-color: #f0f8ff;}#sk-container-id-2 input.sk-toggleable__control:checked~div.sk-toggleable__content {max-height: 200px;max-width: 100%;overflow: auto;}#sk-container-id-2 input.sk-toggleable__control:checked~label.sk-toggleable__label-arrow:before {content: \"▾\";}#sk-container-id-2 div.sk-estimator input.sk-toggleable__control:checked~label.sk-toggleable__label {background-color: #d4ebff;}#sk-container-id-2 div.sk-label input.sk-toggleable__control:checked~label.sk-toggleable__label {background-color: #d4ebff;}#sk-container-id-2 input.sk-hidden--visually {border: 0;clip: rect(1px 1px 1px 1px);clip: rect(1px, 1px, 1px, 1px);height: 1px;margin: -1px;overflow: hidden;padding: 0;position: absolute;width: 1px;}#sk-container-id-2 div.sk-estimator {font-family: monospace;background-color: #f0f8ff;border: 1px dotted black;border-radius: 0.25em;box-sizing: border-box;margin-bottom: 0.5em;}#sk-container-id-2 div.sk-estimator:hover {background-color: #d4ebff;}#sk-container-id-2 div.sk-parallel-item::after {content: \"\";width: 100%;border-bottom: 1px solid gray;flex-grow: 1;}#sk-container-id-2 div.sk-label:hover label.sk-toggleable__label {background-color: #d4ebff;}#sk-container-id-2 div.sk-serial::before {content: \"\";position: absolute;border-left: 1px solid gray;box-sizing: border-box;top: 0;bottom: 0;left: 50%;z-index: 0;}#sk-container-id-2 div.sk-serial {display: flex;flex-direction: column;align-items: center;background-color: white;padding-right: 0.2em;padding-left: 0.2em;position: relative;}#sk-container-id-2 div.sk-item {position: relative;z-index: 1;}#sk-container-id-2 div.sk-parallel {display: flex;align-items: stretch;justify-content: center;background-color: white;position: relative;}#sk-container-id-2 div.sk-item::before, #sk-container-id-2 div.sk-parallel-item::before {content: \"\";position: absolute;border-left: 1px solid gray;box-sizing: border-box;top: 0;bottom: 0;left: 50%;z-index: -1;}#sk-container-id-2 div.sk-parallel-item {display: flex;flex-direction: column;z-index: 1;position: relative;background-color: white;}#sk-container-id-2 div.sk-parallel-item:first-child::after {align-self: flex-end;width: 50%;}#sk-container-id-2 div.sk-parallel-item:last-child::after {align-self: flex-start;width: 50%;}#sk-container-id-2 div.sk-parallel-item:only-child::after {width: 0;}#sk-container-id-2 div.sk-dashed-wrapped {border: 1px dashed gray;margin: 0 0.4em 0.5em 0.4em;box-sizing: border-box;padding-bottom: 0.4em;background-color: white;}#sk-container-id-2 div.sk-label label {font-family: monospace;font-weight: bold;display: inline-block;line-height: 1.2em;}#sk-container-id-2 div.sk-label-container {text-align: center;}#sk-container-id-2 div.sk-container {/* jupyter's `normalize.less` sets `[hidden] { display: none; }` but bootstrap.min.css set `[hidden] { display: none !important; }` so we also need the `!important` here to be able to override the default hidden behavior on the sphinx rendered scikit-learn.org. See: https://github.com/scikit-learn/scikit-learn/issues/21755 */display: inline-block !important;position: relative;}#sk-container-id-2 div.sk-text-repr-fallback {display: none;}</style><div id=\"sk-container-id-2\" class=\"sk-top-container\"><div class=\"sk-text-repr-fallback\"><pre>LinearRegression()</pre><b>In a Jupyter environment, please rerun this cell to show the HTML representation or trust the notebook. <br />On GitHub, the HTML representation is unable to render, please try loading this page with nbviewer.org.</b></div><div class=\"sk-container\" hidden><div class=\"sk-item\"><div class=\"sk-estimator sk-toggleable\"><input class=\"sk-toggleable__control sk-hidden--visually\" id=\"sk-estimator-id-2\" type=\"checkbox\" checked><label for=\"sk-estimator-id-2\" class=\"sk-toggleable__label sk-toggleable__label-arrow\">LinearRegression</label><div class=\"sk-toggleable__content\"><pre>LinearRegression()</pre></div></div></div></div></div>"
      ],
      "text/plain": [
       "LinearRegression()"
      ]
     },
     "execution_count": 35,
     "metadata": {},
     "output_type": "execute_result"
    }
   ],
   "source": [
    "model = LinearRegression()\n",
    "model.fit(X_train, y_train)"
   ]
  },
  {
   "cell_type": "code",
   "execution_count": 36,
   "id": "36f33878",
   "metadata": {},
   "outputs": [],
   "source": [
    "predicted_counts = model.predict(X_test)"
   ]
  },
  {
   "cell_type": "code",
   "execution_count": 38,
   "id": "c21cefa3",
   "metadata": {},
   "outputs": [
    {
     "name": "stdout",
     "output_type": "stream",
     "text": [
      "Predicted counts for the testing set:\n",
      "[105. 120. 130. 125.]\n"
     ]
    }
   ],
   "source": [
    "print(\"Predicted counts for the testing set:\")\n",
    "print(predicted_counts)"
   ]
  },
  {
   "cell_type": "code",
   "execution_count": 39,
   "id": "0e92f3f0",
   "metadata": {},
   "outputs": [
    {
     "name": "stdout",
     "output_type": "stream",
     "text": [
      "Mean Squared Error: 25.0\n"
     ]
    }
   ],
   "source": [
    "\n",
    "mse = mean_squared_error(y_test, predicted_counts)\n",
    "print(\"Mean Squared Error:\", mse)\n",
    "\n",
    "\n",
    "\n",
    "\n",
    "\n"
   ]
  },
  {
   "cell_type": "markdown",
   "id": "1d759172",
   "metadata": {},
   "source": [
    " . Fit an LSTM model on top of the data where the optimizer = ‘adam’ and epoch\n",
    "=’100’"
   ]
  },
  {
   "cell_type": "code",
   "execution_count": 40,
   "id": "062231a7",
   "metadata": {},
   "outputs": [],
   "source": [
    "import numpy as np\n",
    "from keras.models import Sequential\n",
    "from keras.layers import LSTM, Dense"
   ]
  },
  {
   "cell_type": "code",
   "execution_count": 41,
   "id": "3a481f9d",
   "metadata": {},
   "outputs": [],
   "source": [
    "X = df[:, 0]\n",
    "y = df[:, 1]"
   ]
  },
  {
   "cell_type": "code",
   "execution_count": 42,
   "id": "d4042c74",
   "metadata": {},
   "outputs": [],
   "source": [
    "X = X.reshape(-1, 1, 1)"
   ]
  },
  {
   "cell_type": "code",
   "execution_count": 43,
   "id": "4b522c8a",
   "metadata": {},
   "outputs": [],
   "source": [
    "model = Sequential()\n",
    "model.add(LSTM(50, input_shape=(1, 1)))\n",
    "model.add(Dense(1))\n",
    "model.compile(loss='mean_squared_error', optimizer='adam')"
   ]
  },
  {
   "cell_type": "code",
   "execution_count": 44,
   "id": "c939ee4d",
   "metadata": {},
   "outputs": [
    {
     "name": "stdout",
     "output_type": "stream",
     "text": [
      "Epoch 1/100\n",
      "20/20 [==============================] - 5s 4ms/step - loss: 14098.2402\n",
      "Epoch 2/100\n",
      "20/20 [==============================] - 0s 2ms/step - loss: 13832.0996\n",
      "Epoch 3/100\n",
      "20/20 [==============================] - 0s 2ms/step - loss: 13585.7480\n",
      "Epoch 4/100\n",
      "20/20 [==============================] - 0s 2ms/step - loss: 13299.2578\n",
      "Epoch 5/100\n",
      "20/20 [==============================] - 0s 2ms/step - loss: 13067.9004\n",
      "Epoch 6/100\n",
      "20/20 [==============================] - 0s 2ms/step - loss: 12899.7627\n",
      "Epoch 7/100\n",
      "20/20 [==============================] - 0s 2ms/step - loss: 12695.4785\n",
      "Epoch 8/100\n",
      "20/20 [==============================] - 0s 2ms/step - loss: 12489.3389\n",
      "Epoch 9/100\n",
      "20/20 [==============================] - 0s 2ms/step - loss: 12316.0771\n",
      "Epoch 10/100\n",
      "20/20 [==============================] - 0s 2ms/step - loss: 12083.1064\n",
      "Epoch 11/100\n",
      "20/20 [==============================] - 0s 2ms/step - loss: 11934.2471\n",
      "Epoch 12/100\n",
      "20/20 [==============================] - 0s 2ms/step - loss: 11781.2266\n",
      "Epoch 13/100\n",
      "20/20 [==============================] - 0s 2ms/step - loss: 11624.8145\n",
      "Epoch 14/100\n",
      "20/20 [==============================] - 0s 2ms/step - loss: 11448.9170\n",
      "Epoch 15/100\n",
      "20/20 [==============================] - 0s 2ms/step - loss: 11301.9004\n",
      "Epoch 16/100\n",
      "20/20 [==============================] - 0s 2ms/step - loss: 11171.0830\n",
      "Epoch 17/100\n",
      "20/20 [==============================] - 0s 2ms/step - loss: 11045.1924\n",
      "Epoch 18/100\n",
      "20/20 [==============================] - 0s 2ms/step - loss: 10880.8281\n",
      "Epoch 19/100\n",
      "20/20 [==============================] - 0s 2ms/step - loss: 10732.7861\n",
      "Epoch 20/100\n",
      "20/20 [==============================] - 0s 2ms/step - loss: 10564.8408\n",
      "Epoch 21/100\n",
      "20/20 [==============================] - 0s 2ms/step - loss: 10427.9238\n",
      "Epoch 22/100\n",
      "20/20 [==============================] - 0s 2ms/step - loss: 10301.9219\n",
      "Epoch 23/100\n",
      "20/20 [==============================] - 0s 2ms/step - loss: 10178.3701\n",
      "Epoch 24/100\n",
      "20/20 [==============================] - 0s 2ms/step - loss: 10059.1836\n",
      "Epoch 25/100\n",
      "20/20 [==============================] - 0s 2ms/step - loss: 9943.2402\n",
      "Epoch 26/100\n",
      "20/20 [==============================] - 0s 2ms/step - loss: 9829.3984\n",
      "Epoch 27/100\n",
      "20/20 [==============================] - 0s 2ms/step - loss: 9712.4766\n",
      "Epoch 28/100\n",
      "20/20 [==============================] - 0s 2ms/step - loss: 9573.2822\n",
      "Epoch 29/100\n",
      "20/20 [==============================] - 0s 2ms/step - loss: 9450.5293\n",
      "Epoch 30/100\n",
      "20/20 [==============================] - 0s 2ms/step - loss: 9333.2900\n",
      "Epoch 31/100\n",
      "20/20 [==============================] - 0s 2ms/step - loss: 9220.8389\n",
      "Epoch 32/100\n",
      "20/20 [==============================] - 0s 2ms/step - loss: 9110.0674\n",
      "Epoch 33/100\n",
      "20/20 [==============================] - 0s 2ms/step - loss: 8999.6660\n",
      "Epoch 34/100\n",
      "20/20 [==============================] - 0s 2ms/step - loss: 8892.9756\n",
      "Epoch 35/100\n",
      "20/20 [==============================] - 0s 2ms/step - loss: 8787.3789\n",
      "Epoch 36/100\n",
      "20/20 [==============================] - 0s 2ms/step - loss: 8683.6504\n",
      "Epoch 37/100\n",
      "20/20 [==============================] - 0s 2ms/step - loss: 8581.3818\n",
      "Epoch 38/100\n",
      "20/20 [==============================] - 0s 3ms/step - loss: 8479.4531\n",
      "Epoch 39/100\n",
      "20/20 [==============================] - 0s 2ms/step - loss: 8379.5059\n",
      "Epoch 40/100\n",
      "20/20 [==============================] - 0s 2ms/step - loss: 8280.6074\n",
      "Epoch 41/100\n",
      "20/20 [==============================] - 0s 2ms/step - loss: 8183.3813\n",
      "Epoch 42/100\n",
      "20/20 [==============================] - 0s 2ms/step - loss: 8087.1196\n",
      "Epoch 43/100\n",
      "20/20 [==============================] - 0s 2ms/step - loss: 7990.2393\n",
      "Epoch 44/100\n",
      "20/20 [==============================] - 0s 2ms/step - loss: 7896.6758\n",
      "Epoch 45/100\n",
      "20/20 [==============================] - 0s 2ms/step - loss: 7803.7178\n",
      "Epoch 46/100\n",
      "20/20 [==============================] - 0s 2ms/step - loss: 7710.4756\n",
      "Epoch 47/100\n",
      "20/20 [==============================] - 0s 2ms/step - loss: 7620.0767\n",
      "Epoch 48/100\n",
      "20/20 [==============================] - 0s 2ms/step - loss: 7529.5088\n",
      "Epoch 49/100\n",
      "20/20 [==============================] - 0s 2ms/step - loss: 7439.1587\n",
      "Epoch 50/100\n",
      "20/20 [==============================] - 0s 2ms/step - loss: 7351.2656\n",
      "Epoch 51/100\n",
      "20/20 [==============================] - 0s 2ms/step - loss: 7263.6147\n",
      "Epoch 52/100\n",
      "20/20 [==============================] - 0s 2ms/step - loss: 7175.7876\n",
      "Epoch 53/100\n",
      "20/20 [==============================] - 0s 2ms/step - loss: 7091.0913\n",
      "Epoch 54/100\n",
      "20/20 [==============================] - 0s 2ms/step - loss: 7005.2588\n",
      "Epoch 55/100\n",
      "20/20 [==============================] - 0s 2ms/step - loss: 6921.4893\n",
      "Epoch 56/100\n",
      "20/20 [==============================] - 0s 2ms/step - loss: 6806.1157\n",
      "Epoch 57/100\n",
      "20/20 [==============================] - 0s 2ms/step - loss: 6704.7842\n",
      "Epoch 58/100\n",
      "20/20 [==============================] - 0s 2ms/step - loss: 6612.9634\n",
      "Epoch 59/100\n",
      "20/20 [==============================] - 0s 2ms/step - loss: 6524.7593\n",
      "Epoch 60/100\n",
      "20/20 [==============================] - 0s 2ms/step - loss: 6437.2500\n",
      "Epoch 61/100\n",
      "20/20 [==============================] - 0s 2ms/step - loss: 6352.8120\n",
      "Epoch 62/100\n",
      "20/20 [==============================] - 0s 2ms/step - loss: 6270.0566\n",
      "Epoch 63/100\n",
      "20/20 [==============================] - 0s 2ms/step - loss: 6186.9639\n",
      "Epoch 64/100\n",
      "20/20 [==============================] - 0s 2ms/step - loss: 6106.5103\n",
      "Epoch 65/100\n",
      "20/20 [==============================] - 0s 2ms/step - loss: 6025.7554\n",
      "Epoch 66/100\n",
      "20/20 [==============================] - 0s 2ms/step - loss: 5946.5547\n",
      "Epoch 67/100\n",
      "20/20 [==============================] - 0s 2ms/step - loss: 5869.4868\n",
      "Epoch 68/100\n",
      "20/20 [==============================] - 0s 2ms/step - loss: 5791.9258\n",
      "Epoch 69/100\n",
      "20/20 [==============================] - 0s 2ms/step - loss: 5715.2998\n",
      "Epoch 70/100\n",
      "20/20 [==============================] - 0s 2ms/step - loss: 5640.5874\n",
      "Epoch 71/100\n",
      "20/20 [==============================] - 0s 2ms/step - loss: 5566.6821\n",
      "Epoch 72/100\n",
      "20/20 [==============================] - 0s 2ms/step - loss: 5492.8735\n",
      "Epoch 73/100\n",
      "20/20 [==============================] - 0s 2ms/step - loss: 5420.4668\n",
      "Epoch 74/100\n",
      "20/20 [==============================] - 0s 2ms/step - loss: 5347.8335\n",
      "Epoch 75/100\n",
      "20/20 [==============================] - 0s 2ms/step - loss: 5277.0908\n",
      "Epoch 76/100\n",
      "20/20 [==============================] - 0s 2ms/step - loss: 5207.2446\n",
      "Epoch 77/100\n",
      "20/20 [==============================] - 0s 2ms/step - loss: 5137.1475\n",
      "Epoch 78/100\n",
      "20/20 [==============================] - 0s 2ms/step - loss: 5068.0405\n",
      "Epoch 79/100\n",
      "20/20 [==============================] - 0s 2ms/step - loss: 5000.9907\n",
      "Epoch 80/100\n",
      "20/20 [==============================] - 0s 2ms/step - loss: 4933.3809\n",
      "Epoch 81/100\n",
      "20/20 [==============================] - 0s 2ms/step - loss: 4866.0337\n",
      "Epoch 82/100\n",
      "20/20 [==============================] - 0s 2ms/step - loss: 4801.0776\n",
      "Epoch 83/100\n",
      "20/20 [==============================] - 0s 2ms/step - loss: 4735.2935\n",
      "Epoch 84/100\n",
      "20/20 [==============================] - 0s 2ms/step - loss: 4671.6089\n",
      "Epoch 85/100\n",
      "20/20 [==============================] - 0s 2ms/step - loss: 4607.2095\n",
      "Epoch 86/100\n",
      "20/20 [==============================] - 0s 2ms/step - loss: 4543.7974\n",
      "Epoch 87/100\n",
      "20/20 [==============================] - 0s 2ms/step - loss: 4482.4619\n",
      "Epoch 88/100\n",
      "20/20 [==============================] - 0s 2ms/step - loss: 4420.2578\n",
      "Epoch 89/100\n",
      "20/20 [==============================] - 0s 2ms/step - loss: 4359.1924\n",
      "Epoch 90/100\n",
      "20/20 [==============================] - 0s 2ms/step - loss: 4298.7729\n",
      "Epoch 91/100\n",
      "20/20 [==============================] - 0s 2ms/step - loss: 4238.0288\n",
      "Epoch 92/100\n",
      "20/20 [==============================] - 0s 2ms/step - loss: 4180.0347\n",
      "Epoch 93/100\n",
      "20/20 [==============================] - 0s 2ms/step - loss: 4121.3081\n",
      "Epoch 94/100\n",
      "20/20 [==============================] - 0s 2ms/step - loss: 4064.1531\n",
      "Epoch 95/100\n",
      "20/20 [==============================] - 0s 2ms/step - loss: 4005.3118\n",
      "Epoch 96/100\n",
      "20/20 [==============================] - 0s 2ms/step - loss: 3950.0396\n",
      "Epoch 97/100\n",
      "20/20 [==============================] - 0s 2ms/step - loss: 3893.0554\n",
      "Epoch 98/100\n",
      "20/20 [==============================] - 0s 2ms/step - loss: 3838.2417\n",
      "Epoch 99/100\n",
      "20/20 [==============================] - 0s 2ms/step - loss: 3782.7766\n",
      "Epoch 100/100\n",
      "20/20 [==============================] - 0s 2ms/step - loss: 3729.2239\n"
     ]
    },
    {
     "data": {
      "text/plain": [
       "<keras.src.callbacks.History at 0x16a02960e80>"
      ]
     },
     "execution_count": 44,
     "metadata": {},
     "output_type": "execute_result"
    }
   ],
   "source": [
    "model.fit(X, y, epochs=100, batch_size=1, verbose=1)"
   ]
  },
  {
   "cell_type": "code",
   "execution_count": 45,
   "id": "d0ea90f0",
   "metadata": {},
   "outputs": [
    {
     "name": "stdout",
     "output_type": "stream",
     "text": [
      "1/1 [==============================] - 1s 818ms/step\n"
     ]
    }
   ],
   "source": [
    "predicted_counts = model.predict(X)"
   ]
  },
  {
   "cell_type": "code",
   "execution_count": 46,
   "id": "b72aa5f3",
   "metadata": {},
   "outputs": [
    {
     "name": "stdout",
     "output_type": "stream",
     "text": [
      "Predicted counts:\n",
      "[58.68948  58.69254  58.687366 58.691666 58.69289  58.69082  58.68403\n",
      " 58.6922   58.692753 58.69304  58.69289  58.69254  58.69082  58.68948\n",
      " 58.6922   58.692753 58.69289  58.6922   58.69082  58.687366]\n"
     ]
    }
   ],
   "source": [
    "print(\"Predicted counts:\")\n",
    "print(predicted_counts.flatten())"
   ]
  },
  {
   "cell_type": "markdown",
   "id": "9a5ff4c5",
   "metadata": {},
   "source": [
    " d. Build another model where optimizer = ‘sgd’ and epoch = ‘50’"
   ]
  },
  {
   "cell_type": "code",
   "execution_count": 47,
   "id": "58d39738",
   "metadata": {},
   "outputs": [
    {
     "name": "stdout",
     "output_type": "stream",
     "text": [
      "Epoch 1/50\n",
      "20/20 [==============================] - 0s 3ms/step - loss: 3676.2786\n",
      "Epoch 2/50\n",
      "20/20 [==============================] - 0s 2ms/step - loss: 3621.9556\n",
      "Epoch 3/50\n",
      "20/20 [==============================] - 0s 2ms/step - loss: 3569.5190\n",
      "Epoch 4/50\n",
      "20/20 [==============================] - 0s 2ms/step - loss: 3518.8933\n",
      "Epoch 5/50\n",
      "20/20 [==============================] - 0s 3ms/step - loss: 3466.7000\n",
      "Epoch 6/50\n",
      "20/20 [==============================] - 0s 2ms/step - loss: 3416.0981\n",
      "Epoch 7/50\n",
      "20/20 [==============================] - 0s 3ms/step - loss: 3365.8794\n",
      "Epoch 8/50\n",
      "20/20 [==============================] - 0s 3ms/step - loss: 3315.6082\n",
      "Epoch 9/50\n",
      "20/20 [==============================] - 0s 2ms/step - loss: 3267.1616\n",
      "Epoch 10/50\n",
      "20/20 [==============================] - 0s 3ms/step - loss: 3219.1033\n",
      "Epoch 11/50\n",
      "20/20 [==============================] - 0s 2ms/step - loss: 3170.6963\n",
      "Epoch 12/50\n",
      "20/20 [==============================] - 0s 2ms/step - loss: 3123.3721\n",
      "Epoch 13/50\n",
      "20/20 [==============================] - 0s 2ms/step - loss: 3076.2485\n",
      "Epoch 14/50\n",
      "20/20 [==============================] - 0s 2ms/step - loss: 3030.0610\n",
      "Epoch 15/50\n",
      "20/20 [==============================] - 0s 3ms/step - loss: 2984.7336\n",
      "Epoch 16/50\n",
      "20/20 [==============================] - 0s 2ms/step - loss: 2938.8970\n",
      "Epoch 17/50\n",
      "20/20 [==============================] - 0s 3ms/step - loss: 2893.4185\n",
      "Epoch 18/50\n",
      "20/20 [==============================] - 0s 3ms/step - loss: 2850.1267\n",
      "Epoch 19/50\n",
      "20/20 [==============================] - 0s 2ms/step - loss: 2806.5303\n",
      "Epoch 20/50\n",
      "20/20 [==============================] - 0s 2ms/step - loss: 2763.6121\n",
      "Epoch 21/50\n",
      "20/20 [==============================] - 0s 2ms/step - loss: 2720.3823\n",
      "Epoch 22/50\n",
      "20/20 [==============================] - 0s 2ms/step - loss: 2677.6711\n",
      "Epoch 23/50\n",
      "20/20 [==============================] - 0s 2ms/step - loss: 2635.8938\n",
      "Epoch 24/50\n",
      "20/20 [==============================] - 0s 3ms/step - loss: 2595.8767\n",
      "Epoch 25/50\n",
      "20/20 [==============================] - 0s 2ms/step - loss: 2554.5459\n",
      "Epoch 26/50\n",
      "20/20 [==============================] - 0s 2ms/step - loss: 2513.7437\n",
      "Epoch 27/50\n",
      "20/20 [==============================] - 0s 2ms/step - loss: 2474.4392\n",
      "Epoch 28/50\n",
      "20/20 [==============================] - 0s 2ms/step - loss: 2435.0784\n",
      "Epoch 29/50\n",
      "20/20 [==============================] - 0s 2ms/step - loss: 2396.8079\n",
      "Epoch 30/50\n",
      "20/20 [==============================] - 0s 3ms/step - loss: 2358.0659\n",
      "Epoch 31/50\n",
      "20/20 [==============================] - 0s 3ms/step - loss: 2320.3142\n",
      "Epoch 32/50\n",
      "20/20 [==============================] - 0s 3ms/step - loss: 2282.0823\n",
      "Epoch 33/50\n",
      "20/20 [==============================] - 0s 2ms/step - loss: 2246.3447\n",
      "Epoch 34/50\n",
      "20/20 [==============================] - 0s 2ms/step - loss: 2209.4146\n",
      "Epoch 35/50\n",
      "20/20 [==============================] - 0s 2ms/step - loss: 2173.7065\n",
      "Epoch 36/50\n",
      "20/20 [==============================] - 0s 2ms/step - loss: 2137.6704\n",
      "Epoch 37/50\n",
      "20/20 [==============================] - 0s 2ms/step - loss: 2102.9282\n",
      "Epoch 38/50\n",
      "20/20 [==============================] - 0s 3ms/step - loss: 2068.8948\n",
      "Epoch 39/50\n",
      "20/20 [==============================] - 0s 3ms/step - loss: 2033.7480\n",
      "Epoch 40/50\n",
      "20/20 [==============================] - 0s 3ms/step - loss: 1999.7555\n",
      "Epoch 41/50\n",
      "20/20 [==============================] - 0s 3ms/step - loss: 1967.3215\n",
      "Epoch 42/50\n",
      "20/20 [==============================] - 0s 3ms/step - loss: 1934.0549\n",
      "Epoch 43/50\n",
      "20/20 [==============================] - 0s 3ms/step - loss: 1901.3894\n",
      "Epoch 44/50\n",
      "20/20 [==============================] - 0s 3ms/step - loss: 1869.3840\n",
      "Epoch 45/50\n",
      "20/20 [==============================] - 0s 3ms/step - loss: 1838.6602\n",
      "Epoch 46/50\n",
      "20/20 [==============================] - 0s 3ms/step - loss: 1806.6501\n",
      "Epoch 47/50\n",
      "20/20 [==============================] - 0s 3ms/step - loss: 1775.7412\n",
      "Epoch 48/50\n",
      "20/20 [==============================] - 0s 3ms/step - loss: 1746.1777\n",
      "Epoch 49/50\n",
      "20/20 [==============================] - 0s 4ms/step - loss: 1716.1729\n",
      "Epoch 50/50\n",
      "20/20 [==============================] - 0s 3ms/step - loss: 1686.0820\n"
     ]
    },
    {
     "data": {
      "text/plain": [
       "<keras.src.callbacks.History at 0x16a05dd2050>"
      ]
     },
     "execution_count": 47,
     "metadata": {},
     "output_type": "execute_result"
    }
   ],
   "source": [
    "model.fit(X, y, epochs=50, batch_size=1, verbose=1)"
   ]
  },
  {
   "cell_type": "code",
   "execution_count": 48,
   "id": "7c63db72",
   "metadata": {},
   "outputs": [
    {
     "name": "stdout",
     "output_type": "stream",
     "text": [
      "1/1 [==============================] - 0s 31ms/step\n"
     ]
    }
   ],
   "source": [
    "predicted_counts = model.predict(X)"
   ]
  },
  {
   "cell_type": "code",
   "execution_count": 49,
   "id": "6e892eb0",
   "metadata": {},
   "outputs": [
    {
     "name": "stdout",
     "output_type": "stream",
     "text": [
      "Predicted counts:\n",
      "[79.43271  79.43466  79.431274 79.43413  79.434845 79.43359  79.428894\n",
      " 79.43446  79.434784 79.43494  79.434845 79.43466  79.43359  79.43271\n",
      " 79.43446  79.434784 79.434845 79.43446  79.43359  79.431274]\n"
     ]
    }
   ],
   "source": [
    "print(\"Predicted counts:\")\n",
    "print(predicted_counts.flatten())"
   ]
  },
  {
   "cell_type": "code",
   "execution_count": null,
   "id": "59668dc8",
   "metadata": {},
   "outputs": [],
   "source": []
  }
 ],
 "metadata": {
  "kernelspec": {
   "display_name": "Python 3 (ipykernel)",
   "language": "python",
   "name": "python3"
  },
  "language_info": {
   "codemirror_mode": {
    "name": "ipython",
    "version": 3
   },
   "file_extension": ".py",
   "mimetype": "text/x-python",
   "name": "python",
   "nbconvert_exporter": "python",
   "pygments_lexer": "ipython3",
   "version": "3.10.9"
  }
 },
 "nbformat": 4,
 "nbformat_minor": 5
}
