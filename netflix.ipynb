{
 "cells": [
  {
   "cell_type": "markdown",
   "id": "bcf72d27",
   "metadata": {},
   "source": [
    "# Netflix "
   ]
  },
  {
   "cell_type": "markdown",
   "id": "0a8549c5",
   "metadata": {},
   "source": [
    "problem statement"
   ]
  },
  {
   "cell_type": "markdown",
   "id": "0bbedea3",
   "metadata": {},
   "source": [
    "In today’s world OTT platform and Streaming\n",
    "Services have taken up a big chunk in the\n",
    "Retail and Entertainment industry.\n",
    "Organizations like Netflix, Amazon etc.\n",
    "analyse User Activity Pattern’s and suggest\n",
    "products that better suit the user needs and\n",
    "choices."
   ]
  },
  {
   "cell_type": "code",
   "execution_count": 2,
   "id": "c89f78ca",
   "metadata": {},
   "outputs": [],
   "source": [
    "\n",
    "import pandas as pd\n",
    "import numpy as np\n",
    "import matplotlib.pyplot as plt\n",
    "import seaborn as sns\n",
    "%matplotlib inline"
   ]
  },
  {
   "cell_type": "code",
   "execution_count": 5,
   "id": "f6370f94",
   "metadata": {},
   "outputs": [],
   "source": [
    "\n",
    "df = pd.read_csv(r\"C:\\Users\\GOPI CHAND\\Downloads\\folder1\\Popular Movies TV shows from Prime Videos Netflix version_3.csv \")\n"
   ]
  },
  {
   "cell_type": "code",
   "execution_count": 6,
   "id": "04d6d002",
   "metadata": {},
   "outputs": [
    {
     "data": {
      "text/html": [
       "<div>\n",
       "<style scoped>\n",
       "    .dataframe tbody tr th:only-of-type {\n",
       "        vertical-align: middle;\n",
       "    }\n",
       "\n",
       "    .dataframe tbody tr th {\n",
       "        vertical-align: top;\n",
       "    }\n",
       "\n",
       "    .dataframe thead th {\n",
       "        text-align: right;\n",
       "    }\n",
       "</style>\n",
       "<table border=\"1\" class=\"dataframe\">\n",
       "  <thead>\n",
       "    <tr style=\"text-align: right;\">\n",
       "      <th></th>\n",
       "      <th>Unnamed: 0</th>\n",
       "      <th>ID</th>\n",
       "      <th>Title</th>\n",
       "      <th>Year</th>\n",
       "      <th>Rating</th>\n",
       "      <th>IMDb</th>\n",
       "      <th>Rotten Tomatoes</th>\n",
       "      <th>Genre</th>\n",
       "      <th>Netflix</th>\n",
       "      <th>Amazon Prime Video</th>\n",
       "    </tr>\n",
       "  </thead>\n",
       "  <tbody>\n",
       "    <tr>\n",
       "      <th>0</th>\n",
       "      <td>0</td>\n",
       "      <td>1</td>\n",
       "      <td>Terminator: Dark Fate</td>\n",
       "      <td>2019</td>\n",
       "      <td>18+</td>\n",
       "      <td>6.2</td>\n",
       "      <td>81</td>\n",
       "      <td>Action &amp; Adventure</td>\n",
       "      <td>0</td>\n",
       "      <td>1</td>\n",
       "    </tr>\n",
       "    <tr>\n",
       "      <th>1</th>\n",
       "      <td>1</td>\n",
       "      <td>2</td>\n",
       "      <td>Gemini Man</td>\n",
       "      <td>2019</td>\n",
       "      <td>13+</td>\n",
       "      <td>5.7</td>\n",
       "      <td>74</td>\n",
       "      <td>Action &amp; Adventure</td>\n",
       "      <td>0</td>\n",
       "      <td>1</td>\n",
       "    </tr>\n",
       "    <tr>\n",
       "      <th>2</th>\n",
       "      <td>2</td>\n",
       "      <td>3</td>\n",
       "      <td>Rambo: Last Blood</td>\n",
       "      <td>2019</td>\n",
       "      <td>18+</td>\n",
       "      <td>6.1</td>\n",
       "      <td>72</td>\n",
       "      <td>Action &amp; Adventure</td>\n",
       "      <td>0</td>\n",
       "      <td>1</td>\n",
       "    </tr>\n",
       "    <tr>\n",
       "      <th>3</th>\n",
       "      <td>3</td>\n",
       "      <td>4</td>\n",
       "      <td>The Courier</td>\n",
       "      <td>2019</td>\n",
       "      <td>18+</td>\n",
       "      <td>4.9</td>\n",
       "      <td>50</td>\n",
       "      <td>Action &amp; Adventure</td>\n",
       "      <td>0</td>\n",
       "      <td>1</td>\n",
       "    </tr>\n",
       "    <tr>\n",
       "      <th>4</th>\n",
       "      <td>4</td>\n",
       "      <td>5</td>\n",
       "      <td>Crawl</td>\n",
       "      <td>2019</td>\n",
       "      <td>18+</td>\n",
       "      <td>6.1</td>\n",
       "      <td>79</td>\n",
       "      <td>Action &amp; Adventure</td>\n",
       "      <td>0</td>\n",
       "      <td>1</td>\n",
       "    </tr>\n",
       "    <tr>\n",
       "      <th>...</th>\n",
       "      <td>...</td>\n",
       "      <td>...</td>\n",
       "      <td>...</td>\n",
       "      <td>...</td>\n",
       "      <td>...</td>\n",
       "      <td>...</td>\n",
       "      <td>...</td>\n",
       "      <td>...</td>\n",
       "      <td>...</td>\n",
       "      <td>...</td>\n",
       "    </tr>\n",
       "    <tr>\n",
       "      <th>24659</th>\n",
       "      <td>24659</td>\n",
       "      <td>24660</td>\n",
       "      <td>Mama's Boy</td>\n",
       "      <td>2018</td>\n",
       "      <td>NaN</td>\n",
       "      <td>4.9</td>\n",
       "      <td>33</td>\n",
       "      <td>Drama</td>\n",
       "      <td>1</td>\n",
       "      <td>0</td>\n",
       "    </tr>\n",
       "    <tr>\n",
       "      <th>24660</th>\n",
       "      <td>24660</td>\n",
       "      <td>24661</td>\n",
       "      <td>I Am Jonas</td>\n",
       "      <td>2018</td>\n",
       "      <td>NaN</td>\n",
       "      <td>7.0</td>\n",
       "      <td>52</td>\n",
       "      <td>Drama</td>\n",
       "      <td>1</td>\n",
       "      <td>0</td>\n",
       "    </tr>\n",
       "    <tr>\n",
       "      <th>24661</th>\n",
       "      <td>24661</td>\n",
       "      <td>24662</td>\n",
       "      <td>An Unremarkable Christmas</td>\n",
       "      <td>2020</td>\n",
       "      <td>NaN</td>\n",
       "      <td>3.6</td>\n",
       "      <td>41</td>\n",
       "      <td>Drama</td>\n",
       "      <td>1</td>\n",
       "      <td>0</td>\n",
       "    </tr>\n",
       "    <tr>\n",
       "      <th>24662</th>\n",
       "      <td>24662</td>\n",
       "      <td>24663</td>\n",
       "      <td>BlackRose</td>\n",
       "      <td>2018</td>\n",
       "      <td>NaN</td>\n",
       "      <td>NaN</td>\n",
       "      <td>na</td>\n",
       "      <td>Drama</td>\n",
       "      <td>1</td>\n",
       "      <td>0</td>\n",
       "    </tr>\n",
       "    <tr>\n",
       "      <th>24663</th>\n",
       "      <td>24663</td>\n",
       "      <td>24664</td>\n",
       "      <td>A Very Special Drew</td>\n",
       "      <td>2000</td>\n",
       "      <td>NaN</td>\n",
       "      <td>8.0</td>\n",
       "      <td>41</td>\n",
       "      <td>Drama</td>\n",
       "      <td>1</td>\n",
       "      <td>0</td>\n",
       "    </tr>\n",
       "  </tbody>\n",
       "</table>\n",
       "<p>24664 rows × 10 columns</p>\n",
       "</div>"
      ],
      "text/plain": [
       "       Unnamed: 0     ID                      Title  Year Rating IMDb  \\\n",
       "0               0      1      Terminator: Dark Fate  2019    18+  6.2   \n",
       "1               1      2                 Gemini Man  2019    13+  5.7   \n",
       "2               2      3          Rambo: Last Blood  2019    18+  6.1   \n",
       "3               3      4                The Courier  2019    18+  4.9   \n",
       "4               4      5                      Crawl  2019    18+  6.1   \n",
       "...           ...    ...                        ...   ...    ...  ...   \n",
       "24659       24659  24660                 Mama's Boy  2018    NaN  4.9   \n",
       "24660       24660  24661                 I Am Jonas  2018    NaN  7.0   \n",
       "24661       24661  24662  An Unremarkable Christmas  2020    NaN  3.6   \n",
       "24662       24662  24663                  BlackRose  2018    NaN  NaN   \n",
       "24663       24663  24664        A Very Special Drew  2000    NaN  8.0   \n",
       "\n",
       "      Rotten Tomatoes               Genre  Netflix  Amazon Prime Video  \n",
       "0                  81  Action & Adventure        0                   1  \n",
       "1                  74  Action & Adventure        0                   1  \n",
       "2                  72  Action & Adventure        0                   1  \n",
       "3                  50  Action & Adventure        0                   1  \n",
       "4                  79  Action & Adventure        0                   1  \n",
       "...               ...                 ...      ...                 ...  \n",
       "24659              33               Drama        1                   0  \n",
       "24660              52               Drama        1                   0  \n",
       "24661              41               Drama        1                   0  \n",
       "24662              na               Drama        1                   0  \n",
       "24663              41               Drama        1                   0  \n",
       "\n",
       "[24664 rows x 10 columns]"
      ]
     },
     "execution_count": 6,
     "metadata": {},
     "output_type": "execute_result"
    }
   ],
   "source": [
    "df"
   ]
  },
  {
   "cell_type": "code",
   "execution_count": 7,
   "id": "9d9dacb5",
   "metadata": {},
   "outputs": [
    {
     "data": {
      "text/plain": [
       "<bound method NDFrame.head of        Unnamed: 0     ID                      Title  Year Rating IMDb  \\\n",
       "0               0      1      Terminator: Dark Fate  2019    18+  6.2   \n",
       "1               1      2                 Gemini Man  2019    13+  5.7   \n",
       "2               2      3          Rambo: Last Blood  2019    18+  6.1   \n",
       "3               3      4                The Courier  2019    18+  4.9   \n",
       "4               4      5                      Crawl  2019    18+  6.1   \n",
       "...           ...    ...                        ...   ...    ...  ...   \n",
       "24659       24659  24660                 Mama's Boy  2018    NaN  4.9   \n",
       "24660       24660  24661                 I Am Jonas  2018    NaN  7.0   \n",
       "24661       24661  24662  An Unremarkable Christmas  2020    NaN  3.6   \n",
       "24662       24662  24663                  BlackRose  2018    NaN  NaN   \n",
       "24663       24663  24664        A Very Special Drew  2000    NaN  8.0   \n",
       "\n",
       "      Rotten Tomatoes               Genre  Netflix  Amazon Prime Video  \n",
       "0                  81  Action & Adventure        0                   1  \n",
       "1                  74  Action & Adventure        0                   1  \n",
       "2                  72  Action & Adventure        0                   1  \n",
       "3                  50  Action & Adventure        0                   1  \n",
       "4                  79  Action & Adventure        0                   1  \n",
       "...               ...                 ...      ...                 ...  \n",
       "24659              33               Drama        1                   0  \n",
       "24660              52               Drama        1                   0  \n",
       "24661              41               Drama        1                   0  \n",
       "24662              na               Drama        1                   0  \n",
       "24663              41               Drama        1                   0  \n",
       "\n",
       "[24664 rows x 10 columns]>"
      ]
     },
     "execution_count": 7,
     "metadata": {},
     "output_type": "execute_result"
    }
   ],
   "source": [
    "df.head"
   ]
  },
  {
   "cell_type": "code",
   "execution_count": 8,
   "id": "cef5091c",
   "metadata": {},
   "outputs": [
    {
     "data": {
      "text/plain": [
       "<bound method NDFrame.tail of        Unnamed: 0     ID                      Title  Year Rating IMDb  \\\n",
       "0               0      1      Terminator: Dark Fate  2019    18+  6.2   \n",
       "1               1      2                 Gemini Man  2019    13+  5.7   \n",
       "2               2      3          Rambo: Last Blood  2019    18+  6.1   \n",
       "3               3      4                The Courier  2019    18+  4.9   \n",
       "4               4      5                      Crawl  2019    18+  6.1   \n",
       "...           ...    ...                        ...   ...    ...  ...   \n",
       "24659       24659  24660                 Mama's Boy  2018    NaN  4.9   \n",
       "24660       24660  24661                 I Am Jonas  2018    NaN  7.0   \n",
       "24661       24661  24662  An Unremarkable Christmas  2020    NaN  3.6   \n",
       "24662       24662  24663                  BlackRose  2018    NaN  NaN   \n",
       "24663       24663  24664        A Very Special Drew  2000    NaN  8.0   \n",
       "\n",
       "      Rotten Tomatoes               Genre  Netflix  Amazon Prime Video  \n",
       "0                  81  Action & Adventure        0                   1  \n",
       "1                  74  Action & Adventure        0                   1  \n",
       "2                  72  Action & Adventure        0                   1  \n",
       "3                  50  Action & Adventure        0                   1  \n",
       "4                  79  Action & Adventure        0                   1  \n",
       "...               ...                 ...      ...                 ...  \n",
       "24659              33               Drama        1                   0  \n",
       "24660              52               Drama        1                   0  \n",
       "24661              41               Drama        1                   0  \n",
       "24662              na               Drama        1                   0  \n",
       "24663              41               Drama        1                   0  \n",
       "\n",
       "[24664 rows x 10 columns]>"
      ]
     },
     "execution_count": 8,
     "metadata": {},
     "output_type": "execute_result"
    }
   ],
   "source": [
    "df.tail"
   ]
  },
  {
   "cell_type": "code",
   "execution_count": 9,
   "id": "ccaf7f2e",
   "metadata": {},
   "outputs": [
    {
     "data": {
      "text/plain": [
       "<bound method NDFrame.describe of        Unnamed: 0     ID                      Title  Year Rating IMDb  \\\n",
       "0               0      1      Terminator: Dark Fate  2019    18+  6.2   \n",
       "1               1      2                 Gemini Man  2019    13+  5.7   \n",
       "2               2      3          Rambo: Last Blood  2019    18+  6.1   \n",
       "3               3      4                The Courier  2019    18+  4.9   \n",
       "4               4      5                      Crawl  2019    18+  6.1   \n",
       "...           ...    ...                        ...   ...    ...  ...   \n",
       "24659       24659  24660                 Mama's Boy  2018    NaN  4.9   \n",
       "24660       24660  24661                 I Am Jonas  2018    NaN  7.0   \n",
       "24661       24661  24662  An Unremarkable Christmas  2020    NaN  3.6   \n",
       "24662       24662  24663                  BlackRose  2018    NaN  NaN   \n",
       "24663       24663  24664        A Very Special Drew  2000    NaN  8.0   \n",
       "\n",
       "      Rotten Tomatoes               Genre  Netflix  Amazon Prime Video  \n",
       "0                  81  Action & Adventure        0                   1  \n",
       "1                  74  Action & Adventure        0                   1  \n",
       "2                  72  Action & Adventure        0                   1  \n",
       "3                  50  Action & Adventure        0                   1  \n",
       "4                  79  Action & Adventure        0                   1  \n",
       "...               ...                 ...      ...                 ...  \n",
       "24659              33               Drama        1                   0  \n",
       "24660              52               Drama        1                   0  \n",
       "24661              41               Drama        1                   0  \n",
       "24662              na               Drama        1                   0  \n",
       "24663              41               Drama        1                   0  \n",
       "\n",
       "[24664 rows x 10 columns]>"
      ]
     },
     "execution_count": 9,
     "metadata": {},
     "output_type": "execute_result"
    }
   ],
   "source": [
    "df.describe"
   ]
  },
  {
   "cell_type": "code",
   "execution_count": 10,
   "id": "e8bfd09a",
   "metadata": {},
   "outputs": [
    {
     "data": {
      "text/plain": [
       "<bound method DataFrame.isnull of        Unnamed: 0     ID                      Title  Year Rating IMDb  \\\n",
       "0               0      1      Terminator: Dark Fate  2019    18+  6.2   \n",
       "1               1      2                 Gemini Man  2019    13+  5.7   \n",
       "2               2      3          Rambo: Last Blood  2019    18+  6.1   \n",
       "3               3      4                The Courier  2019    18+  4.9   \n",
       "4               4      5                      Crawl  2019    18+  6.1   \n",
       "...           ...    ...                        ...   ...    ...  ...   \n",
       "24659       24659  24660                 Mama's Boy  2018    NaN  4.9   \n",
       "24660       24660  24661                 I Am Jonas  2018    NaN  7.0   \n",
       "24661       24661  24662  An Unremarkable Christmas  2020    NaN  3.6   \n",
       "24662       24662  24663                  BlackRose  2018    NaN  NaN   \n",
       "24663       24663  24664        A Very Special Drew  2000    NaN  8.0   \n",
       "\n",
       "      Rotten Tomatoes               Genre  Netflix  Amazon Prime Video  \n",
       "0                  81  Action & Adventure        0                   1  \n",
       "1                  74  Action & Adventure        0                   1  \n",
       "2                  72  Action & Adventure        0                   1  \n",
       "3                  50  Action & Adventure        0                   1  \n",
       "4                  79  Action & Adventure        0                   1  \n",
       "...               ...                 ...      ...                 ...  \n",
       "24659              33               Drama        1                   0  \n",
       "24660              52               Drama        1                   0  \n",
       "24661              41               Drama        1                   0  \n",
       "24662              na               Drama        1                   0  \n",
       "24663              41               Drama        1                   0  \n",
       "\n",
       "[24664 rows x 10 columns]>"
      ]
     },
     "execution_count": 10,
     "metadata": {},
     "output_type": "execute_result"
    }
   ],
   "source": [
    "df.isnull"
   ]
  },
  {
   "cell_type": "code",
   "execution_count": 11,
   "id": "b52c5a36",
   "metadata": {},
   "outputs": [
    {
     "name": "stdout",
     "output_type": "stream",
     "text": [
      "<class 'pandas.core.frame.DataFrame'>\n",
      "RangeIndex: 24664 entries, 0 to 24663\n",
      "Data columns (total 10 columns):\n",
      " #   Column              Non-Null Count  Dtype \n",
      "---  ------              --------------  ----- \n",
      " 0   Unnamed: 0          24664 non-null  int64 \n",
      " 1   ID                  24664 non-null  int64 \n",
      " 2   Title               24664 non-null  object\n",
      " 3   Year                24664 non-null  int64 \n",
      " 4   Rating              10029 non-null  object\n",
      " 5   IMDb                24244 non-null  object\n",
      " 6   Rotten Tomatoes     24664 non-null  object\n",
      " 7   Genre               24664 non-null  object\n",
      " 8   Netflix             24664 non-null  int64 \n",
      " 9   Amazon Prime Video  24664 non-null  int64 \n",
      "dtypes: int64(5), object(5)\n",
      "memory usage: 1.9+ MB\n"
     ]
    }
   ],
   "source": [
    "df.info()"
   ]
  },
  {
   "cell_type": "code",
   "execution_count": 13,
   "id": "3fe86569",
   "metadata": {},
   "outputs": [
    {
     "data": {
      "text/plain": [
       "(24664, 10)"
      ]
     },
     "execution_count": 13,
     "metadata": {},
     "output_type": "execute_result"
    }
   ],
   "source": [
    "df.shape"
   ]
  },
  {
   "cell_type": "code",
   "execution_count": 14,
   "id": "8671e06c",
   "metadata": {},
   "outputs": [
    {
     "data": {
      "text/plain": [
       "246640"
      ]
     },
     "execution_count": 14,
     "metadata": {},
     "output_type": "execute_result"
    }
   ],
   "source": [
    "df.size"
   ]
  },
  {
   "cell_type": "code",
   "execution_count": 17,
   "id": "51570b89",
   "metadata": {},
   "outputs": [
    {
     "data": {
      "text/plain": [
       "Index(['Unnamed: 0', 'ID', 'Title', 'Year', 'Rating', 'IMDb',\n",
       "       'Rotten Tomatoes', 'Genre', 'Netflix', 'Amazon Prime Video'],\n",
       "      dtype='object')"
      ]
     },
     "execution_count": 17,
     "metadata": {},
     "output_type": "execute_result"
    }
   ],
   "source": [
    "df.columns"
   ]
  },
  {
   "cell_type": "code",
   "execution_count": 18,
   "id": "761e9e9f",
   "metadata": {},
   "outputs": [
    {
     "data": {
      "text/plain": [
       "Unnamed: 0                0\n",
       "ID                        0\n",
       "Title                     0\n",
       "Year                      0\n",
       "Rating                14635\n",
       "IMDb                    420\n",
       "Rotten Tomatoes           0\n",
       "Genre                     0\n",
       "Netflix                   0\n",
       "Amazon Prime Video        0\n",
       "dtype: int64"
      ]
     },
     "execution_count": 18,
     "metadata": {},
     "output_type": "execute_result"
    }
   ],
   "source": [
    "df.isna().sum()"
   ]
  },
  {
   "cell_type": "code",
   "execution_count": 20,
   "id": "23fc6a07",
   "metadata": {},
   "outputs": [
    {
     "data": {
      "text/plain": [
       "<bound method IndexOpsMixin.tolist of MultiIndex([(0, 1,     0,     1, ...),\n",
       "            (0, 1, 15735, 15736, ...),\n",
       "            (0, 1, 15704, 15705, ...),\n",
       "            (0, 1, 15706, 15707, ...),\n",
       "            (0, 1, 15709, 15710, ...),\n",
       "            (0, 1, 15720, 15721, ...),\n",
       "            (0, 1, 15721, 15722, ...),\n",
       "            (0, 1, 15725, 15726, ...),\n",
       "            (0, 1, 15727, 15728, ...),\n",
       "            (0, 1, 15745, 15746, ...),\n",
       "            ...\n",
       "            (1, 0, 21109, 21110, ...),\n",
       "            (1, 0, 21110, 21111, ...),\n",
       "            (1, 0, 21111, 21112, ...),\n",
       "            (1, 0, 21113, 21114, ...),\n",
       "            (1, 0, 21114, 21115, ...),\n",
       "            (1, 0, 21115, 21116, ...),\n",
       "            (1, 0, 21116, 21117, ...),\n",
       "            (1, 0, 21117, 21118, ...),\n",
       "            (1, 0, 21118, 21119, ...),\n",
       "            (1, 0, 24655, 24656, ...)],\n",
       "           names=['Netflix', 'Amazon Prime Video', 'Unnamed: 0', 'ID', 'Title', 'Year', 'Rating', 'IMDb', 'Rotten Tomatoes', 'Genre'], length=9993)>"
      ]
     },
     "execution_count": 20,
     "metadata": {},
     "output_type": "execute_result"
    }
   ],
   "source": [
    "\n",
    "df.groupby(['Netflix', 'Amazon Prime Video']).value_counts().keys().tolist"
   ]
  },
  {
   "cell_type": "code",
   "execution_count": 30,
   "id": "50502efc",
   "metadata": {},
   "outputs": [
    {
     "data": {
      "text/plain": [
       "<Axes: xlabel='Netflix'>"
      ]
     },
     "execution_count": 30,
     "metadata": {},
     "output_type": "execute_result"
    },
    {
     "data": {
      "image/png": "[encoded data removed]",
      "text/plain": [
       "<Figure size 640x480 with 1 Axes>"
      ]
     },
     "metadata": {},
     "output_type": "display_data"
    }
   ],
   "source": [
    "df.groupby(['Netflix', 'Rating']).size().unstack('Rating').plot(kind='bar', stacked= True)\n"
   ]
  },
  {
   "cell_type": "code",
   "execution_count": 31,
   "id": "b1b0c609",
   "metadata": {},
   "outputs": [
    {
     "data": {
      "text/plain": [
       "<Axes: xlabel='Netflix'>"
      ]
     },
     "execution_count": 31,
     "metadata": {},
     "output_type": "execute_result"
    },
    {
     "data": {
      "image/png": "[encoded data removed]",
      "text/plain": [
       "<Figure size 640x480 with 1 Axes>"
      ]
     },
     "metadata": {},
     "output_type": "display_data"
    }
   ],
   "source": [
    "df.groupby(['Netflix', 'Rating']).size().unstack('Rating').plot(kind='bar', stacked= False)"
   ]
  },
  {
   "cell_type": "code",
   "execution_count": 32,
   "id": "c9999490",
   "metadata": {},
   "outputs": [
    {
     "data": {
      "text/plain": [
       "<Axes: xlabel='Amazon Prime Video'>"
      ]
     },
     "execution_count": 32,
     "metadata": {},
     "output_type": "execute_result"
    },
    {
     "data": {
      "image/png": "[encoded data removed]",
      "text/plain": [
       "<Figure size 640x480 with 1 Axes>"
      ]
     },
     "metadata": {},
     "output_type": "display_data"
    }
   ],
   "source": [
    "df.groupby(['Amazon Prime Video', 'Rating']).size().unstack('Rating').plot(kind='bar', stacked= True)"
   ]
  },
  {
   "cell_type": "code",
   "execution_count": 33,
   "id": "d9233be4",
   "metadata": {},
   "outputs": [
    {
     "data": {
      "text/plain": [
       "<Axes: xlabel='Amazon Prime Video'>"
      ]
     },
     "execution_count": 33,
     "metadata": {},
     "output_type": "execute_result"
    },
    {
     "data": {
      "image/png": "[encoded data removed]",
      "text/plain": [
       "<Figure size 640x480 with 1 Axes>"
      ]
     },
     "metadata": {},
     "output_type": "display_data"
    }
   ],
   "source": [
    "df.groupby(['Amazon Prime Video', 'Rating']).size().unstack('Rating').plot(kind='bar', stacked= False)"
   ]
  },
  {
   "cell_type": "code",
   "execution_count": 34,
   "id": "7ebdd5ad",
   "metadata": {},
   "outputs": [
    {
     "data": {
      "text/html": [
       "<div>\n",
       "<style scoped>\n",
       "    .dataframe tbody tr th:only-of-type {\n",
       "        vertical-align: middle;\n",
       "    }\n",
       "\n",
       "    .dataframe tbody tr th {\n",
       "        vertical-align: top;\n",
       "    }\n",
       "\n",
       "    .dataframe thead th {\n",
       "        text-align: right;\n",
       "    }\n",
       "</style>\n",
       "<table border=\"1\" class=\"dataframe\">\n",
       "  <thead>\n",
       "    <tr style=\"text-align: right;\">\n",
       "      <th></th>\n",
       "      <th>Unnamed: 0</th>\n",
       "      <th>ID</th>\n",
       "      <th>Title</th>\n",
       "      <th>Year</th>\n",
       "      <th>Rating</th>\n",
       "      <th>IMDb</th>\n",
       "      <th>Rotten Tomatoes</th>\n",
       "      <th>Genre</th>\n",
       "      <th>Netflix</th>\n",
       "      <th>Amazon Prime Video</th>\n",
       "    </tr>\n",
       "  </thead>\n",
       "  <tbody>\n",
       "    <tr>\n",
       "      <th>0</th>\n",
       "      <td>0</td>\n",
       "      <td>1</td>\n",
       "      <td>Terminator: Dark Fate</td>\n",
       "      <td>2019</td>\n",
       "      <td>18+</td>\n",
       "      <td>6.2</td>\n",
       "      <td>81</td>\n",
       "      <td>Action &amp; Adventure</td>\n",
       "      <td>0</td>\n",
       "      <td>1</td>\n",
       "    </tr>\n",
       "    <tr>\n",
       "      <th>1</th>\n",
       "      <td>1</td>\n",
       "      <td>2</td>\n",
       "      <td>Gemini Man</td>\n",
       "      <td>2019</td>\n",
       "      <td>13+</td>\n",
       "      <td>5.7</td>\n",
       "      <td>74</td>\n",
       "      <td>Action &amp; Adventure</td>\n",
       "      <td>0</td>\n",
       "      <td>1</td>\n",
       "    </tr>\n",
       "    <tr>\n",
       "      <th>2</th>\n",
       "      <td>2</td>\n",
       "      <td>3</td>\n",
       "      <td>Rambo: Last Blood</td>\n",
       "      <td>2019</td>\n",
       "      <td>18+</td>\n",
       "      <td>6.1</td>\n",
       "      <td>72</td>\n",
       "      <td>Action &amp; Adventure</td>\n",
       "      <td>0</td>\n",
       "      <td>1</td>\n",
       "    </tr>\n",
       "    <tr>\n",
       "      <th>3</th>\n",
       "      <td>3</td>\n",
       "      <td>4</td>\n",
       "      <td>The Courier</td>\n",
       "      <td>2019</td>\n",
       "      <td>18+</td>\n",
       "      <td>4.9</td>\n",
       "      <td>50</td>\n",
       "      <td>Action &amp; Adventure</td>\n",
       "      <td>0</td>\n",
       "      <td>1</td>\n",
       "    </tr>\n",
       "    <tr>\n",
       "      <th>4</th>\n",
       "      <td>4</td>\n",
       "      <td>5</td>\n",
       "      <td>Crawl</td>\n",
       "      <td>2019</td>\n",
       "      <td>18+</td>\n",
       "      <td>6.1</td>\n",
       "      <td>79</td>\n",
       "      <td>Action &amp; Adventure</td>\n",
       "      <td>0</td>\n",
       "      <td>1</td>\n",
       "    </tr>\n",
       "    <tr>\n",
       "      <th>...</th>\n",
       "      <td>...</td>\n",
       "      <td>...</td>\n",
       "      <td>...</td>\n",
       "      <td>...</td>\n",
       "      <td>...</td>\n",
       "      <td>...</td>\n",
       "      <td>...</td>\n",
       "      <td>...</td>\n",
       "      <td>...</td>\n",
       "      <td>...</td>\n",
       "    </tr>\n",
       "    <tr>\n",
       "      <th>24659</th>\n",
       "      <td>24659</td>\n",
       "      <td>24660</td>\n",
       "      <td>Mama's Boy</td>\n",
       "      <td>2018</td>\n",
       "      <td>NaN</td>\n",
       "      <td>4.9</td>\n",
       "      <td>33</td>\n",
       "      <td>Drama</td>\n",
       "      <td>1</td>\n",
       "      <td>0</td>\n",
       "    </tr>\n",
       "    <tr>\n",
       "      <th>24660</th>\n",
       "      <td>24660</td>\n",
       "      <td>24661</td>\n",
       "      <td>I Am Jonas</td>\n",
       "      <td>2018</td>\n",
       "      <td>NaN</td>\n",
       "      <td>7.0</td>\n",
       "      <td>52</td>\n",
       "      <td>Drama</td>\n",
       "      <td>1</td>\n",
       "      <td>0</td>\n",
       "    </tr>\n",
       "    <tr>\n",
       "      <th>24661</th>\n",
       "      <td>24661</td>\n",
       "      <td>24662</td>\n",
       "      <td>An Unremarkable Christmas</td>\n",
       "      <td>2020</td>\n",
       "      <td>NaN</td>\n",
       "      <td>3.6</td>\n",
       "      <td>41</td>\n",
       "      <td>Drama</td>\n",
       "      <td>1</td>\n",
       "      <td>0</td>\n",
       "    </tr>\n",
       "    <tr>\n",
       "      <th>24662</th>\n",
       "      <td>24662</td>\n",
       "      <td>24663</td>\n",
       "      <td>BlackRose</td>\n",
       "      <td>2018</td>\n",
       "      <td>NaN</td>\n",
       "      <td>NaN</td>\n",
       "      <td>na</td>\n",
       "      <td>Drama</td>\n",
       "      <td>1</td>\n",
       "      <td>0</td>\n",
       "    </tr>\n",
       "    <tr>\n",
       "      <th>24663</th>\n",
       "      <td>24663</td>\n",
       "      <td>24664</td>\n",
       "      <td>A Very Special Drew</td>\n",
       "      <td>2000</td>\n",
       "      <td>NaN</td>\n",
       "      <td>8.0</td>\n",
       "      <td>41</td>\n",
       "      <td>Drama</td>\n",
       "      <td>1</td>\n",
       "      <td>0</td>\n",
       "    </tr>\n",
       "  </tbody>\n",
       "</table>\n",
       "<p>24664 rows × 10 columns</p>\n",
       "</div>"
      ],
      "text/plain": [
       "       Unnamed: 0     ID                      Title  Year Rating IMDb  \\\n",
       "0               0      1      Terminator: Dark Fate  2019    18+  6.2   \n",
       "1               1      2                 Gemini Man  2019    13+  5.7   \n",
       "2               2      3          Rambo: Last Blood  2019    18+  6.1   \n",
       "3               3      4                The Courier  2019    18+  4.9   \n",
       "4               4      5                      Crawl  2019    18+  6.1   \n",
       "...           ...    ...                        ...   ...    ...  ...   \n",
       "24659       24659  24660                 Mama's Boy  2018    NaN  4.9   \n",
       "24660       24660  24661                 I Am Jonas  2018    NaN  7.0   \n",
       "24661       24661  24662  An Unremarkable Christmas  2020    NaN  3.6   \n",
       "24662       24662  24663                  BlackRose  2018    NaN  NaN   \n",
       "24663       24663  24664        A Very Special Drew  2000    NaN  8.0   \n",
       "\n",
       "      Rotten Tomatoes               Genre  Netflix  Amazon Prime Video  \n",
       "0                  81  Action & Adventure        0                   1  \n",
       "1                  74  Action & Adventure        0                   1  \n",
       "2                  72  Action & Adventure        0                   1  \n",
       "3                  50  Action & Adventure        0                   1  \n",
       "4                  79  Action & Adventure        0                   1  \n",
       "...               ...                 ...      ...                 ...  \n",
       "24659              33               Drama        1                   0  \n",
       "24660              52               Drama        1                   0  \n",
       "24661              41               Drama        1                   0  \n",
       "24662              na               Drama        1                   0  \n",
       "24663              41               Drama        1                   0  \n",
       "\n",
       "[24664 rows x 10 columns]"
      ]
     },
     "execution_count": 34,
     "metadata": {},
     "output_type": "execute_result"
    }
   ],
   "source": [
    "df\n"
   ]
  },
  {
   "cell_type": "code",
   "execution_count": 37,
   "id": "0746d5e3",
   "metadata": {},
   "outputs": [
    {
     "data": {
      "text/plain": [
       "<function matplotlib.pyplot.show(close=None, block=None)>"
      ]
     },
     "execution_count": 37,
     "metadata": {},
     "output_type": "execute_result"
    },
    {
     "data": {
      "image/png": "[encoded data removed]",
      "text/plain": [
       "<Figure size 640x480 with 1 Axes>"
      ]
     },
     "metadata": {},
     "output_type": "display_data"
    }
   ],
   "source": [
    "\n",
    "plt.title('Netflix rating')\n",
    "plt.xlabel('count of year')\n",
    "plt.ylabel('Count of ID')\n",
    "plt.show"
   ]
  },
  {
   "cell_type": "code",
   "execution_count": 38,
   "id": "b5687bdf",
   "metadata": {},
   "outputs": [
    {
     "data": {
      "text/plain": [
       "<function matplotlib.pyplot.show(close=None, block=None)>"
      ]
     },
     "execution_count": 38,
     "metadata": {},
     "output_type": "execute_result"
    },
    {
     "data": {
      "image/png": "[encoded data removed]",
      "text/plain": [
       "<Figure size 640x480 with 1 Axes>"
      ]
     },
     "metadata": {},
     "output_type": "display_data"
    }
   ],
   "source": [
    "plt.title('Amazon Prime Video rating')\n",
    "plt.xlabel('count of year')\n",
    "plt.ylabel('Count of ID')\n",
    "plt.show"
   ]
  },
  {
   "cell_type": "code",
   "execution_count": 40,
   "id": "c3375710",
   "metadata": {},
   "outputs": [
    {
     "data": {
      "text/plain": [
       "(array([494., 493., 493., 494., 493., 493., 493., 494., 493., 493., 493.,\n",
       "        494., 493., 493., 493., 494., 493., 493., 493., 494., 493., 493.,\n",
       "        493., 494., 493., 493., 494., 493., 493., 493., 494., 493., 493.,\n",
       "        493., 494., 493., 493., 493., 494., 493., 493., 493., 494., 493.,\n",
       "        493., 493., 494., 493., 493., 494.]),\n",
       " array([1.000000e+00, 4.942600e+02, 9.875200e+02, 1.480780e+03,\n",
       "        1.974040e+03, 2.467300e+03, 2.960560e+03, 3.453820e+03,\n",
       "        3.947080e+03, 4.440340e+03, 4.933600e+03, 5.426860e+03,\n",
       "        5.920120e+03, 6.413380e+03, 6.906640e+03, 7.399900e+03,\n",
       "        7.893160e+03, 8.386420e+03, 8.879680e+03, 9.372940e+03,\n",
       "        9.866200e+03, 1.035946e+04, 1.085272e+04, 1.134598e+04,\n",
       "        1.183924e+04, 1.233250e+04, 1.282576e+04, 1.331902e+04,\n",
       "        1.381228e+04, 1.430554e+04, 1.479880e+04, 1.529206e+04,\n",
       "        1.578532e+04, 1.627858e+04, 1.677184e+04, 1.726510e+04,\n",
       "        1.775836e+04, 1.825162e+04, 1.874488e+04, 1.923814e+04,\n",
       "        1.973140e+04, 2.022466e+04, 2.071792e+04, 2.121118e+04,\n",
       "        2.170444e+04, 2.219770e+04, 2.269096e+04, 2.318422e+04,\n",
       "        2.367748e+04, 2.417074e+04, 2.466400e+04]),\n",
       " <BarContainer object of 50 artists>)"
      ]
     },
     "execution_count": 40,
     "metadata": {},
     "output_type": "execute_result"
    },
    {
     "data": {
      "image/png": "[encoded data removed]",
      "text/plain": [
       "<Figure size 640x480 with 1 Axes>"
      ]
     },
     "metadata": {},
     "output_type": "display_data"
    }
   ],
   "source": [
    "plt.hist(df['ID'], bins=50)\n"
   ]
  },
  {
   "cell_type": "code",
   "execution_count": 42,
   "id": "1da16ccf",
   "metadata": {},
   "outputs": [
    {
     "data": {
      "text/plain": [
       "(array([ 136.,  557.,  295.,  195.,  961.,  747.,  108.,  494.,  674.,\n",
       "          12.,  869.,  648.,  782.,  871.,  469.,  283., 1115., 1094.,\n",
       "         115., 1043.,  291.,  857.,  720.,  288., 1140.,  542.,  198.,\n",
       "        1626.,  195.,  226.,  836.,  372., 1105., 2119.,  370.,  165.,\n",
       "         697.,  524.,  483.,   25.,    5.,   63.,   64.,   30.,  110.,\n",
       "          26.,    6.,   87.,   20.,    6.]),\n",
       " array([ 0.  ,  1.68,  3.36,  5.04,  6.72,  8.4 , 10.08, 11.76, 13.44,\n",
       "        15.12, 16.8 , 18.48, 20.16, 21.84, 23.52, 25.2 , 26.88, 28.56,\n",
       "        30.24, 31.92, 33.6 , 35.28, 36.96, 38.64, 40.32, 42.  , 43.68,\n",
       "        45.36, 47.04, 48.72, 50.4 , 52.08, 53.76, 55.44, 57.12, 58.8 ,\n",
       "        60.48, 62.16, 63.84, 65.52, 67.2 , 68.88, 70.56, 72.24, 73.92,\n",
       "        75.6 , 77.28, 78.96, 80.64, 82.32, 84.  ]),\n",
       " <BarContainer object of 50 artists>)"
      ]
     },
     "execution_count": 42,
     "metadata": {},
     "output_type": "execute_result"
    },
    {
     "data": {
      "image/png": "[encoded data removed]",
      "text/plain": [
       "<Figure size 640x480 with 1 Axes>"
      ]
     },
     "metadata": {},
     "output_type": "display_data"
    }
   ],
   "source": [
    "plt.hist(df['Rotten Tomatoes'], bins=50)"
   ]
  },
  {
   "cell_type": "code",
   "execution_count": 44,
   "id": "53fe8a5d",
   "metadata": {},
   "outputs": [
    {
     "data": {
      "text/plain": [
       "(array([5.000e+00, 3.000e+00, 7.000e+00, 1.000e+01, 1.500e+01, 1.900e+01,\n",
       "        1.000e+01, 2.900e+01, 7.000e+01, 9.600e+01, 1.230e+02, 2.560e+02,\n",
       "        1.380e+02, 1.630e+02, 1.290e+02, 1.190e+02, 1.500e+02, 8.900e+01,\n",
       "        1.210e+02, 1.010e+02, 1.280e+02, 1.320e+02, 1.790e+02, 1.070e+02,\n",
       "        9.100e+01, 1.080e+02, 1.740e+02, 3.850e+02, 2.740e+02, 2.930e+02,\n",
       "        2.890e+02, 2.020e+02, 1.980e+02, 3.010e+02, 2.430e+02, 2.240e+02,\n",
       "        2.540e+02, 2.390e+02, 4.820e+02, 3.980e+02, 4.650e+02, 5.730e+02,\n",
       "        7.030e+02, 9.750e+02, 2.000e+03, 1.887e+03, 2.728e+03, 3.228e+03,\n",
       "        3.670e+03, 2.081e+03]),\n",
       " array([1912.  , 1914.18, 1916.36, 1918.54, 1920.72, 1922.9 , 1925.08,\n",
       "        1927.26, 1929.44, 1931.62, 1933.8 , 1935.98, 1938.16, 1940.34,\n",
       "        1942.52, 1944.7 , 1946.88, 1949.06, 1951.24, 1953.42, 1955.6 ,\n",
       "        1957.78, 1959.96, 1962.14, 1964.32, 1966.5 , 1968.68, 1970.86,\n",
       "        1973.04, 1975.22, 1977.4 , 1979.58, 1981.76, 1983.94, 1986.12,\n",
       "        1988.3 , 1990.48, 1992.66, 1994.84, 1997.02, 1999.2 , 2001.38,\n",
       "        2003.56, 2005.74, 2007.92, 2010.1 , 2012.28, 2014.46, 2016.64,\n",
       "        2018.82, 2021.  ]),\n",
       " <BarContainer object of 50 artists>)"
      ]
     },
     "execution_count": 44,
     "metadata": {},
     "output_type": "execute_result"
    },
    {
     "data": {
      "image/png": "[encoded data removed]",
      "text/plain": [
       "<Figure size 640x480 with 1 Axes>"
      ]
     },
     "metadata": {},
     "output_type": "display_data"
    }
   ],
   "source": [
    "plt.hist(df['Year'], bins=50)"
   ]
  },
  {
   "cell_type": "code",
   "execution_count": 46,
   "id": "e1c2c9fe",
   "metadata": {},
   "outputs": [
    {
     "data": {
      "text/plain": [
       "<matplotlib.collections.PathCollection at 0x1654579f5e0>"
      ]
     },
     "execution_count": 46,
     "metadata": {},
     "output_type": "execute_result"
    },
    {
     "data": {
      "image/png": "[encoded data removed]",
      "text/plain": [
       "<Figure size 640x480 with 1 Axes>"
      ]
     },
     "metadata": {},
     "output_type": "display_data"
    }
   ],
   "source": [
    "\n",
    "plt.scatter(df['Year'],df['ID'] )"
   ]
  },
  {
   "cell_type": "code",
   "execution_count": 50,
   "id": "bae203b6",
   "metadata": {},
   "outputs": [
    {
     "data": {
      "text/plain": [
       "<matplotlib.collections.PathCollection at 0x16547f2d750>"
      ]
     },
     "execution_count": 50,
     "metadata": {},
     "output_type": "execute_result"
    },
    {
     "data": {
      "image/png": "[encoded data removed]",
      "text/plain": [
       "<Figure size 640x480 with 1 Axes>"
      ]
     },
     "metadata": {},
     "output_type": "display_data"
    }
   ],
   "source": [
    "\n",
    "plt.scatter(df['Year'],df['Netflix'] )"
   ]
  },
  {
   "cell_type": "code",
   "execution_count": 51,
   "id": "b9023db6",
   "metadata": {},
   "outputs": [
    {
     "data": {
      "text/plain": [
       "<matplotlib.collections.PathCollection at 0x16548001ba0>"
      ]
     },
     "execution_count": 51,
     "metadata": {},
     "output_type": "execute_result"
    },
    {
     "data": {
      "image/png": "[encoded data removed]",
      "text/plain": [
       "<Figure size 640x480 with 1 Axes>"
      ]
     },
     "metadata": {},
     "output_type": "display_data"
    }
   ],
   "source": [
    "plt.scatter(df['Year'],df['Amazon Prime Video'] )"
   ]
  },
  {
   "cell_type": "code",
   "execution_count": 54,
   "id": "17a3fb24",
   "metadata": {},
   "outputs": [
    {
     "data": {
      "text/plain": [
       "<Axes: xlabel='Year', ylabel='ID'>"
      ]
     },
     "execution_count": 54,
     "metadata": {},
     "output_type": "execute_result"
    },
    {
     "data": {
      "image/png": "[encoded data removed]",
      "text/plain": [
       "<Figure size 640x480 with 1 Axes>"
      ]
     },
     "metadata": {},
     "output_type": "display_data"
    }
   ],
   "source": [
    "sns.boxplot(x=df[\"Year\"], y=df[\"ID\"])"
   ]
  },
  {
   "cell_type": "code",
   "execution_count": 55,
   "id": "d0661f35",
   "metadata": {},
   "outputs": [
    {
     "data": {
      "text/plain": [
       "<Axes: xlabel='Year', ylabel='Rating'>"
      ]
     },
     "execution_count": 55,
     "metadata": {},
     "output_type": "execute_result"
    },
    {
     "data": {
      "image/png": "[encoded data removed]",
      "text/plain": [
       "<Figure size 640x480 with 1 Axes>"
      ]
     },
     "metadata": {},
     "output_type": "display_data"
    }
   ],
   "source": [
    "sns.boxplot(x=df[\"Year\"], y=df[\"Rating\"])"
   ]
  },
  {
   "cell_type": "code",
   "execution_count": 56,
   "id": "b4ba4936",
   "metadata": {},
   "outputs": [
    {
     "data": {
      "text/plain": [
       "<Axes: xlabel='Netflix', ylabel='ID'>"
      ]
     },
     "execution_count": 56,
     "metadata": {},
     "output_type": "execute_result"
    },
    {
     "data": {
      "image/png": "[encoded data removed]",
      "text/plain": [
       "<Figure size 640x480 with 1 Axes>"
      ]
     },
     "metadata": {},
     "output_type": "display_data"
    }
   ],
   "source": [
    "sns.boxplot(x=df[\"Netflix\"], y=df[\"ID\"])"
   ]
  },
  {
   "cell_type": "code",
   "execution_count": 57,
   "id": "a756d4c7",
   "metadata": {},
   "outputs": [
    {
     "data": {
      "text/html": [
       "<div>\n",
       "<style scoped>\n",
       "    .dataframe tbody tr th:only-of-type {\n",
       "        vertical-align: middle;\n",
       "    }\n",
       "\n",
       "    .dataframe tbody tr th {\n",
       "        vertical-align: top;\n",
       "    }\n",
       "\n",
       "    .dataframe thead th {\n",
       "        text-align: right;\n",
       "    }\n",
       "</style>\n",
       "<table border=\"1\" class=\"dataframe\">\n",
       "  <thead>\n",
       "    <tr style=\"text-align: right;\">\n",
       "      <th></th>\n",
       "      <th>Unnamed: 0</th>\n",
       "      <th>ID</th>\n",
       "      <th>Title</th>\n",
       "      <th>Year</th>\n",
       "      <th>Rating</th>\n",
       "      <th>IMDb</th>\n",
       "      <th>Rotten Tomatoes</th>\n",
       "      <th>Genre</th>\n",
       "      <th>Netflix</th>\n",
       "      <th>Amazon Prime Video</th>\n",
       "    </tr>\n",
       "  </thead>\n",
       "  <tbody>\n",
       "    <tr>\n",
       "      <th>0</th>\n",
       "      <td>0</td>\n",
       "      <td>1</td>\n",
       "      <td>Terminator: Dark Fate</td>\n",
       "      <td>2019</td>\n",
       "      <td>18+</td>\n",
       "      <td>6.2</td>\n",
       "      <td>81</td>\n",
       "      <td>Action &amp; Adventure</td>\n",
       "      <td>0</td>\n",
       "      <td>1</td>\n",
       "    </tr>\n",
       "    <tr>\n",
       "      <th>1</th>\n",
       "      <td>1</td>\n",
       "      <td>2</td>\n",
       "      <td>Gemini Man</td>\n",
       "      <td>2019</td>\n",
       "      <td>13+</td>\n",
       "      <td>5.7</td>\n",
       "      <td>74</td>\n",
       "      <td>Action &amp; Adventure</td>\n",
       "      <td>0</td>\n",
       "      <td>1</td>\n",
       "    </tr>\n",
       "    <tr>\n",
       "      <th>2</th>\n",
       "      <td>2</td>\n",
       "      <td>3</td>\n",
       "      <td>Rambo: Last Blood</td>\n",
       "      <td>2019</td>\n",
       "      <td>18+</td>\n",
       "      <td>6.1</td>\n",
       "      <td>72</td>\n",
       "      <td>Action &amp; Adventure</td>\n",
       "      <td>0</td>\n",
       "      <td>1</td>\n",
       "    </tr>\n",
       "    <tr>\n",
       "      <th>3</th>\n",
       "      <td>3</td>\n",
       "      <td>4</td>\n",
       "      <td>The Courier</td>\n",
       "      <td>2019</td>\n",
       "      <td>18+</td>\n",
       "      <td>4.9</td>\n",
       "      <td>50</td>\n",
       "      <td>Action &amp; Adventure</td>\n",
       "      <td>0</td>\n",
       "      <td>1</td>\n",
       "    </tr>\n",
       "    <tr>\n",
       "      <th>4</th>\n",
       "      <td>4</td>\n",
       "      <td>5</td>\n",
       "      <td>Crawl</td>\n",
       "      <td>2019</td>\n",
       "      <td>18+</td>\n",
       "      <td>6.1</td>\n",
       "      <td>79</td>\n",
       "      <td>Action &amp; Adventure</td>\n",
       "      <td>0</td>\n",
       "      <td>1</td>\n",
       "    </tr>\n",
       "    <tr>\n",
       "      <th>...</th>\n",
       "      <td>...</td>\n",
       "      <td>...</td>\n",
       "      <td>...</td>\n",
       "      <td>...</td>\n",
       "      <td>...</td>\n",
       "      <td>...</td>\n",
       "      <td>...</td>\n",
       "      <td>...</td>\n",
       "      <td>...</td>\n",
       "      <td>...</td>\n",
       "    </tr>\n",
       "    <tr>\n",
       "      <th>24659</th>\n",
       "      <td>24659</td>\n",
       "      <td>24660</td>\n",
       "      <td>Mama's Boy</td>\n",
       "      <td>2018</td>\n",
       "      <td>NaN</td>\n",
       "      <td>4.9</td>\n",
       "      <td>33</td>\n",
       "      <td>Drama</td>\n",
       "      <td>1</td>\n",
       "      <td>0</td>\n",
       "    </tr>\n",
       "    <tr>\n",
       "      <th>24660</th>\n",
       "      <td>24660</td>\n",
       "      <td>24661</td>\n",
       "      <td>I Am Jonas</td>\n",
       "      <td>2018</td>\n",
       "      <td>NaN</td>\n",
       "      <td>7.0</td>\n",
       "      <td>52</td>\n",
       "      <td>Drama</td>\n",
       "      <td>1</td>\n",
       "      <td>0</td>\n",
       "    </tr>\n",
       "    <tr>\n",
       "      <th>24661</th>\n",
       "      <td>24661</td>\n",
       "      <td>24662</td>\n",
       "      <td>An Unremarkable Christmas</td>\n",
       "      <td>2020</td>\n",
       "      <td>NaN</td>\n",
       "      <td>3.6</td>\n",
       "      <td>41</td>\n",
       "      <td>Drama</td>\n",
       "      <td>1</td>\n",
       "      <td>0</td>\n",
       "    </tr>\n",
       "    <tr>\n",
       "      <th>24662</th>\n",
       "      <td>24662</td>\n",
       "      <td>24663</td>\n",
       "      <td>BlackRose</td>\n",
       "      <td>2018</td>\n",
       "      <td>NaN</td>\n",
       "      <td>NaN</td>\n",
       "      <td>na</td>\n",
       "      <td>Drama</td>\n",
       "      <td>1</td>\n",
       "      <td>0</td>\n",
       "    </tr>\n",
       "    <tr>\n",
       "      <th>24663</th>\n",
       "      <td>24663</td>\n",
       "      <td>24664</td>\n",
       "      <td>A Very Special Drew</td>\n",
       "      <td>2000</td>\n",
       "      <td>NaN</td>\n",
       "      <td>8.0</td>\n",
       "      <td>41</td>\n",
       "      <td>Drama</td>\n",
       "      <td>1</td>\n",
       "      <td>0</td>\n",
       "    </tr>\n",
       "  </tbody>\n",
       "</table>\n",
       "<p>24664 rows × 10 columns</p>\n",
       "</div>"
      ],
      "text/plain": [
       "       Unnamed: 0     ID                      Title  Year Rating IMDb  \\\n",
       "0               0      1      Terminator: Dark Fate  2019    18+  6.2   \n",
       "1               1      2                 Gemini Man  2019    13+  5.7   \n",
       "2               2      3          Rambo: Last Blood  2019    18+  6.1   \n",
       "3               3      4                The Courier  2019    18+  4.9   \n",
       "4               4      5                      Crawl  2019    18+  6.1   \n",
       "...           ...    ...                        ...   ...    ...  ...   \n",
       "24659       24659  24660                 Mama's Boy  2018    NaN  4.9   \n",
       "24660       24660  24661                 I Am Jonas  2018    NaN  7.0   \n",
       "24661       24661  24662  An Unremarkable Christmas  2020    NaN  3.6   \n",
       "24662       24662  24663                  BlackRose  2018    NaN  NaN   \n",
       "24663       24663  24664        A Very Special Drew  2000    NaN  8.0   \n",
       "\n",
       "      Rotten Tomatoes               Genre  Netflix  Amazon Prime Video  \n",
       "0                  81  Action & Adventure        0                   1  \n",
       "1                  74  Action & Adventure        0                   1  \n",
       "2                  72  Action & Adventure        0                   1  \n",
       "3                  50  Action & Adventure        0                   1  \n",
       "4                  79  Action & Adventure        0                   1  \n",
       "...               ...                 ...      ...                 ...  \n",
       "24659              33               Drama        1                   0  \n",
       "24660              52               Drama        1                   0  \n",
       "24661              41               Drama        1                   0  \n",
       "24662              na               Drama        1                   0  \n",
       "24663              41               Drama        1                   0  \n",
       "\n",
       "[24664 rows x 10 columns]"
      ]
     },
     "execution_count": 57,
     "metadata": {},
     "output_type": "execute_result"
    }
   ],
   "source": [
    "df"
   ]
  },
  {
   "cell_type": "code",
   "execution_count": 58,
   "id": "d6826476",
   "metadata": {},
   "outputs": [
    {
     "data": {
      "text/plain": [
       "<Axes: xlabel='Amazon Prime Video', ylabel='ID'>"
      ]
     },
     "execution_count": 58,
     "metadata": {},
     "output_type": "execute_result"
    },
    {
     "data": {
      "image/png": "[encoded data removed]",
      "text/plain": [
       "<Figure size 640x480 with 1 Axes>"
      ]
     },
     "metadata": {},
     "output_type": "display_data"
    }
   ],
   "source": [
    "sns.boxplot(x=df[\"Amazon Prime Video\"], y=df[\"ID\"])"
   ]
  },
  {
   "cell_type": "code",
   "execution_count": 59,
   "id": "ba1cfa80",
   "metadata": {},
   "outputs": [
    {
     "data": {
      "text/plain": [
       "<Axes: xlabel='Amazon Prime Video', ylabel='Genre'>"
      ]
     },
     "execution_count": 59,
     "metadata": {},
     "output_type": "execute_result"
    },
    {
     "data": {
      "image/png": "[encoded data removed]",
      "text/plain": [
       "<Figure size 640x480 with 1 Axes>"
      ]
     },
     "metadata": {},
     "output_type": "display_data"
    }
   ],
   "source": [
    "sns.boxplot(x=df[\"Amazon Prime Video\"], y=df[\"Genre\"])"
   ]
  },
  {
   "cell_type": "code",
   "execution_count": 60,
   "id": "1a3ed422",
   "metadata": {},
   "outputs": [
    {
     "data": {
      "text/plain": [
       "<Axes: xlabel='Netflix', ylabel='Genre'>"
      ]
     },
     "execution_count": 60,
     "metadata": {},
     "output_type": "execute_result"
    },
    {
     "data": {
      "image/png": "[encoded data removed]",
      "text/plain": [
       "<Figure size 640x480 with 1 Axes>"
      ]
     },
     "metadata": {},
     "output_type": "display_data"
    }
   ],
   "source": [
    "sns.boxplot(x=df[\"Netflix\"], y=df[\"Genre\"])"
   ]
  },
  {
   "cell_type": "code",
   "execution_count": 62,
   "id": "a3567aa3",
   "metadata": {},
   "outputs": [
    {
     "data": {
      "text/plain": [
       "<Axes: xlabel='Unnamed: 0', ylabel='Genre'>"
      ]
     },
     "execution_count": 62,
     "metadata": {},
     "output_type": "execute_result"
    },
    {
     "data": {
      "image/png": "[encoded data removed]",
      "text/plain": [
       "<Figure size 640x480 with 1 Axes>"
      ]
     },
     "metadata": {},
     "output_type": "display_data"
    }
   ],
   "source": [
    "sns.boxplot(x=df[\"Unnamed: 0\"], y=df[\"Genre\"])"
   ]
  },
  {
   "cell_type": "code",
   "execution_count": 63,
   "id": "1da64ab3",
   "metadata": {},
   "outputs": [],
   "source": [
    "\n",
    "from sklearn import linear_model\n",
    "from sklearn.model_selection import train_test_split\n"
   ]
  },
  {
   "cell_type": "code",
   "execution_count": 64,
   "id": "6c6789b1",
   "metadata": {},
   "outputs": [],
   "source": [
    " x=df.loc[:,[\"Year\"]].values"
   ]
  },
  {
   "cell_type": "code",
   "execution_count": 65,
   "id": "192018f1",
   "metadata": {},
   "outputs": [
    {
     "data": {
      "text/plain": [
       "array([[2019],\n",
       "       [2019],\n",
       "       [2019],\n",
       "       ...,\n",
       "       [2020],\n",
       "       [2018],\n",
       "       [2000]], dtype=int64)"
      ]
     },
     "execution_count": 65,
     "metadata": {},
     "output_type": "execute_result"
    }
   ],
   "source": [
    "x"
   ]
  },
  {
   "cell_type": "code",
   "execution_count": 66,
   "id": "e6994978",
   "metadata": {},
   "outputs": [],
   "source": [
    " y=df.loc[:,[\"ID\"]].values"
   ]
  },
  {
   "cell_type": "code",
   "execution_count": 67,
   "id": "e529b0b7",
   "metadata": {},
   "outputs": [
    {
     "data": {
      "text/plain": [
       "array([[    1],\n",
       "       [    2],\n",
       "       [    3],\n",
       "       ...,\n",
       "       [24662],\n",
       "       [24663],\n",
       "       [24664]], dtype=int64)"
      ]
     },
     "execution_count": 67,
     "metadata": {},
     "output_type": "execute_result"
    }
   ],
   "source": [
    "y"
   ]
  },
  {
   "cell_type": "code",
   "execution_count": 68,
   "id": "0ffa17b3",
   "metadata": {},
   "outputs": [],
   "source": [
    "\n",
    "from pandas.core.common import random_state\n",
    "x_train, x_test,y_train,y_test = train_test_split(x,y,test_size=0.3, random_state=0)"
   ]
  },
  {
   "cell_type": "code",
   "execution_count": 69,
   "id": "f5b291aa",
   "metadata": {},
   "outputs": [
    {
     "data": {
      "text/html": [
       "<style>#sk-container-id-1 {color: black;background-color: white;}#sk-container-id-1 pre{padding: 0;}#sk-container-id-1 div.sk-toggleable {background-color: white;}#sk-container-id-1 label.sk-toggleable__label {cursor: pointer;display: block;width: 100%;margin-bottom: 0;padding: 0.3em;box-sizing: border-box;text-align: center;}#sk-container-id-1 label.sk-toggleable__label-arrow:before {content: \"▸\";float: left;margin-right: 0.25em;color: #696969;}#sk-container-id-1 label.sk-toggleable__label-arrow:hover:before {color: black;}#sk-container-id-1 div.sk-estimator:hover label.sk-toggleable__label-arrow:before {color: black;}#sk-container-id-1 div.sk-toggleable__content {max-height: 0;max-width: 0;overflow: hidden;text-align: left;background-color: #f0f8ff;}#sk-container-id-1 div.sk-toggleable__content pre {margin: 0.2em;color: black;border-radius: 0.25em;background-color: #f0f8ff;}#sk-container-id-1 input.sk-toggleable__control:checked~div.sk-toggleable__content {max-height: 200px;max-width: 100%;overflow: auto;}#sk-container-id-1 input.sk-toggleable__control:checked~label.sk-toggleable__label-arrow:before {content: \"▾\";}#sk-container-id-1 div.sk-estimator input.sk-toggleable__control:checked~label.sk-toggleable__label {background-color: #d4ebff;}#sk-container-id-1 div.sk-label input.sk-toggleable__control:checked~label.sk-toggleable__label {background-color: #d4ebff;}#sk-container-id-1 input.sk-hidden--visually {border: 0;clip: rect(1px 1px 1px 1px);clip: rect(1px, 1px, 1px, 1px);height: 1px;margin: -1px;overflow: hidden;padding: 0;position: absolute;width: 1px;}#sk-container-id-1 div.sk-estimator {font-family: monospace;background-color: #f0f8ff;border: 1px dotted black;border-radius: 0.25em;box-sizing: border-box;margin-bottom: 0.5em;}#sk-container-id-1 div.sk-estimator:hover {background-color: #d4ebff;}#sk-container-id-1 div.sk-parallel-item::after {content: \"\";width: 100%;border-bottom: 1px solid gray;flex-grow: 1;}#sk-container-id-1 div.sk-label:hover label.sk-toggleable__label {background-color: #d4ebff;}#sk-container-id-1 div.sk-serial::before {content: \"\";position: absolute;border-left: 1px solid gray;box-sizing: border-box;top: 0;bottom: 0;left: 50%;z-index: 0;}#sk-container-id-1 div.sk-serial {display: flex;flex-direction: column;align-items: center;background-color: white;padding-right: 0.2em;padding-left: 0.2em;position: relative;}#sk-container-id-1 div.sk-item {position: relative;z-index: 1;}#sk-container-id-1 div.sk-parallel {display: flex;align-items: stretch;justify-content: center;background-color: white;position: relative;}#sk-container-id-1 div.sk-item::before, #sk-container-id-1 div.sk-parallel-item::before {content: \"\";position: absolute;border-left: 1px solid gray;box-sizing: border-box;top: 0;bottom: 0;left: 50%;z-index: -1;}#sk-container-id-1 div.sk-parallel-item {display: flex;flex-direction: column;z-index: 1;position: relative;background-color: white;}#sk-container-id-1 div.sk-parallel-item:first-child::after {align-self: flex-end;width: 50%;}#sk-container-id-1 div.sk-parallel-item:last-child::after {align-self: flex-start;width: 50%;}#sk-container-id-1 div.sk-parallel-item:only-child::after {width: 0;}#sk-container-id-1 div.sk-dashed-wrapped {border: 1px dashed gray;margin: 0 0.4em 0.5em 0.4em;box-sizing: border-box;padding-bottom: 0.4em;background-color: white;}#sk-container-id-1 div.sk-label label {font-family: monospace;font-weight: bold;display: inline-block;line-height: 1.2em;}#sk-container-id-1 div.sk-label-container {text-align: center;}#sk-container-id-1 div.sk-container {/* jupyter's `normalize.less` sets `[hidden] { display: none; }` but bootstrap.min.css set `[hidden] { display: none !important; }` so we also need the `!important` here to be able to override the default hidden behavior on the sphinx rendered scikit-learn.org. See: https://github.com/scikit-learn/scikit-learn/issues/21755 */display: inline-block !important;position: relative;}#sk-container-id-1 div.sk-text-repr-fallback {display: none;}</style><div id=\"sk-container-id-1\" class=\"sk-top-container\"><div class=\"sk-text-repr-fallback\"><pre>LinearRegression()</pre><b>In a Jupyter environment, please rerun this cell to show the HTML representation or trust the notebook. <br />On GitHub, the HTML representation is unable to render, please try loading this page with nbviewer.org.</b></div><div class=\"sk-container\" hidden><div class=\"sk-item\"><div class=\"sk-estimator sk-toggleable\"><input class=\"sk-toggleable__control sk-hidden--visually\" id=\"sk-estimator-id-1\" type=\"checkbox\" checked><label for=\"sk-estimator-id-1\" class=\"sk-toggleable__label sk-toggleable__label-arrow\">LinearRegression</label><div class=\"sk-toggleable__content\"><pre>LinearRegression()</pre></div></div></div></div></div>"
      ],
      "text/plain": [
       "LinearRegression()"
      ]
     },
     "execution_count": 69,
     "metadata": {},
     "output_type": "execute_result"
    }
   ],
   "source": [
    "\n",
    "from sklearn.linear_model import LinearRegression\n",
    "Lin_reg = LinearRegression()\n",
    "Lin_reg.fit(x_train,y_train)"
   ]
  },
  {
   "cell_type": "code",
   "execution_count": 70,
   "id": "3126ae1c",
   "metadata": {},
   "outputs": [],
   "source": [
    "\n",
    "y_pred = Lin_reg.predict(x_test)"
   ]
  },
  {
   "cell_type": "code",
   "execution_count": 71,
   "id": "cbd21d7b",
   "metadata": {},
   "outputs": [
    {
     "data": {
      "text/plain": [
       "array([[12552.75265817],\n",
       "       [12567.20227803],\n",
       "       [12523.85341845],\n",
       "       ...,\n",
       "       [12408.25645956],\n",
       "       [12350.45798012],\n",
       "       [12523.85341845]])"
      ]
     },
     "execution_count": 71,
     "metadata": {},
     "output_type": "execute_result"
    }
   ],
   "source": [
    "y_pred"
   ]
  },
  {
   "cell_type": "code",
   "execution_count": 72,
   "id": "d30afd06",
   "metadata": {},
   "outputs": [],
   "source": [
    "\n",
    "from sklearn.metrics import mean_squared_error"
   ]
  },
  {
   "cell_type": "code",
   "execution_count": 73,
   "id": "7d3953f6",
   "metadata": {},
   "outputs": [],
   "source": [
    "mse = mean_squared_error(y_test, y_pred)"
   ]
  },
  {
   "cell_type": "code",
   "execution_count": 74,
   "id": "cef3dbfc",
   "metadata": {},
   "outputs": [
    {
     "data": {
      "text/plain": [
       "51121381.488306075"
      ]
     },
     "execution_count": 74,
     "metadata": {},
     "output_type": "execute_result"
    }
   ],
   "source": [
    "mse"
   ]
  },
  {
   "cell_type": "code",
   "execution_count": 75,
   "id": "64216901",
   "metadata": {},
   "outputs": [],
   "source": [
    " rmse = np.sqrt(mse)\n"
   ]
  },
  {
   "cell_type": "code",
   "execution_count": 76,
   "id": "2318bf7e",
   "metadata": {},
   "outputs": [
    {
     "data": {
      "text/plain": [
       "7149.92178197119"
      ]
     },
     "execution_count": 76,
     "metadata": {},
     "output_type": "execute_result"
    }
   ],
   "source": [
    "rmse"
   ]
  },
  {
   "cell_type": "code",
   "execution_count": 77,
   "id": "df6ee4c6",
   "metadata": {},
   "outputs": [
    {
     "data": {
      "text/html": [
       "<div>\n",
       "<style scoped>\n",
       "    .dataframe tbody tr th:only-of-type {\n",
       "        vertical-align: middle;\n",
       "    }\n",
       "\n",
       "    .dataframe tbody tr th {\n",
       "        vertical-align: top;\n",
       "    }\n",
       "\n",
       "    .dataframe thead th {\n",
       "        text-align: right;\n",
       "    }\n",
       "</style>\n",
       "<table border=\"1\" class=\"dataframe\">\n",
       "  <thead>\n",
       "    <tr style=\"text-align: right;\">\n",
       "      <th></th>\n",
       "      <th>Unnamed: 0</th>\n",
       "      <th>ID</th>\n",
       "      <th>Title</th>\n",
       "      <th>Year</th>\n",
       "      <th>Rating</th>\n",
       "      <th>IMDb</th>\n",
       "      <th>Rotten Tomatoes</th>\n",
       "      <th>Genre</th>\n",
       "      <th>Netflix</th>\n",
       "      <th>Amazon Prime Video</th>\n",
       "    </tr>\n",
       "  </thead>\n",
       "  <tbody>\n",
       "    <tr>\n",
       "      <th>0</th>\n",
       "      <td>0</td>\n",
       "      <td>1</td>\n",
       "      <td>Terminator: Dark Fate</td>\n",
       "      <td>2019</td>\n",
       "      <td>18+</td>\n",
       "      <td>6.2</td>\n",
       "      <td>81</td>\n",
       "      <td>Action &amp; Adventure</td>\n",
       "      <td>0</td>\n",
       "      <td>1</td>\n",
       "    </tr>\n",
       "    <tr>\n",
       "      <th>1</th>\n",
       "      <td>1</td>\n",
       "      <td>2</td>\n",
       "      <td>Gemini Man</td>\n",
       "      <td>2019</td>\n",
       "      <td>13+</td>\n",
       "      <td>5.7</td>\n",
       "      <td>74</td>\n",
       "      <td>Action &amp; Adventure</td>\n",
       "      <td>0</td>\n",
       "      <td>1</td>\n",
       "    </tr>\n",
       "    <tr>\n",
       "      <th>2</th>\n",
       "      <td>2</td>\n",
       "      <td>3</td>\n",
       "      <td>Rambo: Last Blood</td>\n",
       "      <td>2019</td>\n",
       "      <td>18+</td>\n",
       "      <td>6.1</td>\n",
       "      <td>72</td>\n",
       "      <td>Action &amp; Adventure</td>\n",
       "      <td>0</td>\n",
       "      <td>1</td>\n",
       "    </tr>\n",
       "    <tr>\n",
       "      <th>3</th>\n",
       "      <td>3</td>\n",
       "      <td>4</td>\n",
       "      <td>The Courier</td>\n",
       "      <td>2019</td>\n",
       "      <td>18+</td>\n",
       "      <td>4.9</td>\n",
       "      <td>50</td>\n",
       "      <td>Action &amp; Adventure</td>\n",
       "      <td>0</td>\n",
       "      <td>1</td>\n",
       "    </tr>\n",
       "    <tr>\n",
       "      <th>4</th>\n",
       "      <td>4</td>\n",
       "      <td>5</td>\n",
       "      <td>Crawl</td>\n",
       "      <td>2019</td>\n",
       "      <td>18+</td>\n",
       "      <td>6.1</td>\n",
       "      <td>79</td>\n",
       "      <td>Action &amp; Adventure</td>\n",
       "      <td>0</td>\n",
       "      <td>1</td>\n",
       "    </tr>\n",
       "    <tr>\n",
       "      <th>...</th>\n",
       "      <td>...</td>\n",
       "      <td>...</td>\n",
       "      <td>...</td>\n",
       "      <td>...</td>\n",
       "      <td>...</td>\n",
       "      <td>...</td>\n",
       "      <td>...</td>\n",
       "      <td>...</td>\n",
       "      <td>...</td>\n",
       "      <td>...</td>\n",
       "    </tr>\n",
       "    <tr>\n",
       "      <th>24659</th>\n",
       "      <td>24659</td>\n",
       "      <td>24660</td>\n",
       "      <td>Mama's Boy</td>\n",
       "      <td>2018</td>\n",
       "      <td>NaN</td>\n",
       "      <td>4.9</td>\n",
       "      <td>33</td>\n",
       "      <td>Drama</td>\n",
       "      <td>1</td>\n",
       "      <td>0</td>\n",
       "    </tr>\n",
       "    <tr>\n",
       "      <th>24660</th>\n",
       "      <td>24660</td>\n",
       "      <td>24661</td>\n",
       "      <td>I Am Jonas</td>\n",
       "      <td>2018</td>\n",
       "      <td>NaN</td>\n",
       "      <td>7.0</td>\n",
       "      <td>52</td>\n",
       "      <td>Drama</td>\n",
       "      <td>1</td>\n",
       "      <td>0</td>\n",
       "    </tr>\n",
       "    <tr>\n",
       "      <th>24661</th>\n",
       "      <td>24661</td>\n",
       "      <td>24662</td>\n",
       "      <td>An Unremarkable Christmas</td>\n",
       "      <td>2020</td>\n",
       "      <td>NaN</td>\n",
       "      <td>3.6</td>\n",
       "      <td>41</td>\n",
       "      <td>Drama</td>\n",
       "      <td>1</td>\n",
       "      <td>0</td>\n",
       "    </tr>\n",
       "    <tr>\n",
       "      <th>24662</th>\n",
       "      <td>24662</td>\n",
       "      <td>24663</td>\n",
       "      <td>BlackRose</td>\n",
       "      <td>2018</td>\n",
       "      <td>NaN</td>\n",
       "      <td>NaN</td>\n",
       "      <td>na</td>\n",
       "      <td>Drama</td>\n",
       "      <td>1</td>\n",
       "      <td>0</td>\n",
       "    </tr>\n",
       "    <tr>\n",
       "      <th>24663</th>\n",
       "      <td>24663</td>\n",
       "      <td>24664</td>\n",
       "      <td>A Very Special Drew</td>\n",
       "      <td>2000</td>\n",
       "      <td>NaN</td>\n",
       "      <td>8.0</td>\n",
       "      <td>41</td>\n",
       "      <td>Drama</td>\n",
       "      <td>1</td>\n",
       "      <td>0</td>\n",
       "    </tr>\n",
       "  </tbody>\n",
       "</table>\n",
       "<p>24664 rows × 10 columns</p>\n",
       "</div>"
      ],
      "text/plain": [
       "       Unnamed: 0     ID                      Title  Year Rating IMDb  \\\n",
       "0               0      1      Terminator: Dark Fate  2019    18+  6.2   \n",
       "1               1      2                 Gemini Man  2019    13+  5.7   \n",
       "2               2      3          Rambo: Last Blood  2019    18+  6.1   \n",
       "3               3      4                The Courier  2019    18+  4.9   \n",
       "4               4      5                      Crawl  2019    18+  6.1   \n",
       "...           ...    ...                        ...   ...    ...  ...   \n",
       "24659       24659  24660                 Mama's Boy  2018    NaN  4.9   \n",
       "24660       24660  24661                 I Am Jonas  2018    NaN  7.0   \n",
       "24661       24661  24662  An Unremarkable Christmas  2020    NaN  3.6   \n",
       "24662       24662  24663                  BlackRose  2018    NaN  NaN   \n",
       "24663       24663  24664        A Very Special Drew  2000    NaN  8.0   \n",
       "\n",
       "      Rotten Tomatoes               Genre  Netflix  Amazon Prime Video  \n",
       "0                  81  Action & Adventure        0                   1  \n",
       "1                  74  Action & Adventure        0                   1  \n",
       "2                  72  Action & Adventure        0                   1  \n",
       "3                  50  Action & Adventure        0                   1  \n",
       "4                  79  Action & Adventure        0                   1  \n",
       "...               ...                 ...      ...                 ...  \n",
       "24659              33               Drama        1                   0  \n",
       "24660              52               Drama        1                   0  \n",
       "24661              41               Drama        1                   0  \n",
       "24662              na               Drama        1                   0  \n",
       "24663              41               Drama        1                   0  \n",
       "\n",
       "[24664 rows x 10 columns]"
      ]
     },
     "execution_count": 77,
     "metadata": {},
     "output_type": "execute_result"
    }
   ],
   "source": [
    "df"
   ]
  },
  {
   "cell_type": "code",
   "execution_count": 104,
   "id": "d1274fc5",
   "metadata": {},
   "outputs": [],
   "source": [
    "x = df.loc[:,[\"Year\"]].values"
   ]
  },
  {
   "cell_type": "code",
   "execution_count": 105,
   "id": "4fe5416a",
   "metadata": {},
   "outputs": [
    {
     "data": {
      "text/plain": [
       "array([[2019],\n",
       "       [2019],\n",
       "       [2019],\n",
       "       ...,\n",
       "       [2020],\n",
       "       [2018],\n",
       "       [2000]], dtype=int64)"
      ]
     },
     "execution_count": 105,
     "metadata": {},
     "output_type": "execute_result"
    }
   ],
   "source": [
    "x"
   ]
  },
  {
   "cell_type": "code",
   "execution_count": 106,
   "id": "f61a9394",
   "metadata": {},
   "outputs": [],
   "source": [
    "y = df.loc[:,[\"Rotten Tomatoes\"]].values"
   ]
  },
  {
   "cell_type": "code",
   "execution_count": 107,
   "id": "60f4bf38",
   "metadata": {},
   "outputs": [
    {
     "data": {
      "text/plain": [
       "array([['81'],\n",
       "       ['74'],\n",
       "       ['72'],\n",
       "       ...,\n",
       "       ['41'],\n",
       "       ['na'],\n",
       "       ['41']], dtype=object)"
      ]
     },
     "execution_count": 107,
     "metadata": {},
     "output_type": "execute_result"
    }
   ],
   "source": [
    "y"
   ]
  },
  {
   "cell_type": "code",
   "execution_count": 108,
   "id": "3f727f09",
   "metadata": {},
   "outputs": [],
   "source": [
    "\n",
    "x_train,x_test,y_train,y_test = train_test_split(x,y,test_size = 0.35, random_state = 0 )"
   ]
  },
  {
   "cell_type": "code",
   "execution_count": 109,
   "id": "cf7eea6a",
   "metadata": {},
   "outputs": [],
   "source": [
    "\n",
    "from sklearn.linear_model import LogisticRegression\n",
    "Log_reg = LogisticRegression()"
   ]
  },
  {
   "cell_type": "code",
   "execution_count": 110,
   "id": "132d9331",
   "metadata": {},
   "outputs": [
    {
     "name": "stderr",
     "output_type": "stream",
     "text": [
      "C:\\Users\\GOPI CHAND\\anaconda3\\New folder (4)\\lib\\site-packages\\sklearn\\utils\\validation.py:1143: DataConversionWarning: A column-vector y was passed when a 1d array was expected. Please change the shape of y to (n_samples, ), for example using ravel().\n",
      "  y = column_or_1d(y, warn=True)\n"
     ]
    },
    {
     "data": {
      "text/html": [
       "<style>#sk-container-id-2 {color: black;background-color: white;}#sk-container-id-2 pre{padding: 0;}#sk-container-id-2 div.sk-toggleable {background-color: white;}#sk-container-id-2 label.sk-toggleable__label {cursor: pointer;display: block;width: 100%;margin-bottom: 0;padding: 0.3em;box-sizing: border-box;text-align: center;}#sk-container-id-2 label.sk-toggleable__label-arrow:before {content: \"▸\";float: left;margin-right: 0.25em;color: #696969;}#sk-container-id-2 label.sk-toggleable__label-arrow:hover:before {color: black;}#sk-container-id-2 div.sk-estimator:hover label.sk-toggleable__label-arrow:before {color: black;}#sk-container-id-2 div.sk-toggleable__content {max-height: 0;max-width: 0;overflow: hidden;text-align: left;background-color: #f0f8ff;}#sk-container-id-2 div.sk-toggleable__content pre {margin: 0.2em;color: black;border-radius: 0.25em;background-color: #f0f8ff;}#sk-container-id-2 input.sk-toggleable__control:checked~div.sk-toggleable__content {max-height: 200px;max-width: 100%;overflow: auto;}#sk-container-id-2 input.sk-toggleable__control:checked~label.sk-toggleable__label-arrow:before {content: \"▾\";}#sk-container-id-2 div.sk-estimator input.sk-toggleable__control:checked~label.sk-toggleable__label {background-color: #d4ebff;}#sk-container-id-2 div.sk-label input.sk-toggleable__control:checked~label.sk-toggleable__label {background-color: #d4ebff;}#sk-container-id-2 input.sk-hidden--visually {border: 0;clip: rect(1px 1px 1px 1px);clip: rect(1px, 1px, 1px, 1px);height: 1px;margin: -1px;overflow: hidden;padding: 0;position: absolute;width: 1px;}#sk-container-id-2 div.sk-estimator {font-family: monospace;background-color: #f0f8ff;border: 1px dotted black;border-radius: 0.25em;box-sizing: border-box;margin-bottom: 0.5em;}#sk-container-id-2 div.sk-estimator:hover {background-color: #d4ebff;}#sk-container-id-2 div.sk-parallel-item::after {content: \"\";width: 100%;border-bottom: 1px solid gray;flex-grow: 1;}#sk-container-id-2 div.sk-label:hover label.sk-toggleable__label {background-color: #d4ebff;}#sk-container-id-2 div.sk-serial::before {content: \"\";position: absolute;border-left: 1px solid gray;box-sizing: border-box;top: 0;bottom: 0;left: 50%;z-index: 0;}#sk-container-id-2 div.sk-serial {display: flex;flex-direction: column;align-items: center;background-color: white;padding-right: 0.2em;padding-left: 0.2em;position: relative;}#sk-container-id-2 div.sk-item {position: relative;z-index: 1;}#sk-container-id-2 div.sk-parallel {display: flex;align-items: stretch;justify-content: center;background-color: white;position: relative;}#sk-container-id-2 div.sk-item::before, #sk-container-id-2 div.sk-parallel-item::before {content: \"\";position: absolute;border-left: 1px solid gray;box-sizing: border-box;top: 0;bottom: 0;left: 50%;z-index: -1;}#sk-container-id-2 div.sk-parallel-item {display: flex;flex-direction: column;z-index: 1;position: relative;background-color: white;}#sk-container-id-2 div.sk-parallel-item:first-child::after {align-self: flex-end;width: 50%;}#sk-container-id-2 div.sk-parallel-item:last-child::after {align-self: flex-start;width: 50%;}#sk-container-id-2 div.sk-parallel-item:only-child::after {width: 0;}#sk-container-id-2 div.sk-dashed-wrapped {border: 1px dashed gray;margin: 0 0.4em 0.5em 0.4em;box-sizing: border-box;padding-bottom: 0.4em;background-color: white;}#sk-container-id-2 div.sk-label label {font-family: monospace;font-weight: bold;display: inline-block;line-height: 1.2em;}#sk-container-id-2 div.sk-label-container {text-align: center;}#sk-container-id-2 div.sk-container {/* jupyter's `normalize.less` sets `[hidden] { display: none; }` but bootstrap.min.css set `[hidden] { display: none !important; }` so we also need the `!important` here to be able to override the default hidden behavior on the sphinx rendered scikit-learn.org. See: https://github.com/scikit-learn/scikit-learn/issues/21755 */display: inline-block !important;position: relative;}#sk-container-id-2 div.sk-text-repr-fallback {display: none;}</style><div id=\"sk-container-id-2\" class=\"sk-top-container\"><div class=\"sk-text-repr-fallback\"><pre>LogisticRegression()</pre><b>In a Jupyter environment, please rerun this cell to show the HTML representation or trust the notebook. <br />On GitHub, the HTML representation is unable to render, please try loading this page with nbviewer.org.</b></div><div class=\"sk-container\" hidden><div class=\"sk-item\"><div class=\"sk-estimator sk-toggleable\"><input class=\"sk-toggleable__control sk-hidden--visually\" id=\"sk-estimator-id-2\" type=\"checkbox\" checked><label for=\"sk-estimator-id-2\" class=\"sk-toggleable__label sk-toggleable__label-arrow\">LogisticRegression</label><div class=\"sk-toggleable__content\"><pre>LogisticRegression()</pre></div></div></div></div></div>"
      ],
      "text/plain": [
       "LogisticRegression()"
      ]
     },
     "execution_count": 110,
     "metadata": {},
     "output_type": "execute_result"
    }
   ],
   "source": [
    "\n",
    "from sklearn.linear_model import LogisticRegression\n",
    "Log_reg = LogisticRegression()\n",
    "Log_reg.fit(x_train,y_train)\n"
   ]
  },
  {
   "cell_type": "code",
   "execution_count": 111,
   "id": "2416362b",
   "metadata": {},
   "outputs": [],
   "source": [
    "\n",
    "y_pred = Log_reg.predict(x_test)"
   ]
  },
  {
   "cell_type": "code",
   "execution_count": 112,
   "id": "aa3961fa",
   "metadata": {},
   "outputs": [
    {
     "data": {
      "text/plain": [
       "array(['36', '36', '36', ..., '36', '36', '36'], dtype=object)"
      ]
     },
     "execution_count": 112,
     "metadata": {},
     "output_type": "execute_result"
    }
   ],
   "source": [
    "y_pred"
   ]
  },
  {
   "cell_type": "code",
   "execution_count": 113,
   "id": "6ff436b4",
   "metadata": {},
   "outputs": [],
   "source": [
    "\n",
    "from sklearn.metrics import confusion_matrix, accuracy_score\n"
   ]
  },
  {
   "cell_type": "code",
   "execution_count": 114,
   "id": "ad7a5543",
   "metadata": {},
   "outputs": [
    {
     "data": {
      "text/plain": [
       "array([[0, 0, 0, ..., 0, 0, 0],\n",
       "       [0, 0, 0, ..., 0, 0, 0],\n",
       "       [0, 0, 0, ..., 0, 0, 0],\n",
       "       ...,\n",
       "       [0, 0, 0, ..., 0, 0, 0],\n",
       "       [0, 0, 0, ..., 0, 0, 0],\n",
       "       [0, 0, 0, ..., 0, 0, 0]], dtype=int64)"
      ]
     },
     "execution_count": 114,
     "metadata": {},
     "output_type": "execute_result"
    }
   ],
   "source": [
    "\n",
    "confusion_matrix(y_pred,y_test)"
   ]
  },
  {
   "cell_type": "code",
   "execution_count": 122,
   "id": "dc34ee44",
   "metadata": {},
   "outputs": [],
   "source": [
    " x = df.loc[:,['ID']]\n"
   ]
  },
  {
   "cell_type": "code",
   "execution_count": 123,
   "id": "77191f26",
   "metadata": {},
   "outputs": [
    {
     "data": {
      "text/html": [
       "<div>\n",
       "<style scoped>\n",
       "    .dataframe tbody tr th:only-of-type {\n",
       "        vertical-align: middle;\n",
       "    }\n",
       "\n",
       "    .dataframe tbody tr th {\n",
       "        vertical-align: top;\n",
       "    }\n",
       "\n",
       "    .dataframe thead th {\n",
       "        text-align: right;\n",
       "    }\n",
       "</style>\n",
       "<table border=\"1\" class=\"dataframe\">\n",
       "  <thead>\n",
       "    <tr style=\"text-align: right;\">\n",
       "      <th></th>\n",
       "      <th>ID</th>\n",
       "    </tr>\n",
       "  </thead>\n",
       "  <tbody>\n",
       "    <tr>\n",
       "      <th>0</th>\n",
       "      <td>1</td>\n",
       "    </tr>\n",
       "    <tr>\n",
       "      <th>1</th>\n",
       "      <td>2</td>\n",
       "    </tr>\n",
       "    <tr>\n",
       "      <th>2</th>\n",
       "      <td>3</td>\n",
       "    </tr>\n",
       "    <tr>\n",
       "      <th>3</th>\n",
       "      <td>4</td>\n",
       "    </tr>\n",
       "    <tr>\n",
       "      <th>4</th>\n",
       "      <td>5</td>\n",
       "    </tr>\n",
       "    <tr>\n",
       "      <th>...</th>\n",
       "      <td>...</td>\n",
       "    </tr>\n",
       "    <tr>\n",
       "      <th>24659</th>\n",
       "      <td>24660</td>\n",
       "    </tr>\n",
       "    <tr>\n",
       "      <th>24660</th>\n",
       "      <td>24661</td>\n",
       "    </tr>\n",
       "    <tr>\n",
       "      <th>24661</th>\n",
       "      <td>24662</td>\n",
       "    </tr>\n",
       "    <tr>\n",
       "      <th>24662</th>\n",
       "      <td>24663</td>\n",
       "    </tr>\n",
       "    <tr>\n",
       "      <th>24663</th>\n",
       "      <td>24664</td>\n",
       "    </tr>\n",
       "  </tbody>\n",
       "</table>\n",
       "<p>24664 rows × 1 columns</p>\n",
       "</div>"
      ],
      "text/plain": [
       "          ID\n",
       "0          1\n",
       "1          2\n",
       "2          3\n",
       "3          4\n",
       "4          5\n",
       "...      ...\n",
       "24659  24660\n",
       "24660  24661\n",
       "24661  24662\n",
       "24662  24663\n",
       "24663  24664\n",
       "\n",
       "[24664 rows x 1 columns]"
      ]
     },
     "execution_count": 123,
     "metadata": {},
     "output_type": "execute_result"
    }
   ],
   "source": [
    "x"
   ]
  },
  {
   "cell_type": "code",
   "execution_count": 124,
   "id": "1eeec760",
   "metadata": {},
   "outputs": [],
   "source": [
    " y = df.loc[:,[\"Genre\"]]\n"
   ]
  },
  {
   "cell_type": "code",
   "execution_count": 125,
   "id": "b5dc5d2b",
   "metadata": {},
   "outputs": [
    {
     "data": {
      "text/html": [
       "<div>\n",
       "<style scoped>\n",
       "    .dataframe tbody tr th:only-of-type {\n",
       "        vertical-align: middle;\n",
       "    }\n",
       "\n",
       "    .dataframe tbody tr th {\n",
       "        vertical-align: top;\n",
       "    }\n",
       "\n",
       "    .dataframe thead th {\n",
       "        text-align: right;\n",
       "    }\n",
       "</style>\n",
       "<table border=\"1\" class=\"dataframe\">\n",
       "  <thead>\n",
       "    <tr style=\"text-align: right;\">\n",
       "      <th></th>\n",
       "      <th>Genre</th>\n",
       "    </tr>\n",
       "  </thead>\n",
       "  <tbody>\n",
       "    <tr>\n",
       "      <th>0</th>\n",
       "      <td>Action &amp; Adventure</td>\n",
       "    </tr>\n",
       "    <tr>\n",
       "      <th>1</th>\n",
       "      <td>Action &amp; Adventure</td>\n",
       "    </tr>\n",
       "    <tr>\n",
       "      <th>2</th>\n",
       "      <td>Action &amp; Adventure</td>\n",
       "    </tr>\n",
       "    <tr>\n",
       "      <th>3</th>\n",
       "      <td>Action &amp; Adventure</td>\n",
       "    </tr>\n",
       "    <tr>\n",
       "      <th>4</th>\n",
       "      <td>Action &amp; Adventure</td>\n",
       "    </tr>\n",
       "    <tr>\n",
       "      <th>...</th>\n",
       "      <td>...</td>\n",
       "    </tr>\n",
       "    <tr>\n",
       "      <th>24659</th>\n",
       "      <td>Drama</td>\n",
       "    </tr>\n",
       "    <tr>\n",
       "      <th>24660</th>\n",
       "      <td>Drama</td>\n",
       "    </tr>\n",
       "    <tr>\n",
       "      <th>24661</th>\n",
       "      <td>Drama</td>\n",
       "    </tr>\n",
       "    <tr>\n",
       "      <th>24662</th>\n",
       "      <td>Drama</td>\n",
       "    </tr>\n",
       "    <tr>\n",
       "      <th>24663</th>\n",
       "      <td>Drama</td>\n",
       "    </tr>\n",
       "  </tbody>\n",
       "</table>\n",
       "<p>24664 rows × 1 columns</p>\n",
       "</div>"
      ],
      "text/plain": [
       "                    Genre\n",
       "0      Action & Adventure\n",
       "1      Action & Adventure\n",
       "2      Action & Adventure\n",
       "3      Action & Adventure\n",
       "4      Action & Adventure\n",
       "...                   ...\n",
       "24659               Drama\n",
       "24660               Drama\n",
       "24661               Drama\n",
       "24662               Drama\n",
       "24663               Drama\n",
       "\n",
       "[24664 rows x 1 columns]"
      ]
     },
     "execution_count": 125,
     "metadata": {},
     "output_type": "execute_result"
    }
   ],
   "source": [
    "y"
   ]
  },
  {
   "cell_type": "code",
   "execution_count": 126,
   "id": "fdd04201",
   "metadata": {},
   "outputs": [],
   "source": [
    " x_train,x_test,y_train,y_test = train_test_split(x,y,test_size = 0.70, random_state = 0 )\n"
   ]
  },
  {
   "cell_type": "code",
   "execution_count": 127,
   "id": "41c01250",
   "metadata": {},
   "outputs": [
    {
     "data": {
      "text/html": [
       "<style>#sk-container-id-3 {color: black;background-color: white;}#sk-container-id-3 pre{padding: 0;}#sk-container-id-3 div.sk-toggleable {background-color: white;}#sk-container-id-3 label.sk-toggleable__label {cursor: pointer;display: block;width: 100%;margin-bottom: 0;padding: 0.3em;box-sizing: border-box;text-align: center;}#sk-container-id-3 label.sk-toggleable__label-arrow:before {content: \"▸\";float: left;margin-right: 0.25em;color: #696969;}#sk-container-id-3 label.sk-toggleable__label-arrow:hover:before {color: black;}#sk-container-id-3 div.sk-estimator:hover label.sk-toggleable__label-arrow:before {color: black;}#sk-container-id-3 div.sk-toggleable__content {max-height: 0;max-width: 0;overflow: hidden;text-align: left;background-color: #f0f8ff;}#sk-container-id-3 div.sk-toggleable__content pre {margin: 0.2em;color: black;border-radius: 0.25em;background-color: #f0f8ff;}#sk-container-id-3 input.sk-toggleable__control:checked~div.sk-toggleable__content {max-height: 200px;max-width: 100%;overflow: auto;}#sk-container-id-3 input.sk-toggleable__control:checked~label.sk-toggleable__label-arrow:before {content: \"▾\";}#sk-container-id-3 div.sk-estimator input.sk-toggleable__control:checked~label.sk-toggleable__label {background-color: #d4ebff;}#sk-container-id-3 div.sk-label input.sk-toggleable__control:checked~label.sk-toggleable__label {background-color: #d4ebff;}#sk-container-id-3 input.sk-hidden--visually {border: 0;clip: rect(1px 1px 1px 1px);clip: rect(1px, 1px, 1px, 1px);height: 1px;margin: -1px;overflow: hidden;padding: 0;position: absolute;width: 1px;}#sk-container-id-3 div.sk-estimator {font-family: monospace;background-color: #f0f8ff;border: 1px dotted black;border-radius: 0.25em;box-sizing: border-box;margin-bottom: 0.5em;}#sk-container-id-3 div.sk-estimator:hover {background-color: #d4ebff;}#sk-container-id-3 div.sk-parallel-item::after {content: \"\";width: 100%;border-bottom: 1px solid gray;flex-grow: 1;}#sk-container-id-3 div.sk-label:hover label.sk-toggleable__label {background-color: #d4ebff;}#sk-container-id-3 div.sk-serial::before {content: \"\";position: absolute;border-left: 1px solid gray;box-sizing: border-box;top: 0;bottom: 0;left: 50%;z-index: 0;}#sk-container-id-3 div.sk-serial {display: flex;flex-direction: column;align-items: center;background-color: white;padding-right: 0.2em;padding-left: 0.2em;position: relative;}#sk-container-id-3 div.sk-item {position: relative;z-index: 1;}#sk-container-id-3 div.sk-parallel {display: flex;align-items: stretch;justify-content: center;background-color: white;position: relative;}#sk-container-id-3 div.sk-item::before, #sk-container-id-3 div.sk-parallel-item::before {content: \"\";position: absolute;border-left: 1px solid gray;box-sizing: border-box;top: 0;bottom: 0;left: 50%;z-index: -1;}#sk-container-id-3 div.sk-parallel-item {display: flex;flex-direction: column;z-index: 1;position: relative;background-color: white;}#sk-container-id-3 div.sk-parallel-item:first-child::after {align-self: flex-end;width: 50%;}#sk-container-id-3 div.sk-parallel-item:last-child::after {align-self: flex-start;width: 50%;}#sk-container-id-3 div.sk-parallel-item:only-child::after {width: 0;}#sk-container-id-3 div.sk-dashed-wrapped {border: 1px dashed gray;margin: 0 0.4em 0.5em 0.4em;box-sizing: border-box;padding-bottom: 0.4em;background-color: white;}#sk-container-id-3 div.sk-label label {font-family: monospace;font-weight: bold;display: inline-block;line-height: 1.2em;}#sk-container-id-3 div.sk-label-container {text-align: center;}#sk-container-id-3 div.sk-container {/* jupyter's `normalize.less` sets `[hidden] { display: none; }` but bootstrap.min.css set `[hidden] { display: none !important; }` so we also need the `!important` here to be able to override the default hidden behavior on the sphinx rendered scikit-learn.org. See: https://github.com/scikit-learn/scikit-learn/issues/21755 */display: inline-block !important;position: relative;}#sk-container-id-3 div.sk-text-repr-fallback {display: none;}</style><div id=\"sk-container-id-3\" class=\"sk-top-container\"><div class=\"sk-text-repr-fallback\"><pre>DecisionTreeClassifier()</pre><b>In a Jupyter environment, please rerun this cell to show the HTML representation or trust the notebook. <br />On GitHub, the HTML representation is unable to render, please try loading this page with nbviewer.org.</b></div><div class=\"sk-container\" hidden><div class=\"sk-item\"><div class=\"sk-estimator sk-toggleable\"><input class=\"sk-toggleable__control sk-hidden--visually\" id=\"sk-estimator-id-3\" type=\"checkbox\" checked><label for=\"sk-estimator-id-3\" class=\"sk-toggleable__label sk-toggleable__label-arrow\">DecisionTreeClassifier</label><div class=\"sk-toggleable__content\"><pre>DecisionTreeClassifier()</pre></div></div></div></div></div>"
      ],
      "text/plain": [
       "DecisionTreeClassifier()"
      ]
     },
     "execution_count": 127,
     "metadata": {},
     "output_type": "execute_result"
    }
   ],
   "source": [
    " from sklearn.tree import DecisionTreeClassifier\n",
    "dec_tree = DecisionTreeClassifier()\n",
    "dec_tree.fit(x_train, y_train)"
   ]
  },
  {
   "cell_type": "code",
   "execution_count": 128,
   "id": "c1a7f05b",
   "metadata": {},
   "outputs": [],
   "source": [
    "y_pred = dec_tree.predict(x_test)"
   ]
  },
  {
   "cell_type": "code",
   "execution_count": 130,
   "id": "5cf110cc",
   "metadata": {},
   "outputs": [
    {
     "data": {
      "text/plain": [
       "array(['Drama', 'Drama', 'Action & Adventure', ..., 'Horror',\n",
       "       'Action & Adventure', 'Comedy'], dtype=object)"
      ]
     },
     "execution_count": 130,
     "metadata": {},
     "output_type": "execute_result"
    }
   ],
   "source": [
    "y_pred"
   ]
  },
  {
   "cell_type": "code",
   "execution_count": 131,
   "id": "b97a52de",
   "metadata": {},
   "outputs": [
    {
     "name": "stdout",
     "output_type": "stream",
     "text": [
      "[[2672   28    0    0   67    0    0   16    4    0    4    0    0   19]\n",
      " [   5  346    0   12   10    0    0    0    0    0    0    0    0    0]\n",
      " [   0    7   12    0    0    0    0    0    0    0    0    0    0    0]\n",
      " [   0    4    0  329    3    0    0    0    0    0    0    0    0    0]\n",
      " [  25    6    0   12 3155   18   22   38    0    0    0    0    0    0]\n",
      " [   0    0    0    0   26 1076   30    0    0    0    0    0    0    0]\n",
      " [   0    0    0    0   13   26 1613   36    0    0    0    0    0    0]\n",
      " [  62    0    0    0   50    0   31 4071   11    0   30    0    0    0]\n",
      " [   0    0    0    0    0    0    0   12  437    7    8    0    0    0]\n",
      " [   0    0    0    0    0    0    0    0    0   61    4    0    0    0]\n",
      " [   1    0    0    0    0    0    0    8    8    6  920   11    0   11]\n",
      " [   0    0    0    0    0    0    0    0    0    0   10  513    7    0]\n",
      " [   0    0    0    0    0    0    0    0    0    0    0   15  520    8]\n",
      " [  15    0    0    0    0    0    0    0    0    0    1    0   11  782]]\n"
     ]
    }
   ],
   "source": [
    "from sklearn.metrics import confusion_matrix, accuracy_score\n",
    "print(confusion_matrix(y_pred,y_test))"
   ]
  },
  {
   "cell_type": "code",
   "execution_count": 132,
   "id": "ee155e23",
   "metadata": {},
   "outputs": [
    {
     "name": "stdout",
     "output_type": "stream",
     "text": [
      "0.9560961482768607\n"
     ]
    }
   ],
   "source": [
    " print(accuracy_score(y_pred,y_test))\n"
   ]
  },
  {
   "cell_type": "code",
   "execution_count": 135,
   "id": "44b00f0f",
   "metadata": {},
   "outputs": [],
   "source": [
    " x = df.loc[:,['Netflix']]"
   ]
  },
  {
   "cell_type": "code",
   "execution_count": 136,
   "id": "8cc8ca96",
   "metadata": {},
   "outputs": [
    {
     "data": {
      "text/html": [
       "<div>\n",
       "<style scoped>\n",
       "    .dataframe tbody tr th:only-of-type {\n",
       "        vertical-align: middle;\n",
       "    }\n",
       "\n",
       "    .dataframe tbody tr th {\n",
       "        vertical-align: top;\n",
       "    }\n",
       "\n",
       "    .dataframe thead th {\n",
       "        text-align: right;\n",
       "    }\n",
       "</style>\n",
       "<table border=\"1\" class=\"dataframe\">\n",
       "  <thead>\n",
       "    <tr style=\"text-align: right;\">\n",
       "      <th></th>\n",
       "      <th>Netflix</th>\n",
       "    </tr>\n",
       "  </thead>\n",
       "  <tbody>\n",
       "    <tr>\n",
       "      <th>0</th>\n",
       "      <td>0</td>\n",
       "    </tr>\n",
       "    <tr>\n",
       "      <th>1</th>\n",
       "      <td>0</td>\n",
       "    </tr>\n",
       "    <tr>\n",
       "      <th>2</th>\n",
       "      <td>0</td>\n",
       "    </tr>\n",
       "    <tr>\n",
       "      <th>3</th>\n",
       "      <td>0</td>\n",
       "    </tr>\n",
       "    <tr>\n",
       "      <th>4</th>\n",
       "      <td>0</td>\n",
       "    </tr>\n",
       "    <tr>\n",
       "      <th>...</th>\n",
       "      <td>...</td>\n",
       "    </tr>\n",
       "    <tr>\n",
       "      <th>24659</th>\n",
       "      <td>1</td>\n",
       "    </tr>\n",
       "    <tr>\n",
       "      <th>24660</th>\n",
       "      <td>1</td>\n",
       "    </tr>\n",
       "    <tr>\n",
       "      <th>24661</th>\n",
       "      <td>1</td>\n",
       "    </tr>\n",
       "    <tr>\n",
       "      <th>24662</th>\n",
       "      <td>1</td>\n",
       "    </tr>\n",
       "    <tr>\n",
       "      <th>24663</th>\n",
       "      <td>1</td>\n",
       "    </tr>\n",
       "  </tbody>\n",
       "</table>\n",
       "<p>24664 rows × 1 columns</p>\n",
       "</div>"
      ],
      "text/plain": [
       "       Netflix\n",
       "0            0\n",
       "1            0\n",
       "2            0\n",
       "3            0\n",
       "4            0\n",
       "...        ...\n",
       "24659        1\n",
       "24660        1\n",
       "24661        1\n",
       "24662        1\n",
       "24663        1\n",
       "\n",
       "[24664 rows x 1 columns]"
      ]
     },
     "execution_count": 136,
     "metadata": {},
     "output_type": "execute_result"
    }
   ],
   "source": [
    "x"
   ]
  },
  {
   "cell_type": "code",
   "execution_count": 137,
   "id": "d8eb49ee",
   "metadata": {},
   "outputs": [],
   "source": [
    " y = df.loc[:,['Amazon Prime Video']]"
   ]
  },
  {
   "cell_type": "code",
   "execution_count": 138,
   "id": "63e2a86a",
   "metadata": {},
   "outputs": [
    {
     "data": {
      "text/html": [
       "<div>\n",
       "<style scoped>\n",
       "    .dataframe tbody tr th:only-of-type {\n",
       "        vertical-align: middle;\n",
       "    }\n",
       "\n",
       "    .dataframe tbody tr th {\n",
       "        vertical-align: top;\n",
       "    }\n",
       "\n",
       "    .dataframe thead th {\n",
       "        text-align: right;\n",
       "    }\n",
       "</style>\n",
       "<table border=\"1\" class=\"dataframe\">\n",
       "  <thead>\n",
       "    <tr style=\"text-align: right;\">\n",
       "      <th></th>\n",
       "      <th>Amazon Prime Video</th>\n",
       "    </tr>\n",
       "  </thead>\n",
       "  <tbody>\n",
       "    <tr>\n",
       "      <th>0</th>\n",
       "      <td>1</td>\n",
       "    </tr>\n",
       "    <tr>\n",
       "      <th>1</th>\n",
       "      <td>1</td>\n",
       "    </tr>\n",
       "    <tr>\n",
       "      <th>2</th>\n",
       "      <td>1</td>\n",
       "    </tr>\n",
       "    <tr>\n",
       "      <th>3</th>\n",
       "      <td>1</td>\n",
       "    </tr>\n",
       "    <tr>\n",
       "      <th>4</th>\n",
       "      <td>1</td>\n",
       "    </tr>\n",
       "    <tr>\n",
       "      <th>...</th>\n",
       "      <td>...</td>\n",
       "    </tr>\n",
       "    <tr>\n",
       "      <th>24659</th>\n",
       "      <td>0</td>\n",
       "    </tr>\n",
       "    <tr>\n",
       "      <th>24660</th>\n",
       "      <td>0</td>\n",
       "    </tr>\n",
       "    <tr>\n",
       "      <th>24661</th>\n",
       "      <td>0</td>\n",
       "    </tr>\n",
       "    <tr>\n",
       "      <th>24662</th>\n",
       "      <td>0</td>\n",
       "    </tr>\n",
       "    <tr>\n",
       "      <th>24663</th>\n",
       "      <td>0</td>\n",
       "    </tr>\n",
       "  </tbody>\n",
       "</table>\n",
       "<p>24664 rows × 1 columns</p>\n",
       "</div>"
      ],
      "text/plain": [
       "       Amazon Prime Video\n",
       "0                       1\n",
       "1                       1\n",
       "2                       1\n",
       "3                       1\n",
       "4                       1\n",
       "...                   ...\n",
       "24659                   0\n",
       "24660                   0\n",
       "24661                   0\n",
       "24662                   0\n",
       "24663                   0\n",
       "\n",
       "[24664 rows x 1 columns]"
      ]
     },
     "execution_count": 138,
     "metadata": {},
     "output_type": "execute_result"
    }
   ],
   "source": [
    "y"
   ]
  },
  {
   "cell_type": "code",
   "execution_count": 139,
   "id": "5dba0649",
   "metadata": {},
   "outputs": [],
   "source": [
    "x_train,x_test,y_train,y_test = train_test_split(x,y,test_size = 0.80, random_state = 0 )\n"
   ]
  },
  {
   "cell_type": "code",
   "execution_count": 140,
   "id": "4210226b",
   "metadata": {},
   "outputs": [
    {
     "name": "stderr",
     "output_type": "stream",
     "text": [
      "C:\\Users\\GOPI CHAND\\AppData\\Local\\Temp\\ipykernel_9868\\1740143603.py:3: DataConversionWarning: A column-vector y was passed when a 1d array was expected. Please change the shape of y to (n_samples,), for example using ravel().\n",
      "  rndfrst.fit(x_train,y_train)\n"
     ]
    },
    {
     "data": {
      "text/html": [
       "<style>#sk-container-id-4 {color: black;background-color: white;}#sk-container-id-4 pre{padding: 0;}#sk-container-id-4 div.sk-toggleable {background-color: white;}#sk-container-id-4 label.sk-toggleable__label {cursor: pointer;display: block;width: 100%;margin-bottom: 0;padding: 0.3em;box-sizing: border-box;text-align: center;}#sk-container-id-4 label.sk-toggleable__label-arrow:before {content: \"▸\";float: left;margin-right: 0.25em;color: #696969;}#sk-container-id-4 label.sk-toggleable__label-arrow:hover:before {color: black;}#sk-container-id-4 div.sk-estimator:hover label.sk-toggleable__label-arrow:before {color: black;}#sk-container-id-4 div.sk-toggleable__content {max-height: 0;max-width: 0;overflow: hidden;text-align: left;background-color: #f0f8ff;}#sk-container-id-4 div.sk-toggleable__content pre {margin: 0.2em;color: black;border-radius: 0.25em;background-color: #f0f8ff;}#sk-container-id-4 input.sk-toggleable__control:checked~div.sk-toggleable__content {max-height: 200px;max-width: 100%;overflow: auto;}#sk-container-id-4 input.sk-toggleable__control:checked~label.sk-toggleable__label-arrow:before {content: \"▾\";}#sk-container-id-4 div.sk-estimator input.sk-toggleable__control:checked~label.sk-toggleable__label {background-color: #d4ebff;}#sk-container-id-4 div.sk-label input.sk-toggleable__control:checked~label.sk-toggleable__label {background-color: #d4ebff;}#sk-container-id-4 input.sk-hidden--visually {border: 0;clip: rect(1px 1px 1px 1px);clip: rect(1px, 1px, 1px, 1px);height: 1px;margin: -1px;overflow: hidden;padding: 0;position: absolute;width: 1px;}#sk-container-id-4 div.sk-estimator {font-family: monospace;background-color: #f0f8ff;border: 1px dotted black;border-radius: 0.25em;box-sizing: border-box;margin-bottom: 0.5em;}#sk-container-id-4 div.sk-estimator:hover {background-color: #d4ebff;}#sk-container-id-4 div.sk-parallel-item::after {content: \"\";width: 100%;border-bottom: 1px solid gray;flex-grow: 1;}#sk-container-id-4 div.sk-label:hover label.sk-toggleable__label {background-color: #d4ebff;}#sk-container-id-4 div.sk-serial::before {content: \"\";position: absolute;border-left: 1px solid gray;box-sizing: border-box;top: 0;bottom: 0;left: 50%;z-index: 0;}#sk-container-id-4 div.sk-serial {display: flex;flex-direction: column;align-items: center;background-color: white;padding-right: 0.2em;padding-left: 0.2em;position: relative;}#sk-container-id-4 div.sk-item {position: relative;z-index: 1;}#sk-container-id-4 div.sk-parallel {display: flex;align-items: stretch;justify-content: center;background-color: white;position: relative;}#sk-container-id-4 div.sk-item::before, #sk-container-id-4 div.sk-parallel-item::before {content: \"\";position: absolute;border-left: 1px solid gray;box-sizing: border-box;top: 0;bottom: 0;left: 50%;z-index: -1;}#sk-container-id-4 div.sk-parallel-item {display: flex;flex-direction: column;z-index: 1;position: relative;background-color: white;}#sk-container-id-4 div.sk-parallel-item:first-child::after {align-self: flex-end;width: 50%;}#sk-container-id-4 div.sk-parallel-item:last-child::after {align-self: flex-start;width: 50%;}#sk-container-id-4 div.sk-parallel-item:only-child::after {width: 0;}#sk-container-id-4 div.sk-dashed-wrapped {border: 1px dashed gray;margin: 0 0.4em 0.5em 0.4em;box-sizing: border-box;padding-bottom: 0.4em;background-color: white;}#sk-container-id-4 div.sk-label label {font-family: monospace;font-weight: bold;display: inline-block;line-height: 1.2em;}#sk-container-id-4 div.sk-label-container {text-align: center;}#sk-container-id-4 div.sk-container {/* jupyter's `normalize.less` sets `[hidden] { display: none; }` but bootstrap.min.css set `[hidden] { display: none !important; }` so we also need the `!important` here to be able to override the default hidden behavior on the sphinx rendered scikit-learn.org. See: https://github.com/scikit-learn/scikit-learn/issues/21755 */display: inline-block !important;position: relative;}#sk-container-id-4 div.sk-text-repr-fallback {display: none;}</style><div id=\"sk-container-id-4\" class=\"sk-top-container\"><div class=\"sk-text-repr-fallback\"><pre>RandomForestClassifier(n_estimators=200)</pre><b>In a Jupyter environment, please rerun this cell to show the HTML representation or trust the notebook. <br />On GitHub, the HTML representation is unable to render, please try loading this page with nbviewer.org.</b></div><div class=\"sk-container\" hidden><div class=\"sk-item\"><div class=\"sk-estimator sk-toggleable\"><input class=\"sk-toggleable__control sk-hidden--visually\" id=\"sk-estimator-id-4\" type=\"checkbox\" checked><label for=\"sk-estimator-id-4\" class=\"sk-toggleable__label sk-toggleable__label-arrow\">RandomForestClassifier</label><div class=\"sk-toggleable__content\"><pre>RandomForestClassifier(n_estimators=200)</pre></div></div></div></div></div>"
      ],
      "text/plain": [
       "RandomForestClassifier(n_estimators=200)"
      ]
     },
     "execution_count": 140,
     "metadata": {},
     "output_type": "execute_result"
    }
   ],
   "source": [
    " from sklearn.ensemble import RandomForestClassifier\n",
    "rndfrst = RandomForestClassifier(n_estimators= 200) # no.of decision treee\n",
    "rndfrst.fit(x_train,y_train)"
   ]
  },
  {
   "cell_type": "code",
   "execution_count": 141,
   "id": "26c0d816",
   "metadata": {},
   "outputs": [
    {
     "data": {
      "text/plain": [
       "array([1, 0, 1, ..., 1, 1, 1], dtype=int64)"
      ]
     },
     "execution_count": 141,
     "metadata": {},
     "output_type": "execute_result"
    }
   ],
   "source": [
    " y_pred = rndfrst.predict(x_test)\n",
    "y_pred\n"
   ]
  },
  {
   "cell_type": "code",
   "execution_count": 142,
   "id": "40ef82c8",
   "metadata": {},
   "outputs": [
    {
     "name": "stdout",
     "output_type": "stream",
     "text": [
      "[[ 3187     0]\n",
      " [    0 16545]]\n",
      "1.0\n"
     ]
    }
   ],
   "source": [
    " from sklearn.metrics import confusion_matrix, accuracy_score\n",
    "print(confusion_matrix (y_pred,y_test))\n",
    "print(accuracy_score (y_pred,y_test))\n"
   ]
  },
  {
   "cell_type": "code",
   "execution_count": 143,
   "id": "d872f90e",
   "metadata": {},
   "outputs": [
    {
     "data": {
      "text/html": [
       "<div>\n",
       "<style scoped>\n",
       "    .dataframe tbody tr th:only-of-type {\n",
       "        vertical-align: middle;\n",
       "    }\n",
       "\n",
       "    .dataframe tbody tr th {\n",
       "        vertical-align: top;\n",
       "    }\n",
       "\n",
       "    .dataframe thead th {\n",
       "        text-align: right;\n",
       "    }\n",
       "</style>\n",
       "<table border=\"1\" class=\"dataframe\">\n",
       "  <thead>\n",
       "    <tr style=\"text-align: right;\">\n",
       "      <th></th>\n",
       "      <th>Unnamed: 0</th>\n",
       "      <th>ID</th>\n",
       "      <th>Title</th>\n",
       "      <th>Year</th>\n",
       "      <th>Rating</th>\n",
       "      <th>IMDb</th>\n",
       "      <th>Rotten Tomatoes</th>\n",
       "      <th>Genre</th>\n",
       "      <th>Netflix</th>\n",
       "      <th>Amazon Prime Video</th>\n",
       "    </tr>\n",
       "  </thead>\n",
       "  <tbody>\n",
       "    <tr>\n",
       "      <th>0</th>\n",
       "      <td>0</td>\n",
       "      <td>1</td>\n",
       "      <td>Terminator: Dark Fate</td>\n",
       "      <td>2019</td>\n",
       "      <td>18+</td>\n",
       "      <td>6.2</td>\n",
       "      <td>81</td>\n",
       "      <td>Action &amp; Adventure</td>\n",
       "      <td>0</td>\n",
       "      <td>1</td>\n",
       "    </tr>\n",
       "    <tr>\n",
       "      <th>1</th>\n",
       "      <td>1</td>\n",
       "      <td>2</td>\n",
       "      <td>Gemini Man</td>\n",
       "      <td>2019</td>\n",
       "      <td>13+</td>\n",
       "      <td>5.7</td>\n",
       "      <td>74</td>\n",
       "      <td>Action &amp; Adventure</td>\n",
       "      <td>0</td>\n",
       "      <td>1</td>\n",
       "    </tr>\n",
       "    <tr>\n",
       "      <th>2</th>\n",
       "      <td>2</td>\n",
       "      <td>3</td>\n",
       "      <td>Rambo: Last Blood</td>\n",
       "      <td>2019</td>\n",
       "      <td>18+</td>\n",
       "      <td>6.1</td>\n",
       "      <td>72</td>\n",
       "      <td>Action &amp; Adventure</td>\n",
       "      <td>0</td>\n",
       "      <td>1</td>\n",
       "    </tr>\n",
       "    <tr>\n",
       "      <th>3</th>\n",
       "      <td>3</td>\n",
       "      <td>4</td>\n",
       "      <td>The Courier</td>\n",
       "      <td>2019</td>\n",
       "      <td>18+</td>\n",
       "      <td>4.9</td>\n",
       "      <td>50</td>\n",
       "      <td>Action &amp; Adventure</td>\n",
       "      <td>0</td>\n",
       "      <td>1</td>\n",
       "    </tr>\n",
       "    <tr>\n",
       "      <th>4</th>\n",
       "      <td>4</td>\n",
       "      <td>5</td>\n",
       "      <td>Crawl</td>\n",
       "      <td>2019</td>\n",
       "      <td>18+</td>\n",
       "      <td>6.1</td>\n",
       "      <td>79</td>\n",
       "      <td>Action &amp; Adventure</td>\n",
       "      <td>0</td>\n",
       "      <td>1</td>\n",
       "    </tr>\n",
       "    <tr>\n",
       "      <th>...</th>\n",
       "      <td>...</td>\n",
       "      <td>...</td>\n",
       "      <td>...</td>\n",
       "      <td>...</td>\n",
       "      <td>...</td>\n",
       "      <td>...</td>\n",
       "      <td>...</td>\n",
       "      <td>...</td>\n",
       "      <td>...</td>\n",
       "      <td>...</td>\n",
       "    </tr>\n",
       "    <tr>\n",
       "      <th>24659</th>\n",
       "      <td>24659</td>\n",
       "      <td>24660</td>\n",
       "      <td>Mama's Boy</td>\n",
       "      <td>2018</td>\n",
       "      <td>NaN</td>\n",
       "      <td>4.9</td>\n",
       "      <td>33</td>\n",
       "      <td>Drama</td>\n",
       "      <td>1</td>\n",
       "      <td>0</td>\n",
       "    </tr>\n",
       "    <tr>\n",
       "      <th>24660</th>\n",
       "      <td>24660</td>\n",
       "      <td>24661</td>\n",
       "      <td>I Am Jonas</td>\n",
       "      <td>2018</td>\n",
       "      <td>NaN</td>\n",
       "      <td>7.0</td>\n",
       "      <td>52</td>\n",
       "      <td>Drama</td>\n",
       "      <td>1</td>\n",
       "      <td>0</td>\n",
       "    </tr>\n",
       "    <tr>\n",
       "      <th>24661</th>\n",
       "      <td>24661</td>\n",
       "      <td>24662</td>\n",
       "      <td>An Unremarkable Christmas</td>\n",
       "      <td>2020</td>\n",
       "      <td>NaN</td>\n",
       "      <td>3.6</td>\n",
       "      <td>41</td>\n",
       "      <td>Drama</td>\n",
       "      <td>1</td>\n",
       "      <td>0</td>\n",
       "    </tr>\n",
       "    <tr>\n",
       "      <th>24662</th>\n",
       "      <td>24662</td>\n",
       "      <td>24663</td>\n",
       "      <td>BlackRose</td>\n",
       "      <td>2018</td>\n",
       "      <td>NaN</td>\n",
       "      <td>NaN</td>\n",
       "      <td>na</td>\n",
       "      <td>Drama</td>\n",
       "      <td>1</td>\n",
       "      <td>0</td>\n",
       "    </tr>\n",
       "    <tr>\n",
       "      <th>24663</th>\n",
       "      <td>24663</td>\n",
       "      <td>24664</td>\n",
       "      <td>A Very Special Drew</td>\n",
       "      <td>2000</td>\n",
       "      <td>NaN</td>\n",
       "      <td>8.0</td>\n",
       "      <td>41</td>\n",
       "      <td>Drama</td>\n",
       "      <td>1</td>\n",
       "      <td>0</td>\n",
       "    </tr>\n",
       "  </tbody>\n",
       "</table>\n",
       "<p>24664 rows × 10 columns</p>\n",
       "</div>"
      ],
      "text/plain": [
       "       Unnamed: 0     ID                      Title  Year Rating IMDb  \\\n",
       "0               0      1      Terminator: Dark Fate  2019    18+  6.2   \n",
       "1               1      2                 Gemini Man  2019    13+  5.7   \n",
       "2               2      3          Rambo: Last Blood  2019    18+  6.1   \n",
       "3               3      4                The Courier  2019    18+  4.9   \n",
       "4               4      5                      Crawl  2019    18+  6.1   \n",
       "...           ...    ...                        ...   ...    ...  ...   \n",
       "24659       24659  24660                 Mama's Boy  2018    NaN  4.9   \n",
       "24660       24660  24661                 I Am Jonas  2018    NaN  7.0   \n",
       "24661       24661  24662  An Unremarkable Christmas  2020    NaN  3.6   \n",
       "24662       24662  24663                  BlackRose  2018    NaN  NaN   \n",
       "24663       24663  24664        A Very Special Drew  2000    NaN  8.0   \n",
       "\n",
       "      Rotten Tomatoes               Genre  Netflix  Amazon Prime Video  \n",
       "0                  81  Action & Adventure        0                   1  \n",
       "1                  74  Action & Adventure        0                   1  \n",
       "2                  72  Action & Adventure        0                   1  \n",
       "3                  50  Action & Adventure        0                   1  \n",
       "4                  79  Action & Adventure        0                   1  \n",
       "...               ...                 ...      ...                 ...  \n",
       "24659              33               Drama        1                   0  \n",
       "24660              52               Drama        1                   0  \n",
       "24661              41               Drama        1                   0  \n",
       "24662              na               Drama        1                   0  \n",
       "24663              41               Drama        1                   0  \n",
       "\n",
       "[24664 rows x 10 columns]"
      ]
     },
     "execution_count": 143,
     "metadata": {},
     "output_type": "execute_result"
    }
   ],
   "source": [
    "df"
   ]
  },
  {
   "cell_type": "code",
   "execution_count": 153,
   "id": "436b2236",
   "metadata": {},
   "outputs": [
    {
     "data": {
      "image/png": "[encoded data removed]",
      "text/plain": [
       "<Figure size 800x500 with 2 Axes>"
      ]
     },
     "metadata": {},
     "output_type": "display_data"
    }
   ],
   "source": [
    " import scipy\n",
    "fig = plt.figure(figsize=(8,5))\n",
    "fig.add_subplot(1,2,1)\n",
    "res = scipy.stats.probplot(df.loc[df['Netflix']>0,'Netflix'], plot=plt)\n",
    "\n",
    "fig.add_subplot(1,2,2)\n",
    "res = scipy.stats.probplot(np.log1p(df.loc[df['Netflix']<0,'Netflix']), plot=plt)"
   ]
  },
  {
   "cell_type": "code",
   "execution_count": 154,
   "id": "76e15e4c",
   "metadata": {},
   "outputs": [
    {
     "data": {
      "image/png": "[encoded data removed]",
      "text/plain": [
       "<Figure size 800x500 with 2 Axes>"
      ]
     },
     "metadata": {},
     "output_type": "display_data"
    }
   ],
   "source": [
    " import scipy\n",
    "fig = plt.figure(figsize=(8,5))\n",
    "fig.add_subplot(1,2,1)\n",
    "res = scipy.stats.probplot(df.loc[df['Amazon Prime Video']>0,'Amazon Prime Video'], plot=plt)\n",
    "\n",
    "fig.add_subplot(1,2,2)\n",
    "res = scipy.stats.probplot(np.log1p(df.loc[df['Amazon Prime Video']<0,'Amazon Prime Video']), plot=plt)"
   ]
  },
  {
   "cell_type": "code",
   "execution_count": 158,
   "id": "8c528cad",
   "metadata": {},
   "outputs": [
    {
     "name": "stderr",
     "output_type": "stream",
     "text": [
      "C:\\Users\\GOPI CHAND\\AppData\\Local\\Temp\\ipykernel_9868\\500409769.py:5: UserWarning: \n",
      "\n",
      "`distplot` is a deprecated function and will be removed in seaborn v0.14.0.\n",
      "\n",
      "Please adapt your code to use either `displot` (a figure-level function with\n",
      "similar flexibility) or `histplot` (an axes-level function for histograms).\n",
      "\n",
      "For a guide to updating your code to use the new functions, please see\n",
      "https://gist.github.com/mwaskom/de44147ed2974457ad6372750bbe5751\n",
      "\n",
      "  sns.distplot(sales_over_zero)\n"
     ]
    },
    {
     "data": {
      "text/plain": [
       "<Axes: xlabel='ID', ylabel='Density'>"
      ]
     },
     "execution_count": 158,
     "metadata": {},
     "output_type": "execute_result"
    },
    {
     "data": {
      "image/png": "[encoded data removed]",
      "text/plain": [
       "<Figure size 800x600 with 1 Axes>"
      ]
     },
     "metadata": {},
     "output_type": "display_data"
    }
   ],
   "source": [
    " df_over_zero =df[df['ID']>0]\n",
    "df_below_zero =df[df['ID']<=0]\n",
    "sales_over_zero = np.log1p(df_over_zero['ID'])\n",
    "f, ax = plt.subplots(figsize=(8,6))\n",
    "sns.distplot(sales_over_zero)"
   ]
  },
  {
   "cell_type": "code",
   "execution_count": 160,
   "id": "02e260ed",
   "metadata": {},
   "outputs": [
    {
     "name": "stderr",
     "output_type": "stream",
     "text": [
      "C:\\Users\\GOPI CHAND\\AppData\\Local\\Temp\\ipykernel_9868\\2608448098.py:3: FutureWarning: The default value of numeric_only in DataFrame.corr is deprecated. In a future version, it will default to False. Select only valid columns or specify the value of numeric_only to silence this warning.\n",
      "  sns.heatmap(df[feature_df].corr(), annot = True)\n"
     ]
    },
    {
     "data": {
      "text/plain": [
       "<Axes: >"
      ]
     },
     "execution_count": 160,
     "metadata": {},
     "output_type": "execute_result"
    },
    {
     "data": {
      "image/png": "[encoded data removed]",
      "text/plain": [
       "<Figure size 800x500 with 2 Axes>"
      ]
     },
     "metadata": {},
     "output_type": "display_data"
    }
   ],
   "source": [
    " feature_df = ['ID', 'Rating', 'Year', 'Genre', 'IMDb',]\n",
    "plt.figure(figsize = (8,5))\n",
    "sns.heatmap(df[feature_df].corr(), annot = True)"
   ]
  },
  {
   "cell_type": "code",
   "execution_count": null,
   "id": "b2538e52",
   "metadata": {},
   "outputs": [],
   "source": []
  }
 ],
 "metadata": {
  "kernelspec": {
   "display_name": "Python 3 (ipykernel)",
   "language": "python",
   "name": "python3"
  },
  "language_info": {
   "codemirror_mode": {
    "name": "ipython",
    "version": 3
   },
   "file_extension": ".py",
   "mimetype": "text/x-python",
   "name": "python",
   "nbconvert_exporter": "python",
   "pygments_lexer": "ipython3",
   "version": "3.10.9"
  }
 },
 "nbformat": 4,
 "nbformat_minor": 5
}
